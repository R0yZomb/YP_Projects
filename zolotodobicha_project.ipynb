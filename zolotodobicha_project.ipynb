{
 "cells": [
  {
   "cell_type": "markdown",
   "metadata": {
    "toc": true
   },
   "source": [
    "<h1>Содержание<span class=\"tocSkip\"></span></h1>\n",
    "<div class=\"toc\"><ul class=\"toc-item\"><li><span><a href=\"#Подготовка-данных\" data-toc-modified-id=\"Подготовка-данных-1\"><span class=\"toc-item-num\">1&nbsp;&nbsp;</span>Подготовка данных</a></span><ul class=\"toc-item\"><li><span><a href=\"#Проверка-правильност-расчетов-эффективности-обогащения\" data-toc-modified-id=\"Проверка-правильност-расчетов-эффективности-обогащения-1.1\"><span class=\"toc-item-num\">1.1&nbsp;&nbsp;</span>Проверка правильност расчетов эффективности обогащения</a></span></li><li><span><a href=\"#Анализ-различия-признаков-в-тренировочной-и-тестовой-выборках\" data-toc-modified-id=\"Анализ-различия-признаков-в-тренировочной-и-тестовой-выборках-1.2\"><span class=\"toc-item-num\">1.2&nbsp;&nbsp;</span>Анализ различия признаков в тренировочной и тестовой выборках</a></span></li><li><span><a href=\"#Предобработка-данных\" data-toc-modified-id=\"Предобработка-данных-1.3\"><span class=\"toc-item-num\">1.3&nbsp;&nbsp;</span>Предобработка данных</a></span></li></ul></li><li><span><a href=\"#Анализ-данных\" data-toc-modified-id=\"Анализ-данных-2\"><span class=\"toc-item-num\">2&nbsp;&nbsp;</span>Анализ данных</a></span><ul class=\"toc-item\"><li><span><a href=\"#Изменение-концентрации-металлов-(Au,-Ag,-Pb)-на-различных-этапах-очистки\" data-toc-modified-id=\"Изменение-концентрации-металлов-(Au,-Ag,-Pb)-на-различных-этапах-очистки-2.1\"><span class=\"toc-item-num\">2.1&nbsp;&nbsp;</span>Изменение концентрации металлов (Au, Ag, Pb) на различных этапах очистки</a></span></li><li><span><a href=\"#Сравнение-распределения-размеров-гранул-сырья-на-обучающей-и-тестовой-выборках\" data-toc-modified-id=\"Сравнение-распределения-размеров-гранул-сырья-на-обучающей-и-тестовой-выборках-2.2\"><span class=\"toc-item-num\">2.2&nbsp;&nbsp;</span>Сравнение распределения размеров гранул сырья на обучающей и тестовой выборках</a></span></li><li><span><a href=\"#Исследование-суммарной-концентрации-всех-веществ-на-разных-стадиях\" data-toc-modified-id=\"Исследование-суммарной-концентрации-всех-веществ-на-разных-стадиях-2.3\"><span class=\"toc-item-num\">2.3&nbsp;&nbsp;</span>Исследование суммарной концентрации всех веществ на разных стадиях</a></span></li></ul></li><li><span><a href=\"#Модель\" data-toc-modified-id=\"Модель-3\"><span class=\"toc-item-num\">3&nbsp;&nbsp;</span>Модель</a></span><ul class=\"toc-item\"><li><span><a href=\"#Функция-для-вычисления-итоговой-sMAPE\" data-toc-modified-id=\"Функция-для-вычисления-итоговой-sMAPE-3.1\"><span class=\"toc-item-num\">3.1&nbsp;&nbsp;</span>Функция для вычисления итоговой sMAPE</a></span></li><li><span><a href=\"#Обучение-различных-моделей-и-оценка-их-качества-кросс-валидацией\" data-toc-modified-id=\"Обучение-различных-моделей-и-оценка-их-качества-кросс-валидацией-3.2\"><span class=\"toc-item-num\">3.2&nbsp;&nbsp;</span>Обучение различных моделей и оценка их качества кросс-валидацией</a></span></li></ul></li><li><span><a href=\"#Чек-лист-готовности-проекта\" data-toc-modified-id=\"Чек-лист-готовности-проекта-4\"><span class=\"toc-item-num\">4&nbsp;&nbsp;</span>Чек-лист готовности проекта</a></span></li></ul></div>"
   ]
  },
  {
   "cell_type": "markdown",
   "metadata": {},
   "source": [
    "# Восстановление золота из руды"
   ]
  },
  {
   "cell_type": "markdown",
   "metadata": {},
   "source": [
    "Подготовьте прототип модели машинного обучения для «Цифры». Компания разрабатывает решения для эффективной работы промышленных предприятий.\n",
    "\n",
    "Модель должна предсказать коэффициент восстановления золота из золотосодержащей руды. Используйте данные с параметрами добычи и очистки. \n",
    "\n",
    "Модель поможет оптимизировать производство, чтобы не запускать предприятие с убыточными характеристиками.\n",
    "\n",
    "Вам нужно:\n",
    "\n",
    "1. Подготовить данные;\n",
    "2. Провести исследовательский анализ данных;\n",
    "3. Построить и обучить модель.\n",
    "\n",
    "Чтобы выполнить проект, обращайтесь к библиотекам *pandas*, *matplotlib* и *sklearn.* Вам поможет их документация."
   ]
  },
  {
   "cell_type": "markdown",
   "metadata": {},
   "source": [
    "### План работы:\n",
    "\n",
    "  - Подготовить данные, убедиться, что расчеты верные\n",
    "  - Провести предобработку данных, проанализировать признаки\n",
    "  - проанализировать данные, т.е. посмотреть как менялась концентрация, размер гранул на различных этапах\n",
    "  - построить модели обучения и выбрать лучшую из них"
   ]
  },
  {
   "cell_type": "markdown",
   "metadata": {},
   "source": [
    "## Подготовка данных"
   ]
  },
  {
   "cell_type": "code",
   "execution_count": 1,
   "metadata": {},
   "outputs": [],
   "source": [
    "import pandas as pd\n",
    "import numpy as np\n",
    "import matplotlib.pyplot as plt\n",
    "import seaborn as sns\n",
    "from sklearn.metrics import mean_absolute_error, make_scorer\n",
    "from sklearn.model_selection import cross_val_score\n",
    "from sklearn.preprocessing import StandardScaler\n",
    "from sklearn.linear_model import LinearRegression\n",
    "from sklearn.tree import DecisionTreeRegressor\n",
    "from sklearn.ensemble import RandomForestRegressor\n",
    "from sklearn.dummy import DummyRegressor\n",
    "from scipy import stats as st"
   ]
  },
  {
   "cell_type": "code",
   "execution_count": 2,
   "metadata": {},
   "outputs": [],
   "source": [
    "import warnings\n",
    "warnings.simplefilter('ignore')"
   ]
  },
  {
   "cell_type": "code",
   "execution_count": 3,
   "metadata": {
    "scrolled": true
   },
   "outputs": [
    {
     "name": "stdout",
     "output_type": "stream",
     "text": [
      "<class 'pandas.core.frame.DataFrame'>\n",
      "RangeIndex: 14149 entries, 0 to 14148\n",
      "Data columns (total 87 columns):\n",
      " #   Column                                              Non-Null Count  Dtype  \n",
      "---  ------                                              --------------  -----  \n",
      " 0   date                                                14149 non-null  object \n",
      " 1   final.output.concentrate_ag                         14148 non-null  float64\n",
      " 2   final.output.concentrate_pb                         14148 non-null  float64\n",
      " 3   final.output.concentrate_sol                        13938 non-null  float64\n",
      " 4   final.output.concentrate_au                         14149 non-null  float64\n",
      " 5   final.output.recovery                               14149 non-null  float64\n",
      " 6   final.output.tail_ag                                14149 non-null  float64\n",
      " 7   final.output.tail_pb                                14049 non-null  float64\n",
      " 8   final.output.tail_sol                               14144 non-null  float64\n",
      " 9   final.output.tail_au                                14149 non-null  float64\n",
      " 10  primary_cleaner.input.sulfate                       14129 non-null  float64\n",
      " 11  primary_cleaner.input.depressant                    14117 non-null  float64\n",
      " 12  primary_cleaner.input.feed_size                     14149 non-null  float64\n",
      " 13  primary_cleaner.input.xanthate                      14049 non-null  float64\n",
      " 14  primary_cleaner.output.concentrate_ag               14149 non-null  float64\n",
      " 15  primary_cleaner.output.concentrate_pb               14063 non-null  float64\n",
      " 16  primary_cleaner.output.concentrate_sol              13863 non-null  float64\n",
      " 17  primary_cleaner.output.concentrate_au               14149 non-null  float64\n",
      " 18  primary_cleaner.output.tail_ag                      14148 non-null  float64\n",
      " 19  primary_cleaner.output.tail_pb                      14134 non-null  float64\n",
      " 20  primary_cleaner.output.tail_sol                     14103 non-null  float64\n",
      " 21  primary_cleaner.output.tail_au                      14149 non-null  float64\n",
      " 22  primary_cleaner.state.floatbank8_a_air              14145 non-null  float64\n",
      " 23  primary_cleaner.state.floatbank8_a_level            14148 non-null  float64\n",
      " 24  primary_cleaner.state.floatbank8_b_air              14145 non-null  float64\n",
      " 25  primary_cleaner.state.floatbank8_b_level            14148 non-null  float64\n",
      " 26  primary_cleaner.state.floatbank8_c_air              14147 non-null  float64\n",
      " 27  primary_cleaner.state.floatbank8_c_level            14148 non-null  float64\n",
      " 28  primary_cleaner.state.floatbank8_d_air              14146 non-null  float64\n",
      " 29  primary_cleaner.state.floatbank8_d_level            14148 non-null  float64\n",
      " 30  rougher.calculation.sulfate_to_au_concentrate       14148 non-null  float64\n",
      " 31  rougher.calculation.floatbank10_sulfate_to_au_feed  14148 non-null  float64\n",
      " 32  rougher.calculation.floatbank11_sulfate_to_au_feed  14148 non-null  float64\n",
      " 33  rougher.calculation.au_pb_ratio                     14149 non-null  float64\n",
      " 34  rougher.input.feed_ag                               14149 non-null  float64\n",
      " 35  rougher.input.feed_pb                               14049 non-null  float64\n",
      " 36  rougher.input.feed_rate                             14141 non-null  float64\n",
      " 37  rougher.input.feed_size                             14005 non-null  float64\n",
      " 38  rougher.input.feed_sol                              14071 non-null  float64\n",
      " 39  rougher.input.feed_au                               14149 non-null  float64\n",
      " 40  rougher.input.floatbank10_sulfate                   14120 non-null  float64\n",
      " 41  rougher.input.floatbank10_xanthate                  14141 non-null  float64\n",
      " 42  rougher.input.floatbank11_sulfate                   14113 non-null  float64\n",
      " 43  rougher.input.floatbank11_xanthate                  13721 non-null  float64\n",
      " 44  rougher.output.concentrate_ag                       14149 non-null  float64\n",
      " 45  rougher.output.concentrate_pb                       14149 non-null  float64\n",
      " 46  rougher.output.concentrate_sol                      14127 non-null  float64\n",
      " 47  rougher.output.concentrate_au                       14149 non-null  float64\n",
      " 48  rougher.output.recovery                             14149 non-null  float64\n",
      " 49  rougher.output.tail_ag                              14148 non-null  float64\n",
      " 50  rougher.output.tail_pb                              14149 non-null  float64\n",
      " 51  rougher.output.tail_sol                             14149 non-null  float64\n",
      " 52  rougher.output.tail_au                              14149 non-null  float64\n",
      " 53  rougher.state.floatbank10_a_air                     14148 non-null  float64\n",
      " 54  rougher.state.floatbank10_a_level                   14148 non-null  float64\n",
      " 55  rougher.state.floatbank10_b_air                     14148 non-null  float64\n",
      " 56  rougher.state.floatbank10_b_level                   14148 non-null  float64\n",
      " 57  rougher.state.floatbank10_c_air                     14148 non-null  float64\n",
      " 58  rougher.state.floatbank10_c_level                   14148 non-null  float64\n",
      " 59  rougher.state.floatbank10_d_air                     14149 non-null  float64\n",
      " 60  rougher.state.floatbank10_d_level                   14149 non-null  float64\n",
      " 61  rougher.state.floatbank10_e_air                     13713 non-null  float64\n",
      " 62  rougher.state.floatbank10_e_level                   14149 non-null  float64\n",
      " 63  rougher.state.floatbank10_f_air                     14149 non-null  float64\n",
      " 64  rougher.state.floatbank10_f_level                   14149 non-null  float64\n",
      " 65  secondary_cleaner.output.tail_ag                    14147 non-null  float64\n",
      " 66  secondary_cleaner.output.tail_pb                    14139 non-null  float64\n",
      " 67  secondary_cleaner.output.tail_sol                   12544 non-null  float64\n",
      " 68  secondary_cleaner.output.tail_au                    14149 non-null  float64\n",
      " 69  secondary_cleaner.state.floatbank2_a_air            13932 non-null  float64\n",
      " 70  secondary_cleaner.state.floatbank2_a_level          14148 non-null  float64\n",
      " 71  secondary_cleaner.state.floatbank2_b_air            14128 non-null  float64\n",
      " 72  secondary_cleaner.state.floatbank2_b_level          14148 non-null  float64\n",
      " 73  secondary_cleaner.state.floatbank3_a_air            14145 non-null  float64\n",
      " 74  secondary_cleaner.state.floatbank3_a_level          14148 non-null  float64\n",
      " 75  secondary_cleaner.state.floatbank3_b_air            14148 non-null  float64\n",
      " 76  secondary_cleaner.state.floatbank3_b_level          14148 non-null  float64\n",
      " 77  secondary_cleaner.state.floatbank4_a_air            14143 non-null  float64\n",
      " 78  secondary_cleaner.state.floatbank4_a_level          14148 non-null  float64\n",
      " 79  secondary_cleaner.state.floatbank4_b_air            14148 non-null  float64\n",
      " 80  secondary_cleaner.state.floatbank4_b_level          14148 non-null  float64\n",
      " 81  secondary_cleaner.state.floatbank5_a_air            14148 non-null  float64\n",
      " 82  secondary_cleaner.state.floatbank5_a_level          14148 non-null  float64\n",
      " 83  secondary_cleaner.state.floatbank5_b_air            14148 non-null  float64\n",
      " 84  secondary_cleaner.state.floatbank5_b_level          14148 non-null  float64\n",
      " 85  secondary_cleaner.state.floatbank6_a_air            14147 non-null  float64\n",
      " 86  secondary_cleaner.state.floatbank6_a_level          14148 non-null  float64\n",
      "dtypes: float64(86), object(1)\n",
      "memory usage: 9.4+ MB\n",
      "<class 'pandas.core.frame.DataFrame'>\n",
      "RangeIndex: 5290 entries, 0 to 5289\n",
      "Data columns (total 53 columns):\n",
      " #   Column                                      Non-Null Count  Dtype  \n",
      "---  ------                                      --------------  -----  \n",
      " 0   date                                        5290 non-null   object \n",
      " 1   primary_cleaner.input.sulfate               5286 non-null   float64\n",
      " 2   primary_cleaner.input.depressant            5285 non-null   float64\n",
      " 3   primary_cleaner.input.feed_size             5290 non-null   float64\n",
      " 4   primary_cleaner.input.xanthate              5286 non-null   float64\n",
      " 5   primary_cleaner.state.floatbank8_a_air      5290 non-null   float64\n",
      " 6   primary_cleaner.state.floatbank8_a_level    5290 non-null   float64\n",
      " 7   primary_cleaner.state.floatbank8_b_air      5290 non-null   float64\n",
      " 8   primary_cleaner.state.floatbank8_b_level    5290 non-null   float64\n",
      " 9   primary_cleaner.state.floatbank8_c_air      5290 non-null   float64\n",
      " 10  primary_cleaner.state.floatbank8_c_level    5290 non-null   float64\n",
      " 11  primary_cleaner.state.floatbank8_d_air      5290 non-null   float64\n",
      " 12  primary_cleaner.state.floatbank8_d_level    5290 non-null   float64\n",
      " 13  rougher.input.feed_ag                       5290 non-null   float64\n",
      " 14  rougher.input.feed_pb                       5290 non-null   float64\n",
      " 15  rougher.input.feed_rate                     5287 non-null   float64\n",
      " 16  rougher.input.feed_size                     5289 non-null   float64\n",
      " 17  rougher.input.feed_sol                      5269 non-null   float64\n",
      " 18  rougher.input.feed_au                       5290 non-null   float64\n",
      " 19  rougher.input.floatbank10_sulfate           5285 non-null   float64\n",
      " 20  rougher.input.floatbank10_xanthate          5290 non-null   float64\n",
      " 21  rougher.input.floatbank11_sulfate           5282 non-null   float64\n",
      " 22  rougher.input.floatbank11_xanthate          5265 non-null   float64\n",
      " 23  rougher.state.floatbank10_a_air             5290 non-null   float64\n",
      " 24  rougher.state.floatbank10_a_level           5290 non-null   float64\n",
      " 25  rougher.state.floatbank10_b_air             5290 non-null   float64\n",
      " 26  rougher.state.floatbank10_b_level           5290 non-null   float64\n",
      " 27  rougher.state.floatbank10_c_air             5290 non-null   float64\n",
      " 28  rougher.state.floatbank10_c_level           5290 non-null   float64\n",
      " 29  rougher.state.floatbank10_d_air             5290 non-null   float64\n",
      " 30  rougher.state.floatbank10_d_level           5290 non-null   float64\n",
      " 31  rougher.state.floatbank10_e_air             5290 non-null   float64\n",
      " 32  rougher.state.floatbank10_e_level           5290 non-null   float64\n",
      " 33  rougher.state.floatbank10_f_air             5290 non-null   float64\n",
      " 34  rougher.state.floatbank10_f_level           5290 non-null   float64\n",
      " 35  secondary_cleaner.state.floatbank2_a_air    5287 non-null   float64\n",
      " 36  secondary_cleaner.state.floatbank2_a_level  5290 non-null   float64\n",
      " 37  secondary_cleaner.state.floatbank2_b_air    5288 non-null   float64\n",
      " 38  secondary_cleaner.state.floatbank2_b_level  5290 non-null   float64\n",
      " 39  secondary_cleaner.state.floatbank3_a_air    5281 non-null   float64\n",
      " 40  secondary_cleaner.state.floatbank3_a_level  5290 non-null   float64\n",
      " 41  secondary_cleaner.state.floatbank3_b_air    5290 non-null   float64\n",
      " 42  secondary_cleaner.state.floatbank3_b_level  5290 non-null   float64\n",
      " 43  secondary_cleaner.state.floatbank4_a_air    5290 non-null   float64\n",
      " 44  secondary_cleaner.state.floatbank4_a_level  5290 non-null   float64\n",
      " 45  secondary_cleaner.state.floatbank4_b_air    5290 non-null   float64\n",
      " 46  secondary_cleaner.state.floatbank4_b_level  5290 non-null   float64\n",
      " 47  secondary_cleaner.state.floatbank5_a_air    5290 non-null   float64\n",
      " 48  secondary_cleaner.state.floatbank5_a_level  5290 non-null   float64\n",
      " 49  secondary_cleaner.state.floatbank5_b_air    5290 non-null   float64\n",
      " 50  secondary_cleaner.state.floatbank5_b_level  5290 non-null   float64\n",
      " 51  secondary_cleaner.state.floatbank6_a_air    5290 non-null   float64\n",
      " 52  secondary_cleaner.state.floatbank6_a_level  5290 non-null   float64\n",
      "dtypes: float64(52), object(1)\n",
      "memory usage: 2.1+ MB\n",
      "<class 'pandas.core.frame.DataFrame'>\n",
      "RangeIndex: 19439 entries, 0 to 19438\n",
      "Data columns (total 87 columns):\n",
      " #   Column                                              Non-Null Count  Dtype  \n",
      "---  ------                                              --------------  -----  \n",
      " 0   date                                                19439 non-null  object \n",
      " 1   final.output.concentrate_ag                         19438 non-null  float64\n",
      " 2   final.output.concentrate_pb                         19438 non-null  float64\n",
      " 3   final.output.concentrate_sol                        19228 non-null  float64\n",
      " 4   final.output.concentrate_au                         19439 non-null  float64\n",
      " 5   final.output.recovery                               19439 non-null  float64\n",
      " 6   final.output.tail_ag                                19438 non-null  float64\n",
      " 7   final.output.tail_pb                                19338 non-null  float64\n",
      " 8   final.output.tail_sol                               19433 non-null  float64\n",
      " 9   final.output.tail_au                                19439 non-null  float64\n",
      " 10  primary_cleaner.input.sulfate                       19415 non-null  float64\n",
      " 11  primary_cleaner.input.depressant                    19402 non-null  float64\n",
      " 12  primary_cleaner.input.feed_size                     19439 non-null  float64\n",
      " 13  primary_cleaner.input.xanthate                      19335 non-null  float64\n",
      " 14  primary_cleaner.output.concentrate_ag               19439 non-null  float64\n",
      " 15  primary_cleaner.output.concentrate_pb               19323 non-null  float64\n",
      " 16  primary_cleaner.output.concentrate_sol              19069 non-null  float64\n",
      " 17  primary_cleaner.output.concentrate_au               19439 non-null  float64\n",
      " 18  primary_cleaner.output.tail_ag                      19435 non-null  float64\n",
      " 19  primary_cleaner.output.tail_pb                      19418 non-null  float64\n",
      " 20  primary_cleaner.output.tail_sol                     19377 non-null  float64\n",
      " 21  primary_cleaner.output.tail_au                      19439 non-null  float64\n",
      " 22  primary_cleaner.state.floatbank8_a_air              19435 non-null  float64\n",
      " 23  primary_cleaner.state.floatbank8_a_level            19438 non-null  float64\n",
      " 24  primary_cleaner.state.floatbank8_b_air              19435 non-null  float64\n",
      " 25  primary_cleaner.state.floatbank8_b_level            19438 non-null  float64\n",
      " 26  primary_cleaner.state.floatbank8_c_air              19437 non-null  float64\n",
      " 27  primary_cleaner.state.floatbank8_c_level            19438 non-null  float64\n",
      " 28  primary_cleaner.state.floatbank8_d_air              19436 non-null  float64\n",
      " 29  primary_cleaner.state.floatbank8_d_level            19438 non-null  float64\n",
      " 30  rougher.calculation.sulfate_to_au_concentrate       19437 non-null  float64\n",
      " 31  rougher.calculation.floatbank10_sulfate_to_au_feed  19437 non-null  float64\n",
      " 32  rougher.calculation.floatbank11_sulfate_to_au_feed  19437 non-null  float64\n",
      " 33  rougher.calculation.au_pb_ratio                     19439 non-null  float64\n",
      " 34  rougher.input.feed_ag                               19439 non-null  float64\n",
      " 35  rougher.input.feed_pb                               19339 non-null  float64\n",
      " 36  rougher.input.feed_rate                             19428 non-null  float64\n",
      " 37  rougher.input.feed_size                             19294 non-null  float64\n",
      " 38  rougher.input.feed_sol                              19340 non-null  float64\n",
      " 39  rougher.input.feed_au                               19439 non-null  float64\n",
      " 40  rougher.input.floatbank10_sulfate                   19405 non-null  float64\n",
      " 41  rougher.input.floatbank10_xanthate                  19431 non-null  float64\n",
      " 42  rougher.input.floatbank11_sulfate                   19395 non-null  float64\n",
      " 43  rougher.input.floatbank11_xanthate                  18986 non-null  float64\n",
      " 44  rougher.output.concentrate_ag                       19439 non-null  float64\n",
      " 45  rougher.output.concentrate_pb                       19439 non-null  float64\n",
      " 46  rougher.output.concentrate_sol                      19416 non-null  float64\n",
      " 47  rougher.output.concentrate_au                       19439 non-null  float64\n",
      " 48  rougher.output.recovery                             19439 non-null  float64\n",
      " 49  rougher.output.tail_ag                              19438 non-null  float64\n",
      " 50  rougher.output.tail_pb                              19439 non-null  float64\n",
      " 51  rougher.output.tail_sol                             19439 non-null  float64\n",
      " 52  rougher.output.tail_au                              19439 non-null  float64\n",
      " 53  rougher.state.floatbank10_a_air                     19438 non-null  float64\n",
      " 54  rougher.state.floatbank10_a_level                   19438 non-null  float64\n",
      " 55  rougher.state.floatbank10_b_air                     19438 non-null  float64\n",
      " 56  rougher.state.floatbank10_b_level                   19438 non-null  float64\n",
      " 57  rougher.state.floatbank10_c_air                     19438 non-null  float64\n",
      " 58  rougher.state.floatbank10_c_level                   19438 non-null  float64\n",
      " 59  rougher.state.floatbank10_d_air                     19439 non-null  float64\n",
      " 60  rougher.state.floatbank10_d_level                   19439 non-null  float64\n",
      " 61  rougher.state.floatbank10_e_air                     19003 non-null  float64\n",
      " 62  rougher.state.floatbank10_e_level                   19439 non-null  float64\n",
      " 63  rougher.state.floatbank10_f_air                     19439 non-null  float64\n",
      " 64  rougher.state.floatbank10_f_level                   19439 non-null  float64\n",
      " 65  secondary_cleaner.output.tail_ag                    19437 non-null  float64\n",
      " 66  secondary_cleaner.output.tail_pb                    19427 non-null  float64\n",
      " 67  secondary_cleaner.output.tail_sol                   17691 non-null  float64\n",
      " 68  secondary_cleaner.output.tail_au                    19439 non-null  float64\n",
      " 69  secondary_cleaner.state.floatbank2_a_air            19219 non-null  float64\n",
      " 70  secondary_cleaner.state.floatbank2_a_level          19438 non-null  float64\n",
      " 71  secondary_cleaner.state.floatbank2_b_air            19416 non-null  float64\n",
      " 72  secondary_cleaner.state.floatbank2_b_level          19438 non-null  float64\n",
      " 73  secondary_cleaner.state.floatbank3_a_air            19426 non-null  float64\n",
      " 74  secondary_cleaner.state.floatbank3_a_level          19438 non-null  float64\n",
      " 75  secondary_cleaner.state.floatbank3_b_air            19438 non-null  float64\n",
      " 76  secondary_cleaner.state.floatbank3_b_level          19438 non-null  float64\n",
      " 77  secondary_cleaner.state.floatbank4_a_air            19433 non-null  float64\n",
      " 78  secondary_cleaner.state.floatbank4_a_level          19438 non-null  float64\n",
      " 79  secondary_cleaner.state.floatbank4_b_air            19438 non-null  float64\n",
      " 80  secondary_cleaner.state.floatbank4_b_level          19438 non-null  float64\n",
      " 81  secondary_cleaner.state.floatbank5_a_air            19438 non-null  float64\n",
      " 82  secondary_cleaner.state.floatbank5_a_level          19438 non-null  float64\n",
      " 83  secondary_cleaner.state.floatbank5_b_air            19438 non-null  float64\n",
      " 84  secondary_cleaner.state.floatbank5_b_level          19438 non-null  float64\n",
      " 85  secondary_cleaner.state.floatbank6_a_air            19437 non-null  float64\n",
      " 86  secondary_cleaner.state.floatbank6_a_level          19438 non-null  float64\n",
      "dtypes: float64(86), object(1)\n",
      "memory usage: 12.9+ MB\n"
     ]
    },
    {
     "data": {
      "text/html": [
       "<div>\n",
       "<style scoped>\n",
       "    .dataframe tbody tr th:only-of-type {\n",
       "        vertical-align: middle;\n",
       "    }\n",
       "\n",
       "    .dataframe tbody tr th {\n",
       "        vertical-align: top;\n",
       "    }\n",
       "\n",
       "    .dataframe thead th {\n",
       "        text-align: right;\n",
       "    }\n",
       "</style>\n",
       "<table border=\"1\" class=\"dataframe\">\n",
       "  <thead>\n",
       "    <tr style=\"text-align: right;\">\n",
       "      <th></th>\n",
       "      <th>date</th>\n",
       "      <th>final.output.concentrate_ag</th>\n",
       "      <th>final.output.concentrate_pb</th>\n",
       "      <th>final.output.concentrate_sol</th>\n",
       "      <th>final.output.concentrate_au</th>\n",
       "      <th>final.output.recovery</th>\n",
       "      <th>final.output.tail_ag</th>\n",
       "      <th>final.output.tail_pb</th>\n",
       "      <th>final.output.tail_sol</th>\n",
       "      <th>final.output.tail_au</th>\n",
       "      <th>...</th>\n",
       "      <th>secondary_cleaner.state.floatbank4_a_air</th>\n",
       "      <th>secondary_cleaner.state.floatbank4_a_level</th>\n",
       "      <th>secondary_cleaner.state.floatbank4_b_air</th>\n",
       "      <th>secondary_cleaner.state.floatbank4_b_level</th>\n",
       "      <th>secondary_cleaner.state.floatbank5_a_air</th>\n",
       "      <th>secondary_cleaner.state.floatbank5_a_level</th>\n",
       "      <th>secondary_cleaner.state.floatbank5_b_air</th>\n",
       "      <th>secondary_cleaner.state.floatbank5_b_level</th>\n",
       "      <th>secondary_cleaner.state.floatbank6_a_air</th>\n",
       "      <th>secondary_cleaner.state.floatbank6_a_level</th>\n",
       "    </tr>\n",
       "  </thead>\n",
       "  <tbody>\n",
       "    <tr>\n",
       "      <th>0</th>\n",
       "      <td>2016-01-15 00:00:00</td>\n",
       "      <td>6.055403</td>\n",
       "      <td>9.889648</td>\n",
       "      <td>5.507324</td>\n",
       "      <td>42.192020</td>\n",
       "      <td>70.541216</td>\n",
       "      <td>10.411962</td>\n",
       "      <td>0.895447</td>\n",
       "      <td>16.904297</td>\n",
       "      <td>2.143149</td>\n",
       "      <td>...</td>\n",
       "      <td>14.016835</td>\n",
       "      <td>-502.488007</td>\n",
       "      <td>12.099931</td>\n",
       "      <td>-504.715942</td>\n",
       "      <td>9.925633</td>\n",
       "      <td>-498.310211</td>\n",
       "      <td>8.079666</td>\n",
       "      <td>-500.470978</td>\n",
       "      <td>14.151341</td>\n",
       "      <td>-605.841980</td>\n",
       "    </tr>\n",
       "    <tr>\n",
       "      <th>1</th>\n",
       "      <td>2016-01-15 01:00:00</td>\n",
       "      <td>6.029369</td>\n",
       "      <td>9.968944</td>\n",
       "      <td>5.257781</td>\n",
       "      <td>42.701629</td>\n",
       "      <td>69.266198</td>\n",
       "      <td>10.462676</td>\n",
       "      <td>0.927452</td>\n",
       "      <td>16.634514</td>\n",
       "      <td>2.224930</td>\n",
       "      <td>...</td>\n",
       "      <td>13.992281</td>\n",
       "      <td>-505.503262</td>\n",
       "      <td>11.950531</td>\n",
       "      <td>-501.331529</td>\n",
       "      <td>10.039245</td>\n",
       "      <td>-500.169983</td>\n",
       "      <td>7.984757</td>\n",
       "      <td>-500.582168</td>\n",
       "      <td>13.998353</td>\n",
       "      <td>-599.787184</td>\n",
       "    </tr>\n",
       "    <tr>\n",
       "      <th>2</th>\n",
       "      <td>2016-01-15 02:00:00</td>\n",
       "      <td>6.055926</td>\n",
       "      <td>10.213995</td>\n",
       "      <td>5.383759</td>\n",
       "      <td>42.657501</td>\n",
       "      <td>68.116445</td>\n",
       "      <td>10.507046</td>\n",
       "      <td>0.953716</td>\n",
       "      <td>16.208849</td>\n",
       "      <td>2.257889</td>\n",
       "      <td>...</td>\n",
       "      <td>14.015015</td>\n",
       "      <td>-502.520901</td>\n",
       "      <td>11.912783</td>\n",
       "      <td>-501.133383</td>\n",
       "      <td>10.070913</td>\n",
       "      <td>-500.129135</td>\n",
       "      <td>8.013877</td>\n",
       "      <td>-500.517572</td>\n",
       "      <td>14.028663</td>\n",
       "      <td>-601.427363</td>\n",
       "    </tr>\n",
       "    <tr>\n",
       "      <th>3</th>\n",
       "      <td>2016-01-15 03:00:00</td>\n",
       "      <td>6.047977</td>\n",
       "      <td>9.977019</td>\n",
       "      <td>4.858634</td>\n",
       "      <td>42.689819</td>\n",
       "      <td>68.347543</td>\n",
       "      <td>10.422762</td>\n",
       "      <td>0.883763</td>\n",
       "      <td>16.532835</td>\n",
       "      <td>2.146849</td>\n",
       "      <td>...</td>\n",
       "      <td>14.036510</td>\n",
       "      <td>-500.857308</td>\n",
       "      <td>11.999550</td>\n",
       "      <td>-501.193686</td>\n",
       "      <td>9.970366</td>\n",
       "      <td>-499.201640</td>\n",
       "      <td>7.977324</td>\n",
       "      <td>-500.255908</td>\n",
       "      <td>14.005551</td>\n",
       "      <td>-599.996129</td>\n",
       "    </tr>\n",
       "    <tr>\n",
       "      <th>4</th>\n",
       "      <td>2016-01-15 04:00:00</td>\n",
       "      <td>6.148599</td>\n",
       "      <td>10.142511</td>\n",
       "      <td>4.939416</td>\n",
       "      <td>42.774141</td>\n",
       "      <td>66.927016</td>\n",
       "      <td>10.360302</td>\n",
       "      <td>0.792826</td>\n",
       "      <td>16.525686</td>\n",
       "      <td>2.055292</td>\n",
       "      <td>...</td>\n",
       "      <td>14.027298</td>\n",
       "      <td>-499.838632</td>\n",
       "      <td>11.953070</td>\n",
       "      <td>-501.053894</td>\n",
       "      <td>9.925709</td>\n",
       "      <td>-501.686727</td>\n",
       "      <td>7.894242</td>\n",
       "      <td>-500.356035</td>\n",
       "      <td>13.996647</td>\n",
       "      <td>-601.496691</td>\n",
       "    </tr>\n",
       "  </tbody>\n",
       "</table>\n",
       "<p>5 rows × 87 columns</p>\n",
       "</div>"
      ],
      "text/plain": [
       "                  date  final.output.concentrate_ag  \\\n",
       "0  2016-01-15 00:00:00                     6.055403   \n",
       "1  2016-01-15 01:00:00                     6.029369   \n",
       "2  2016-01-15 02:00:00                     6.055926   \n",
       "3  2016-01-15 03:00:00                     6.047977   \n",
       "4  2016-01-15 04:00:00                     6.148599   \n",
       "\n",
       "   final.output.concentrate_pb  final.output.concentrate_sol  \\\n",
       "0                     9.889648                      5.507324   \n",
       "1                     9.968944                      5.257781   \n",
       "2                    10.213995                      5.383759   \n",
       "3                     9.977019                      4.858634   \n",
       "4                    10.142511                      4.939416   \n",
       "\n",
       "   final.output.concentrate_au  final.output.recovery  final.output.tail_ag  \\\n",
       "0                    42.192020              70.541216             10.411962   \n",
       "1                    42.701629              69.266198             10.462676   \n",
       "2                    42.657501              68.116445             10.507046   \n",
       "3                    42.689819              68.347543             10.422762   \n",
       "4                    42.774141              66.927016             10.360302   \n",
       "\n",
       "   final.output.tail_pb  final.output.tail_sol  final.output.tail_au  ...  \\\n",
       "0              0.895447              16.904297              2.143149  ...   \n",
       "1              0.927452              16.634514              2.224930  ...   \n",
       "2              0.953716              16.208849              2.257889  ...   \n",
       "3              0.883763              16.532835              2.146849  ...   \n",
       "4              0.792826              16.525686              2.055292  ...   \n",
       "\n",
       "   secondary_cleaner.state.floatbank4_a_air  \\\n",
       "0                                 14.016835   \n",
       "1                                 13.992281   \n",
       "2                                 14.015015   \n",
       "3                                 14.036510   \n",
       "4                                 14.027298   \n",
       "\n",
       "   secondary_cleaner.state.floatbank4_a_level  \\\n",
       "0                                 -502.488007   \n",
       "1                                 -505.503262   \n",
       "2                                 -502.520901   \n",
       "3                                 -500.857308   \n",
       "4                                 -499.838632   \n",
       "\n",
       "   secondary_cleaner.state.floatbank4_b_air  \\\n",
       "0                                 12.099931   \n",
       "1                                 11.950531   \n",
       "2                                 11.912783   \n",
       "3                                 11.999550   \n",
       "4                                 11.953070   \n",
       "\n",
       "   secondary_cleaner.state.floatbank4_b_level  \\\n",
       "0                                 -504.715942   \n",
       "1                                 -501.331529   \n",
       "2                                 -501.133383   \n",
       "3                                 -501.193686   \n",
       "4                                 -501.053894   \n",
       "\n",
       "   secondary_cleaner.state.floatbank5_a_air  \\\n",
       "0                                  9.925633   \n",
       "1                                 10.039245   \n",
       "2                                 10.070913   \n",
       "3                                  9.970366   \n",
       "4                                  9.925709   \n",
       "\n",
       "   secondary_cleaner.state.floatbank5_a_level  \\\n",
       "0                                 -498.310211   \n",
       "1                                 -500.169983   \n",
       "2                                 -500.129135   \n",
       "3                                 -499.201640   \n",
       "4                                 -501.686727   \n",
       "\n",
       "   secondary_cleaner.state.floatbank5_b_air  \\\n",
       "0                                  8.079666   \n",
       "1                                  7.984757   \n",
       "2                                  8.013877   \n",
       "3                                  7.977324   \n",
       "4                                  7.894242   \n",
       "\n",
       "   secondary_cleaner.state.floatbank5_b_level  \\\n",
       "0                                 -500.470978   \n",
       "1                                 -500.582168   \n",
       "2                                 -500.517572   \n",
       "3                                 -500.255908   \n",
       "4                                 -500.356035   \n",
       "\n",
       "   secondary_cleaner.state.floatbank6_a_air  \\\n",
       "0                                 14.151341   \n",
       "1                                 13.998353   \n",
       "2                                 14.028663   \n",
       "3                                 14.005551   \n",
       "4                                 13.996647   \n",
       "\n",
       "   secondary_cleaner.state.floatbank6_a_level  \n",
       "0                                 -605.841980  \n",
       "1                                 -599.787184  \n",
       "2                                 -601.427363  \n",
       "3                                 -599.996129  \n",
       "4                                 -601.496691  \n",
       "\n",
       "[5 rows x 87 columns]"
      ]
     },
     "metadata": {},
     "output_type": "display_data"
    },
    {
     "data": {
      "text/html": [
       "<div>\n",
       "<style scoped>\n",
       "    .dataframe tbody tr th:only-of-type {\n",
       "        vertical-align: middle;\n",
       "    }\n",
       "\n",
       "    .dataframe tbody tr th {\n",
       "        vertical-align: top;\n",
       "    }\n",
       "\n",
       "    .dataframe thead th {\n",
       "        text-align: right;\n",
       "    }\n",
       "</style>\n",
       "<table border=\"1\" class=\"dataframe\">\n",
       "  <thead>\n",
       "    <tr style=\"text-align: right;\">\n",
       "      <th></th>\n",
       "      <th>date</th>\n",
       "      <th>primary_cleaner.input.sulfate</th>\n",
       "      <th>primary_cleaner.input.depressant</th>\n",
       "      <th>primary_cleaner.input.feed_size</th>\n",
       "      <th>primary_cleaner.input.xanthate</th>\n",
       "      <th>primary_cleaner.state.floatbank8_a_air</th>\n",
       "      <th>primary_cleaner.state.floatbank8_a_level</th>\n",
       "      <th>primary_cleaner.state.floatbank8_b_air</th>\n",
       "      <th>primary_cleaner.state.floatbank8_b_level</th>\n",
       "      <th>primary_cleaner.state.floatbank8_c_air</th>\n",
       "      <th>...</th>\n",
       "      <th>secondary_cleaner.state.floatbank4_a_air</th>\n",
       "      <th>secondary_cleaner.state.floatbank4_a_level</th>\n",
       "      <th>secondary_cleaner.state.floatbank4_b_air</th>\n",
       "      <th>secondary_cleaner.state.floatbank4_b_level</th>\n",
       "      <th>secondary_cleaner.state.floatbank5_a_air</th>\n",
       "      <th>secondary_cleaner.state.floatbank5_a_level</th>\n",
       "      <th>secondary_cleaner.state.floatbank5_b_air</th>\n",
       "      <th>secondary_cleaner.state.floatbank5_b_level</th>\n",
       "      <th>secondary_cleaner.state.floatbank6_a_air</th>\n",
       "      <th>secondary_cleaner.state.floatbank6_a_level</th>\n",
       "    </tr>\n",
       "  </thead>\n",
       "  <tbody>\n",
       "    <tr>\n",
       "      <th>0</th>\n",
       "      <td>2016-09-01 00:59:59</td>\n",
       "      <td>210.800909</td>\n",
       "      <td>14.993118</td>\n",
       "      <td>8.080000</td>\n",
       "      <td>1.005021</td>\n",
       "      <td>1398.981301</td>\n",
       "      <td>-500.225577</td>\n",
       "      <td>1399.144926</td>\n",
       "      <td>-499.919735</td>\n",
       "      <td>1400.102998</td>\n",
       "      <td>...</td>\n",
       "      <td>12.023554</td>\n",
       "      <td>-497.795834</td>\n",
       "      <td>8.016656</td>\n",
       "      <td>-501.289139</td>\n",
       "      <td>7.946562</td>\n",
       "      <td>-432.317850</td>\n",
       "      <td>4.872511</td>\n",
       "      <td>-500.037437</td>\n",
       "      <td>26.705889</td>\n",
       "      <td>-499.709414</td>\n",
       "    </tr>\n",
       "    <tr>\n",
       "      <th>1</th>\n",
       "      <td>2016-09-01 01:59:59</td>\n",
       "      <td>215.392455</td>\n",
       "      <td>14.987471</td>\n",
       "      <td>8.080000</td>\n",
       "      <td>0.990469</td>\n",
       "      <td>1398.777912</td>\n",
       "      <td>-500.057435</td>\n",
       "      <td>1398.055362</td>\n",
       "      <td>-499.778182</td>\n",
       "      <td>1396.151033</td>\n",
       "      <td>...</td>\n",
       "      <td>12.058140</td>\n",
       "      <td>-498.695773</td>\n",
       "      <td>8.130979</td>\n",
       "      <td>-499.634209</td>\n",
       "      <td>7.958270</td>\n",
       "      <td>-525.839648</td>\n",
       "      <td>4.878850</td>\n",
       "      <td>-500.162375</td>\n",
       "      <td>25.019940</td>\n",
       "      <td>-499.819438</td>\n",
       "    </tr>\n",
       "    <tr>\n",
       "      <th>2</th>\n",
       "      <td>2016-09-01 02:59:59</td>\n",
       "      <td>215.259946</td>\n",
       "      <td>12.884934</td>\n",
       "      <td>7.786667</td>\n",
       "      <td>0.996043</td>\n",
       "      <td>1398.493666</td>\n",
       "      <td>-500.868360</td>\n",
       "      <td>1398.860436</td>\n",
       "      <td>-499.764529</td>\n",
       "      <td>1398.075709</td>\n",
       "      <td>...</td>\n",
       "      <td>11.962366</td>\n",
       "      <td>-498.767484</td>\n",
       "      <td>8.096893</td>\n",
       "      <td>-500.827423</td>\n",
       "      <td>8.071056</td>\n",
       "      <td>-500.801673</td>\n",
       "      <td>4.905125</td>\n",
       "      <td>-499.828510</td>\n",
       "      <td>24.994862</td>\n",
       "      <td>-500.622559</td>\n",
       "    </tr>\n",
       "    <tr>\n",
       "      <th>3</th>\n",
       "      <td>2016-09-01 03:59:59</td>\n",
       "      <td>215.336236</td>\n",
       "      <td>12.006805</td>\n",
       "      <td>7.640000</td>\n",
       "      <td>0.863514</td>\n",
       "      <td>1399.618111</td>\n",
       "      <td>-498.863574</td>\n",
       "      <td>1397.440120</td>\n",
       "      <td>-499.211024</td>\n",
       "      <td>1400.129303</td>\n",
       "      <td>...</td>\n",
       "      <td>12.033091</td>\n",
       "      <td>-498.350935</td>\n",
       "      <td>8.074946</td>\n",
       "      <td>-499.474407</td>\n",
       "      <td>7.897085</td>\n",
       "      <td>-500.868509</td>\n",
       "      <td>4.931400</td>\n",
       "      <td>-499.963623</td>\n",
       "      <td>24.948919</td>\n",
       "      <td>-498.709987</td>\n",
       "    </tr>\n",
       "    <tr>\n",
       "      <th>4</th>\n",
       "      <td>2016-09-01 04:59:59</td>\n",
       "      <td>199.099327</td>\n",
       "      <td>10.682530</td>\n",
       "      <td>7.530000</td>\n",
       "      <td>0.805575</td>\n",
       "      <td>1401.268123</td>\n",
       "      <td>-500.808305</td>\n",
       "      <td>1398.128818</td>\n",
       "      <td>-499.504543</td>\n",
       "      <td>1402.172226</td>\n",
       "      <td>...</td>\n",
       "      <td>12.025367</td>\n",
       "      <td>-500.786497</td>\n",
       "      <td>8.054678</td>\n",
       "      <td>-500.397500</td>\n",
       "      <td>8.107890</td>\n",
       "      <td>-509.526725</td>\n",
       "      <td>4.957674</td>\n",
       "      <td>-500.360026</td>\n",
       "      <td>25.003331</td>\n",
       "      <td>-500.856333</td>\n",
       "    </tr>\n",
       "  </tbody>\n",
       "</table>\n",
       "<p>5 rows × 53 columns</p>\n",
       "</div>"
      ],
      "text/plain": [
       "                  date  primary_cleaner.input.sulfate  \\\n",
       "0  2016-09-01 00:59:59                     210.800909   \n",
       "1  2016-09-01 01:59:59                     215.392455   \n",
       "2  2016-09-01 02:59:59                     215.259946   \n",
       "3  2016-09-01 03:59:59                     215.336236   \n",
       "4  2016-09-01 04:59:59                     199.099327   \n",
       "\n",
       "   primary_cleaner.input.depressant  primary_cleaner.input.feed_size  \\\n",
       "0                         14.993118                         8.080000   \n",
       "1                         14.987471                         8.080000   \n",
       "2                         12.884934                         7.786667   \n",
       "3                         12.006805                         7.640000   \n",
       "4                         10.682530                         7.530000   \n",
       "\n",
       "   primary_cleaner.input.xanthate  primary_cleaner.state.floatbank8_a_air  \\\n",
       "0                        1.005021                             1398.981301   \n",
       "1                        0.990469                             1398.777912   \n",
       "2                        0.996043                             1398.493666   \n",
       "3                        0.863514                             1399.618111   \n",
       "4                        0.805575                             1401.268123   \n",
       "\n",
       "   primary_cleaner.state.floatbank8_a_level  \\\n",
       "0                               -500.225577   \n",
       "1                               -500.057435   \n",
       "2                               -500.868360   \n",
       "3                               -498.863574   \n",
       "4                               -500.808305   \n",
       "\n",
       "   primary_cleaner.state.floatbank8_b_air  \\\n",
       "0                             1399.144926   \n",
       "1                             1398.055362   \n",
       "2                             1398.860436   \n",
       "3                             1397.440120   \n",
       "4                             1398.128818   \n",
       "\n",
       "   primary_cleaner.state.floatbank8_b_level  \\\n",
       "0                               -499.919735   \n",
       "1                               -499.778182   \n",
       "2                               -499.764529   \n",
       "3                               -499.211024   \n",
       "4                               -499.504543   \n",
       "\n",
       "   primary_cleaner.state.floatbank8_c_air  ...  \\\n",
       "0                             1400.102998  ...   \n",
       "1                             1396.151033  ...   \n",
       "2                             1398.075709  ...   \n",
       "3                             1400.129303  ...   \n",
       "4                             1402.172226  ...   \n",
       "\n",
       "   secondary_cleaner.state.floatbank4_a_air  \\\n",
       "0                                 12.023554   \n",
       "1                                 12.058140   \n",
       "2                                 11.962366   \n",
       "3                                 12.033091   \n",
       "4                                 12.025367   \n",
       "\n",
       "   secondary_cleaner.state.floatbank4_a_level  \\\n",
       "0                                 -497.795834   \n",
       "1                                 -498.695773   \n",
       "2                                 -498.767484   \n",
       "3                                 -498.350935   \n",
       "4                                 -500.786497   \n",
       "\n",
       "   secondary_cleaner.state.floatbank4_b_air  \\\n",
       "0                                  8.016656   \n",
       "1                                  8.130979   \n",
       "2                                  8.096893   \n",
       "3                                  8.074946   \n",
       "4                                  8.054678   \n",
       "\n",
       "   secondary_cleaner.state.floatbank4_b_level  \\\n",
       "0                                 -501.289139   \n",
       "1                                 -499.634209   \n",
       "2                                 -500.827423   \n",
       "3                                 -499.474407   \n",
       "4                                 -500.397500   \n",
       "\n",
       "   secondary_cleaner.state.floatbank5_a_air  \\\n",
       "0                                  7.946562   \n",
       "1                                  7.958270   \n",
       "2                                  8.071056   \n",
       "3                                  7.897085   \n",
       "4                                  8.107890   \n",
       "\n",
       "   secondary_cleaner.state.floatbank5_a_level  \\\n",
       "0                                 -432.317850   \n",
       "1                                 -525.839648   \n",
       "2                                 -500.801673   \n",
       "3                                 -500.868509   \n",
       "4                                 -509.526725   \n",
       "\n",
       "   secondary_cleaner.state.floatbank5_b_air  \\\n",
       "0                                  4.872511   \n",
       "1                                  4.878850   \n",
       "2                                  4.905125   \n",
       "3                                  4.931400   \n",
       "4                                  4.957674   \n",
       "\n",
       "   secondary_cleaner.state.floatbank5_b_level  \\\n",
       "0                                 -500.037437   \n",
       "1                                 -500.162375   \n",
       "2                                 -499.828510   \n",
       "3                                 -499.963623   \n",
       "4                                 -500.360026   \n",
       "\n",
       "   secondary_cleaner.state.floatbank6_a_air  \\\n",
       "0                                 26.705889   \n",
       "1                                 25.019940   \n",
       "2                                 24.994862   \n",
       "3                                 24.948919   \n",
       "4                                 25.003331   \n",
       "\n",
       "   secondary_cleaner.state.floatbank6_a_level  \n",
       "0                                 -499.709414  \n",
       "1                                 -499.819438  \n",
       "2                                 -500.622559  \n",
       "3                                 -498.709987  \n",
       "4                                 -500.856333  \n",
       "\n",
       "[5 rows x 53 columns]"
      ]
     },
     "metadata": {},
     "output_type": "display_data"
    },
    {
     "data": {
      "text/html": [
       "<div>\n",
       "<style scoped>\n",
       "    .dataframe tbody tr th:only-of-type {\n",
       "        vertical-align: middle;\n",
       "    }\n",
       "\n",
       "    .dataframe tbody tr th {\n",
       "        vertical-align: top;\n",
       "    }\n",
       "\n",
       "    .dataframe thead th {\n",
       "        text-align: right;\n",
       "    }\n",
       "</style>\n",
       "<table border=\"1\" class=\"dataframe\">\n",
       "  <thead>\n",
       "    <tr style=\"text-align: right;\">\n",
       "      <th></th>\n",
       "      <th>date</th>\n",
       "      <th>final.output.concentrate_ag</th>\n",
       "      <th>final.output.concentrate_pb</th>\n",
       "      <th>final.output.concentrate_sol</th>\n",
       "      <th>final.output.concentrate_au</th>\n",
       "      <th>final.output.recovery</th>\n",
       "      <th>final.output.tail_ag</th>\n",
       "      <th>final.output.tail_pb</th>\n",
       "      <th>final.output.tail_sol</th>\n",
       "      <th>final.output.tail_au</th>\n",
       "      <th>...</th>\n",
       "      <th>secondary_cleaner.state.floatbank4_a_air</th>\n",
       "      <th>secondary_cleaner.state.floatbank4_a_level</th>\n",
       "      <th>secondary_cleaner.state.floatbank4_b_air</th>\n",
       "      <th>secondary_cleaner.state.floatbank4_b_level</th>\n",
       "      <th>secondary_cleaner.state.floatbank5_a_air</th>\n",
       "      <th>secondary_cleaner.state.floatbank5_a_level</th>\n",
       "      <th>secondary_cleaner.state.floatbank5_b_air</th>\n",
       "      <th>secondary_cleaner.state.floatbank5_b_level</th>\n",
       "      <th>secondary_cleaner.state.floatbank6_a_air</th>\n",
       "      <th>secondary_cleaner.state.floatbank6_a_level</th>\n",
       "    </tr>\n",
       "  </thead>\n",
       "  <tbody>\n",
       "    <tr>\n",
       "      <th>0</th>\n",
       "      <td>2016-01-15 00:00:00</td>\n",
       "      <td>6.055403</td>\n",
       "      <td>9.889648</td>\n",
       "      <td>5.507324</td>\n",
       "      <td>42.192020</td>\n",
       "      <td>70.541216</td>\n",
       "      <td>10.411962</td>\n",
       "      <td>0.895447</td>\n",
       "      <td>16.904297</td>\n",
       "      <td>2.143149</td>\n",
       "      <td>...</td>\n",
       "      <td>14.016835</td>\n",
       "      <td>-502.488007</td>\n",
       "      <td>12.099931</td>\n",
       "      <td>-504.715942</td>\n",
       "      <td>9.925633</td>\n",
       "      <td>-498.310211</td>\n",
       "      <td>8.079666</td>\n",
       "      <td>-500.470978</td>\n",
       "      <td>14.151341</td>\n",
       "      <td>-605.841980</td>\n",
       "    </tr>\n",
       "    <tr>\n",
       "      <th>1</th>\n",
       "      <td>2016-01-15 01:00:00</td>\n",
       "      <td>6.029369</td>\n",
       "      <td>9.968944</td>\n",
       "      <td>5.257781</td>\n",
       "      <td>42.701629</td>\n",
       "      <td>69.266198</td>\n",
       "      <td>10.462676</td>\n",
       "      <td>0.927452</td>\n",
       "      <td>16.634514</td>\n",
       "      <td>2.224930</td>\n",
       "      <td>...</td>\n",
       "      <td>13.992281</td>\n",
       "      <td>-505.503262</td>\n",
       "      <td>11.950531</td>\n",
       "      <td>-501.331529</td>\n",
       "      <td>10.039245</td>\n",
       "      <td>-500.169983</td>\n",
       "      <td>7.984757</td>\n",
       "      <td>-500.582168</td>\n",
       "      <td>13.998353</td>\n",
       "      <td>-599.787184</td>\n",
       "    </tr>\n",
       "    <tr>\n",
       "      <th>2</th>\n",
       "      <td>2016-01-15 02:00:00</td>\n",
       "      <td>6.055926</td>\n",
       "      <td>10.213995</td>\n",
       "      <td>5.383759</td>\n",
       "      <td>42.657501</td>\n",
       "      <td>68.116445</td>\n",
       "      <td>10.507046</td>\n",
       "      <td>0.953716</td>\n",
       "      <td>16.208849</td>\n",
       "      <td>2.257889</td>\n",
       "      <td>...</td>\n",
       "      <td>14.015015</td>\n",
       "      <td>-502.520901</td>\n",
       "      <td>11.912783</td>\n",
       "      <td>-501.133383</td>\n",
       "      <td>10.070913</td>\n",
       "      <td>-500.129135</td>\n",
       "      <td>8.013877</td>\n",
       "      <td>-500.517572</td>\n",
       "      <td>14.028663</td>\n",
       "      <td>-601.427363</td>\n",
       "    </tr>\n",
       "    <tr>\n",
       "      <th>3</th>\n",
       "      <td>2016-01-15 03:00:00</td>\n",
       "      <td>6.047977</td>\n",
       "      <td>9.977019</td>\n",
       "      <td>4.858634</td>\n",
       "      <td>42.689819</td>\n",
       "      <td>68.347543</td>\n",
       "      <td>10.422762</td>\n",
       "      <td>0.883763</td>\n",
       "      <td>16.532835</td>\n",
       "      <td>2.146849</td>\n",
       "      <td>...</td>\n",
       "      <td>14.036510</td>\n",
       "      <td>-500.857308</td>\n",
       "      <td>11.999550</td>\n",
       "      <td>-501.193686</td>\n",
       "      <td>9.970366</td>\n",
       "      <td>-499.201640</td>\n",
       "      <td>7.977324</td>\n",
       "      <td>-500.255908</td>\n",
       "      <td>14.005551</td>\n",
       "      <td>-599.996129</td>\n",
       "    </tr>\n",
       "    <tr>\n",
       "      <th>4</th>\n",
       "      <td>2016-01-15 04:00:00</td>\n",
       "      <td>6.148599</td>\n",
       "      <td>10.142511</td>\n",
       "      <td>4.939416</td>\n",
       "      <td>42.774141</td>\n",
       "      <td>66.927016</td>\n",
       "      <td>10.360302</td>\n",
       "      <td>0.792826</td>\n",
       "      <td>16.525686</td>\n",
       "      <td>2.055292</td>\n",
       "      <td>...</td>\n",
       "      <td>14.027298</td>\n",
       "      <td>-499.838632</td>\n",
       "      <td>11.953070</td>\n",
       "      <td>-501.053894</td>\n",
       "      <td>9.925709</td>\n",
       "      <td>-501.686727</td>\n",
       "      <td>7.894242</td>\n",
       "      <td>-500.356035</td>\n",
       "      <td>13.996647</td>\n",
       "      <td>-601.496691</td>\n",
       "    </tr>\n",
       "  </tbody>\n",
       "</table>\n",
       "<p>5 rows × 87 columns</p>\n",
       "</div>"
      ],
      "text/plain": [
       "                  date  final.output.concentrate_ag  \\\n",
       "0  2016-01-15 00:00:00                     6.055403   \n",
       "1  2016-01-15 01:00:00                     6.029369   \n",
       "2  2016-01-15 02:00:00                     6.055926   \n",
       "3  2016-01-15 03:00:00                     6.047977   \n",
       "4  2016-01-15 04:00:00                     6.148599   \n",
       "\n",
       "   final.output.concentrate_pb  final.output.concentrate_sol  \\\n",
       "0                     9.889648                      5.507324   \n",
       "1                     9.968944                      5.257781   \n",
       "2                    10.213995                      5.383759   \n",
       "3                     9.977019                      4.858634   \n",
       "4                    10.142511                      4.939416   \n",
       "\n",
       "   final.output.concentrate_au  final.output.recovery  final.output.tail_ag  \\\n",
       "0                    42.192020              70.541216             10.411962   \n",
       "1                    42.701629              69.266198             10.462676   \n",
       "2                    42.657501              68.116445             10.507046   \n",
       "3                    42.689819              68.347543             10.422762   \n",
       "4                    42.774141              66.927016             10.360302   \n",
       "\n",
       "   final.output.tail_pb  final.output.tail_sol  final.output.tail_au  ...  \\\n",
       "0              0.895447              16.904297              2.143149  ...   \n",
       "1              0.927452              16.634514              2.224930  ...   \n",
       "2              0.953716              16.208849              2.257889  ...   \n",
       "3              0.883763              16.532835              2.146849  ...   \n",
       "4              0.792826              16.525686              2.055292  ...   \n",
       "\n",
       "   secondary_cleaner.state.floatbank4_a_air  \\\n",
       "0                                 14.016835   \n",
       "1                                 13.992281   \n",
       "2                                 14.015015   \n",
       "3                                 14.036510   \n",
       "4                                 14.027298   \n",
       "\n",
       "   secondary_cleaner.state.floatbank4_a_level  \\\n",
       "0                                 -502.488007   \n",
       "1                                 -505.503262   \n",
       "2                                 -502.520901   \n",
       "3                                 -500.857308   \n",
       "4                                 -499.838632   \n",
       "\n",
       "   secondary_cleaner.state.floatbank4_b_air  \\\n",
       "0                                 12.099931   \n",
       "1                                 11.950531   \n",
       "2                                 11.912783   \n",
       "3                                 11.999550   \n",
       "4                                 11.953070   \n",
       "\n",
       "   secondary_cleaner.state.floatbank4_b_level  \\\n",
       "0                                 -504.715942   \n",
       "1                                 -501.331529   \n",
       "2                                 -501.133383   \n",
       "3                                 -501.193686   \n",
       "4                                 -501.053894   \n",
       "\n",
       "   secondary_cleaner.state.floatbank5_a_air  \\\n",
       "0                                  9.925633   \n",
       "1                                 10.039245   \n",
       "2                                 10.070913   \n",
       "3                                  9.970366   \n",
       "4                                  9.925709   \n",
       "\n",
       "   secondary_cleaner.state.floatbank5_a_level  \\\n",
       "0                                 -498.310211   \n",
       "1                                 -500.169983   \n",
       "2                                 -500.129135   \n",
       "3                                 -499.201640   \n",
       "4                                 -501.686727   \n",
       "\n",
       "   secondary_cleaner.state.floatbank5_b_air  \\\n",
       "0                                  8.079666   \n",
       "1                                  7.984757   \n",
       "2                                  8.013877   \n",
       "3                                  7.977324   \n",
       "4                                  7.894242   \n",
       "\n",
       "   secondary_cleaner.state.floatbank5_b_level  \\\n",
       "0                                 -500.470978   \n",
       "1                                 -500.582168   \n",
       "2                                 -500.517572   \n",
       "3                                 -500.255908   \n",
       "4                                 -500.356035   \n",
       "\n",
       "   secondary_cleaner.state.floatbank6_a_air  \\\n",
       "0                                 14.151341   \n",
       "1                                 13.998353   \n",
       "2                                 14.028663   \n",
       "3                                 14.005551   \n",
       "4                                 13.996647   \n",
       "\n",
       "   secondary_cleaner.state.floatbank6_a_level  \n",
       "0                                 -605.841980  \n",
       "1                                 -599.787184  \n",
       "2                                 -601.427363  \n",
       "3                                 -599.996129  \n",
       "4                                 -601.496691  \n",
       "\n",
       "[5 rows x 87 columns]"
      ]
     },
     "metadata": {},
     "output_type": "display_data"
    }
   ],
   "source": [
    "df_train = pd.read_csv('C:/Users/Денис/Desktop/Проекты/Zolotodobicha/gold_recovery_train_new.csv')\n",
    "df_test = pd.read_csv('C:/Users/Денис/Desktop/Проекты/Zolotodobicha/gold_recovery_test_new.csv')\n",
    "df_full = pd.read_csv('C:/Users/Денис/Desktop/Проекты/Zolotodobicha/gold_recovery_full_new.csv')\n",
    "\n",
    "df_train.info()\n",
    "df_test.info()\n",
    "df_full.info()\n",
    "\n",
    "display(df_train.head())\n",
    "display(df_test.head())\n",
    "display(df_full.head())"
   ]
  },
  {
   "cell_type": "markdown",
   "metadata": {},
   "source": [
    "При первичном просмотре данных довольно много, и во многих строках присутсвуют пропуски, с ними мы разберемся позже. Также очевидно, что датасет фулл - это общий датасет из которого, по каким-то признакам получили два датасета для тестовой и обучающей выборки, причем не все парметры вошли в тестовый датасет. Их проанализируем чуть позже."
   ]
  },
  {
   "cell_type": "markdown",
   "metadata": {},
   "source": [
    "### Проверка правильност расчетов эффективности обогащения"
   ]
  },
  {
   "cell_type": "code",
   "execution_count": 4,
   "metadata": {},
   "outputs": [
    {
     "data": {
      "text/plain": [
       "0    87.107763\n",
       "1    86.843261\n",
       "2    86.842308\n",
       "3    87.226430\n",
       "4    86.688794\n",
       "Name: rougher.output.recovery, dtype: float64"
      ]
     },
     "execution_count": 4,
     "metadata": {},
     "output_type": "execute_result"
    }
   ],
   "source": [
    "#Создадим выборку с посчитанными результатами из датасета\n",
    "recovery_train = df_train['rougher.output.recovery']\n",
    "recovery_train[:5]"
   ]
  },
  {
   "cell_type": "markdown",
   "metadata": {},
   "source": [
    "Формула:\n",
    "\n",
    "Recovery = (C * (F-T) / F * (C-T)) * 100%, где:\n",
    "\n",
    "  - C — доля золота в концентрате после флотации/очистки;  \n",
    "  - F — доля золота в сырье/концентрате до флотации/очистки; \n",
    "  - T — доля золота в отвальных хвостах после флотации/очистки. \n",
    "\n",
    "Тогда для нашей таблицы: С - rougher.output.concentrate_au; F - rougher.input.feed_au; T - rougher.output.tail_au\n",
    "  "
   ]
  },
  {
   "cell_type": "code",
   "execution_count": 5,
   "metadata": {},
   "outputs": [
    {
     "data": {
      "text/plain": [
       "0    87.107763\n",
       "1    86.843261\n",
       "2    86.842308\n",
       "3    87.226430\n",
       "4    86.688794\n",
       "dtype: float64"
      ]
     },
     "execution_count": 5,
     "metadata": {},
     "output_type": "execute_result"
    }
   ],
   "source": [
    "#Рассчитаем коэффециент обогащения золота, согласно формуле выше\n",
    "recovery = ((df_train['rougher.output.concentrate_au'] * (df_train['rougher.input.feed_au'] - \n",
    "                                                          df_train['rougher.output.tail_au'])) / \n",
    "            (df_train['rougher.input.feed_au'] * (df_train['rougher.output.concentrate_au'] - \n",
    "                                                  df_train['rougher.output.tail_au'])))*100\n",
    "\n",
    "recovery[:5]"
   ]
  },
  {
   "cell_type": "code",
   "execution_count": 6,
   "metadata": {},
   "outputs": [
    {
     "name": "stdout",
     "output_type": "stream",
     "text": [
      "Средняя абсолютная ошибка: 0.0\n"
     ]
    }
   ],
   "source": [
    "#Рассчитаем МАЕ между рассчетами и значениями признака из сета, с округлением до 2 знака\n",
    "MAE = mean_absolute_error(recovery, recovery_train).round(2)\n",
    "print('Средняя абсолютная ошибка:', MAE)"
   ]
  },
  {
   "cell_type": "code",
   "execution_count": 7,
   "metadata": {},
   "outputs": [
    {
     "data": {
      "text/plain": [
       "0    70.541216\n",
       "1    69.266198\n",
       "2    68.116445\n",
       "3    68.347543\n",
       "4    66.927016\n",
       "dtype: float64"
      ]
     },
     "execution_count": 7,
     "metadata": {},
     "output_type": "execute_result"
    }
   ],
   "source": [
    "#длячернового концентрата рассчитали, теперь проверим для финального продукта\n",
    "recovery_final = ((df_train['final.output.concentrate_au'] * (df_train['rougher.input.feed_au'] - \n",
    "                                                          df_train['final.output.tail_au'])) / \n",
    "            (df_train['rougher.input.feed_au'] * (df_train['final.output.concentrate_au'] - \n",
    "                                                  df_train['final.output.tail_au'])))*100\n",
    "\n",
    "recovery_final[:5]"
   ]
  },
  {
   "cell_type": "code",
   "execution_count": 8,
   "metadata": {},
   "outputs": [
    {
     "data": {
      "text/plain": [
       "0    70.541216\n",
       "1    69.266198\n",
       "2    68.116445\n",
       "3    68.347543\n",
       "4    66.927016\n",
       "Name: final.output.recovery, dtype: float64"
      ]
     },
     "execution_count": 8,
     "metadata": {},
     "output_type": "execute_result"
    }
   ],
   "source": [
    "recovery_train_final = df_train['final.output.recovery']\n",
    "recovery_train_final[:5]"
   ]
  },
  {
   "cell_type": "code",
   "execution_count": 9,
   "metadata": {},
   "outputs": [
    {
     "name": "stdout",
     "output_type": "stream",
     "text": [
      "Средняя абсолютная ошибка: 0.0\n"
     ]
    }
   ],
   "source": [
    "#Рассчитаем МАЕ \n",
    "MAE = mean_absolute_error(recovery_final, recovery_train_final).round(2)\n",
    "print('Средняя абсолютная ошибка:', MAE)"
   ]
  },
  {
   "cell_type": "markdown",
   "metadata": {},
   "source": [
    "Результаты в исходном датасете посчитаны верно."
   ]
  },
  {
   "cell_type": "markdown",
   "metadata": {},
   "source": [
    "### Анализ различия признаков в тренировочной и тестовой выборках"
   ]
  },
  {
   "cell_type": "code",
   "execution_count": 10,
   "metadata": {
    "scrolled": true
   },
   "outputs": [
    {
     "name": "stdout",
     "output_type": "stream",
     "text": [
      "<class 'pandas.core.frame.DataFrame'>\n",
      "RangeIndex: 14149 entries, 0 to 14148\n",
      "Data columns (total 34 columns):\n",
      " #   Column                                              Non-Null Count  Dtype  \n",
      "---  ------                                              --------------  -----  \n",
      " 0   final.output.concentrate_ag                         14148 non-null  float64\n",
      " 1   final.output.concentrate_pb                         14148 non-null  float64\n",
      " 2   final.output.concentrate_sol                        13938 non-null  float64\n",
      " 3   final.output.concentrate_au                         14149 non-null  float64\n",
      " 4   final.output.recovery                               14149 non-null  float64\n",
      " 5   final.output.tail_ag                                14149 non-null  float64\n",
      " 6   final.output.tail_pb                                14049 non-null  float64\n",
      " 7   final.output.tail_sol                               14144 non-null  float64\n",
      " 8   final.output.tail_au                                14149 non-null  float64\n",
      " 9   primary_cleaner.output.concentrate_ag               14149 non-null  float64\n",
      " 10  primary_cleaner.output.concentrate_pb               14063 non-null  float64\n",
      " 11  primary_cleaner.output.concentrate_sol              13863 non-null  float64\n",
      " 12  primary_cleaner.output.concentrate_au               14149 non-null  float64\n",
      " 13  primary_cleaner.output.tail_ag                      14148 non-null  float64\n",
      " 14  primary_cleaner.output.tail_pb                      14134 non-null  float64\n",
      " 15  primary_cleaner.output.tail_sol                     14103 non-null  float64\n",
      " 16  primary_cleaner.output.tail_au                      14149 non-null  float64\n",
      " 17  rougher.calculation.sulfate_to_au_concentrate       14148 non-null  float64\n",
      " 18  rougher.calculation.floatbank10_sulfate_to_au_feed  14148 non-null  float64\n",
      " 19  rougher.calculation.floatbank11_sulfate_to_au_feed  14148 non-null  float64\n",
      " 20  rougher.calculation.au_pb_ratio                     14149 non-null  float64\n",
      " 21  rougher.output.concentrate_ag                       14149 non-null  float64\n",
      " 22  rougher.output.concentrate_pb                       14149 non-null  float64\n",
      " 23  rougher.output.concentrate_sol                      14127 non-null  float64\n",
      " 24  rougher.output.concentrate_au                       14149 non-null  float64\n",
      " 25  rougher.output.recovery                             14149 non-null  float64\n",
      " 26  rougher.output.tail_ag                              14148 non-null  float64\n",
      " 27  rougher.output.tail_pb                              14149 non-null  float64\n",
      " 28  rougher.output.tail_sol                             14149 non-null  float64\n",
      " 29  rougher.output.tail_au                              14149 non-null  float64\n",
      " 30  secondary_cleaner.output.tail_ag                    14147 non-null  float64\n",
      " 31  secondary_cleaner.output.tail_pb                    14139 non-null  float64\n",
      " 32  secondary_cleaner.output.tail_sol                   12544 non-null  float64\n",
      " 33  secondary_cleaner.output.tail_au                    14149 non-null  float64\n",
      "dtypes: float64(34)\n",
      "memory usage: 3.7 MB\n"
     ]
    },
    {
     "data": {
      "text/html": [
       "<div>\n",
       "<style scoped>\n",
       "    .dataframe tbody tr th:only-of-type {\n",
       "        vertical-align: middle;\n",
       "    }\n",
       "\n",
       "    .dataframe tbody tr th {\n",
       "        vertical-align: top;\n",
       "    }\n",
       "\n",
       "    .dataframe thead th {\n",
       "        text-align: right;\n",
       "    }\n",
       "</style>\n",
       "<table border=\"1\" class=\"dataframe\">\n",
       "  <thead>\n",
       "    <tr style=\"text-align: right;\">\n",
       "      <th></th>\n",
       "      <th>final.output.concentrate_ag</th>\n",
       "      <th>final.output.concentrate_pb</th>\n",
       "      <th>final.output.concentrate_sol</th>\n",
       "      <th>final.output.concentrate_au</th>\n",
       "      <th>final.output.recovery</th>\n",
       "      <th>final.output.tail_ag</th>\n",
       "      <th>final.output.tail_pb</th>\n",
       "      <th>final.output.tail_sol</th>\n",
       "      <th>final.output.tail_au</th>\n",
       "      <th>primary_cleaner.output.concentrate_ag</th>\n",
       "      <th>...</th>\n",
       "      <th>rougher.output.concentrate_au</th>\n",
       "      <th>rougher.output.recovery</th>\n",
       "      <th>rougher.output.tail_ag</th>\n",
       "      <th>rougher.output.tail_pb</th>\n",
       "      <th>rougher.output.tail_sol</th>\n",
       "      <th>rougher.output.tail_au</th>\n",
       "      <th>secondary_cleaner.output.tail_ag</th>\n",
       "      <th>secondary_cleaner.output.tail_pb</th>\n",
       "      <th>secondary_cleaner.output.tail_sol</th>\n",
       "      <th>secondary_cleaner.output.tail_au</th>\n",
       "    </tr>\n",
       "  </thead>\n",
       "  <tbody>\n",
       "    <tr>\n",
       "      <th>0</th>\n",
       "      <td>6.055403</td>\n",
       "      <td>9.889648</td>\n",
       "      <td>5.507324</td>\n",
       "      <td>42.192020</td>\n",
       "      <td>70.541216</td>\n",
       "      <td>10.411962</td>\n",
       "      <td>0.895447</td>\n",
       "      <td>16.904297</td>\n",
       "      <td>2.143149</td>\n",
       "      <td>8.547551</td>\n",
       "      <td>...</td>\n",
       "      <td>19.793808</td>\n",
       "      <td>87.107763</td>\n",
       "      <td>5.008018</td>\n",
       "      <td>0.508728</td>\n",
       "      <td>19.154297</td>\n",
       "      <td>1.170244</td>\n",
       "      <td>14.500184</td>\n",
       "      <td>4.694824</td>\n",
       "      <td>8.764648</td>\n",
       "      <td>2.606185</td>\n",
       "    </tr>\n",
       "    <tr>\n",
       "      <th>1</th>\n",
       "      <td>6.029369</td>\n",
       "      <td>9.968944</td>\n",
       "      <td>5.257781</td>\n",
       "      <td>42.701629</td>\n",
       "      <td>69.266198</td>\n",
       "      <td>10.462676</td>\n",
       "      <td>0.927452</td>\n",
       "      <td>16.634514</td>\n",
       "      <td>2.224930</td>\n",
       "      <td>8.558743</td>\n",
       "      <td>...</td>\n",
       "      <td>20.050975</td>\n",
       "      <td>86.843261</td>\n",
       "      <td>4.955378</td>\n",
       "      <td>0.536689</td>\n",
       "      <td>18.965234</td>\n",
       "      <td>1.184827</td>\n",
       "      <td>14.265474</td>\n",
       "      <td>4.592547</td>\n",
       "      <td>9.001494</td>\n",
       "      <td>2.488248</td>\n",
       "    </tr>\n",
       "    <tr>\n",
       "      <th>2</th>\n",
       "      <td>6.055926</td>\n",
       "      <td>10.213995</td>\n",
       "      <td>5.383759</td>\n",
       "      <td>42.657501</td>\n",
       "      <td>68.116445</td>\n",
       "      <td>10.507046</td>\n",
       "      <td>0.953716</td>\n",
       "      <td>16.208849</td>\n",
       "      <td>2.257889</td>\n",
       "      <td>8.603505</td>\n",
       "      <td>...</td>\n",
       "      <td>19.737170</td>\n",
       "      <td>86.842308</td>\n",
       "      <td>4.843460</td>\n",
       "      <td>0.546416</td>\n",
       "      <td>18.808533</td>\n",
       "      <td>1.162562</td>\n",
       "      <td>14.115662</td>\n",
       "      <td>4.624775</td>\n",
       "      <td>8.842896</td>\n",
       "      <td>2.458187</td>\n",
       "    </tr>\n",
       "    <tr>\n",
       "      <th>3</th>\n",
       "      <td>6.047977</td>\n",
       "      <td>9.977019</td>\n",
       "      <td>4.858634</td>\n",
       "      <td>42.689819</td>\n",
       "      <td>68.347543</td>\n",
       "      <td>10.422762</td>\n",
       "      <td>0.883763</td>\n",
       "      <td>16.532835</td>\n",
       "      <td>2.146849</td>\n",
       "      <td>7.221879</td>\n",
       "      <td>...</td>\n",
       "      <td>19.320810</td>\n",
       "      <td>87.226430</td>\n",
       "      <td>4.655288</td>\n",
       "      <td>0.542525</td>\n",
       "      <td>19.330200</td>\n",
       "      <td>1.079755</td>\n",
       "      <td>13.732071</td>\n",
       "      <td>4.482453</td>\n",
       "      <td>9.122857</td>\n",
       "      <td>2.322062</td>\n",
       "    </tr>\n",
       "    <tr>\n",
       "      <th>4</th>\n",
       "      <td>6.148599</td>\n",
       "      <td>10.142511</td>\n",
       "      <td>4.939416</td>\n",
       "      <td>42.774141</td>\n",
       "      <td>66.927016</td>\n",
       "      <td>10.360302</td>\n",
       "      <td>0.792826</td>\n",
       "      <td>16.525686</td>\n",
       "      <td>2.055292</td>\n",
       "      <td>9.089428</td>\n",
       "      <td>...</td>\n",
       "      <td>19.216101</td>\n",
       "      <td>86.688794</td>\n",
       "      <td>4.552800</td>\n",
       "      <td>0.515438</td>\n",
       "      <td>19.267422</td>\n",
       "      <td>1.012642</td>\n",
       "      <td>14.079996</td>\n",
       "      <td>4.470737</td>\n",
       "      <td>8.871028</td>\n",
       "      <td>2.330448</td>\n",
       "    </tr>\n",
       "  </tbody>\n",
       "</table>\n",
       "<p>5 rows × 34 columns</p>\n",
       "</div>"
      ],
      "text/plain": [
       "   final.output.concentrate_ag  final.output.concentrate_pb  \\\n",
       "0                     6.055403                     9.889648   \n",
       "1                     6.029369                     9.968944   \n",
       "2                     6.055926                    10.213995   \n",
       "3                     6.047977                     9.977019   \n",
       "4                     6.148599                    10.142511   \n",
       "\n",
       "   final.output.concentrate_sol  final.output.concentrate_au  \\\n",
       "0                      5.507324                    42.192020   \n",
       "1                      5.257781                    42.701629   \n",
       "2                      5.383759                    42.657501   \n",
       "3                      4.858634                    42.689819   \n",
       "4                      4.939416                    42.774141   \n",
       "\n",
       "   final.output.recovery  final.output.tail_ag  final.output.tail_pb  \\\n",
       "0              70.541216             10.411962              0.895447   \n",
       "1              69.266198             10.462676              0.927452   \n",
       "2              68.116445             10.507046              0.953716   \n",
       "3              68.347543             10.422762              0.883763   \n",
       "4              66.927016             10.360302              0.792826   \n",
       "\n",
       "   final.output.tail_sol  final.output.tail_au  \\\n",
       "0              16.904297              2.143149   \n",
       "1              16.634514              2.224930   \n",
       "2              16.208849              2.257889   \n",
       "3              16.532835              2.146849   \n",
       "4              16.525686              2.055292   \n",
       "\n",
       "   primary_cleaner.output.concentrate_ag  ...  rougher.output.concentrate_au  \\\n",
       "0                               8.547551  ...                      19.793808   \n",
       "1                               8.558743  ...                      20.050975   \n",
       "2                               8.603505  ...                      19.737170   \n",
       "3                               7.221879  ...                      19.320810   \n",
       "4                               9.089428  ...                      19.216101   \n",
       "\n",
       "   rougher.output.recovery  rougher.output.tail_ag  rougher.output.tail_pb  \\\n",
       "0                87.107763                5.008018                0.508728   \n",
       "1                86.843261                4.955378                0.536689   \n",
       "2                86.842308                4.843460                0.546416   \n",
       "3                87.226430                4.655288                0.542525   \n",
       "4                86.688794                4.552800                0.515438   \n",
       "\n",
       "   rougher.output.tail_sol  rougher.output.tail_au  \\\n",
       "0                19.154297                1.170244   \n",
       "1                18.965234                1.184827   \n",
       "2                18.808533                1.162562   \n",
       "3                19.330200                1.079755   \n",
       "4                19.267422                1.012642   \n",
       "\n",
       "   secondary_cleaner.output.tail_ag  secondary_cleaner.output.tail_pb  \\\n",
       "0                         14.500184                          4.694824   \n",
       "1                         14.265474                          4.592547   \n",
       "2                         14.115662                          4.624775   \n",
       "3                         13.732071                          4.482453   \n",
       "4                         14.079996                          4.470737   \n",
       "\n",
       "   secondary_cleaner.output.tail_sol  secondary_cleaner.output.tail_au  \n",
       "0                           8.764648                          2.606185  \n",
       "1                           9.001494                          2.488248  \n",
       "2                           8.842896                          2.458187  \n",
       "3                           9.122857                          2.322062  \n",
       "4                           8.871028                          2.330448  \n",
       "\n",
       "[5 rows x 34 columns]"
      ]
     },
     "execution_count": 10,
     "metadata": {},
     "output_type": "execute_result"
    }
   ],
   "source": [
    "#cоздадим список с названиями колонок, которые нужно удалить\n",
    "to_drop = df_test.columns\n",
    "#удалим дублирующиеся столбцы из таблицы,  чтобы можно было посмотреть и проанализировать признаки различия между таблицами\n",
    "with_drop = df_train.drop(to_drop, axis=1)\n",
    "with_drop.info()\n",
    "with_drop[:5]"
   ]
  },
  {
   "cell_type": "markdown",
   "metadata": {},
   "source": [
    "- final.output - конечные параметры в концентрате и хвостах, а также эффективность обогащения продукта после всего процесса.\n",
    "- primary_cleaner.output - аналогично написанному выше, за исключением того, что параметры приведены после первичной очистки.\n",
    "- secondary_cleaner.output - после вторичной очистки.\n",
    "- rougher.output - после этапа флотации.\n",
    "- rougher.calculation - рассчитанные параметры для этапа флотации.\n",
    "\n",
    "Как мы видим, различия между тестовой и тренировочной выборкой заключаются в том, что в тестовом датасете отсутствуют рассчетные параметры, либо параметры полученные непосредственно после какого-либо этапа. Очевидно, что данные парметры сложно получить/измерить во время выполнения технологического процесса. Сделано, это очевидно для того, чтобы сделанная нами модель прогнозировала результат, для различных этапов, тлько по входящим параметрам."
   ]
  },
  {
   "cell_type": "markdown",
   "metadata": {},
   "source": [
    "### Предобработка данных"
   ]
  },
  {
   "cell_type": "code",
   "execution_count": 11,
   "metadata": {},
   "outputs": [
    {
     "name": "stdout",
     "output_type": "stream",
     "text": [
      "<class 'pandas.core.frame.DataFrame'>\n",
      "RangeIndex: 14149 entries, 0 to 14148\n",
      "Data columns (total 87 columns):\n",
      " #   Column                                              Non-Null Count  Dtype  \n",
      "---  ------                                              --------------  -----  \n",
      " 0   date                                                14149 non-null  object \n",
      " 1   final.output.concentrate_ag                         14149 non-null  float64\n",
      " 2   final.output.concentrate_pb                         14149 non-null  float64\n",
      " 3   final.output.concentrate_sol                        14149 non-null  float64\n",
      " 4   final.output.concentrate_au                         14149 non-null  float64\n",
      " 5   final.output.recovery                               14149 non-null  float64\n",
      " 6   final.output.tail_ag                                14149 non-null  float64\n",
      " 7   final.output.tail_pb                                14149 non-null  float64\n",
      " 8   final.output.tail_sol                               14149 non-null  float64\n",
      " 9   final.output.tail_au                                14149 non-null  float64\n",
      " 10  primary_cleaner.input.sulfate                       14149 non-null  float64\n",
      " 11  primary_cleaner.input.depressant                    14149 non-null  float64\n",
      " 12  primary_cleaner.input.feed_size                     14149 non-null  float64\n",
      " 13  primary_cleaner.input.xanthate                      14149 non-null  float64\n",
      " 14  primary_cleaner.output.concentrate_ag               14149 non-null  float64\n",
      " 15  primary_cleaner.output.concentrate_pb               14149 non-null  float64\n",
      " 16  primary_cleaner.output.concentrate_sol              14149 non-null  float64\n",
      " 17  primary_cleaner.output.concentrate_au               14149 non-null  float64\n",
      " 18  primary_cleaner.output.tail_ag                      14149 non-null  float64\n",
      " 19  primary_cleaner.output.tail_pb                      14149 non-null  float64\n",
      " 20  primary_cleaner.output.tail_sol                     14149 non-null  float64\n",
      " 21  primary_cleaner.output.tail_au                      14149 non-null  float64\n",
      " 22  primary_cleaner.state.floatbank8_a_air              14149 non-null  float64\n",
      " 23  primary_cleaner.state.floatbank8_a_level            14149 non-null  float64\n",
      " 24  primary_cleaner.state.floatbank8_b_air              14149 non-null  float64\n",
      " 25  primary_cleaner.state.floatbank8_b_level            14149 non-null  float64\n",
      " 26  primary_cleaner.state.floatbank8_c_air              14149 non-null  float64\n",
      " 27  primary_cleaner.state.floatbank8_c_level            14149 non-null  float64\n",
      " 28  primary_cleaner.state.floatbank8_d_air              14149 non-null  float64\n",
      " 29  primary_cleaner.state.floatbank8_d_level            14149 non-null  float64\n",
      " 30  rougher.calculation.sulfate_to_au_concentrate       14149 non-null  float64\n",
      " 31  rougher.calculation.floatbank10_sulfate_to_au_feed  14149 non-null  float64\n",
      " 32  rougher.calculation.floatbank11_sulfate_to_au_feed  14149 non-null  float64\n",
      " 33  rougher.calculation.au_pb_ratio                     14149 non-null  float64\n",
      " 34  rougher.input.feed_ag                               14149 non-null  float64\n",
      " 35  rougher.input.feed_pb                               14149 non-null  float64\n",
      " 36  rougher.input.feed_rate                             14149 non-null  float64\n",
      " 37  rougher.input.feed_size                             14149 non-null  float64\n",
      " 38  rougher.input.feed_sol                              14149 non-null  float64\n",
      " 39  rougher.input.feed_au                               14149 non-null  float64\n",
      " 40  rougher.input.floatbank10_sulfate                   14149 non-null  float64\n",
      " 41  rougher.input.floatbank10_xanthate                  14149 non-null  float64\n",
      " 42  rougher.input.floatbank11_sulfate                   14149 non-null  float64\n",
      " 43  rougher.input.floatbank11_xanthate                  14149 non-null  float64\n",
      " 44  rougher.output.concentrate_ag                       14149 non-null  float64\n",
      " 45  rougher.output.concentrate_pb                       14149 non-null  float64\n",
      " 46  rougher.output.concentrate_sol                      14149 non-null  float64\n",
      " 47  rougher.output.concentrate_au                       14149 non-null  float64\n",
      " 48  rougher.output.recovery                             14149 non-null  float64\n",
      " 49  rougher.output.tail_ag                              14149 non-null  float64\n",
      " 50  rougher.output.tail_pb                              14149 non-null  float64\n",
      " 51  rougher.output.tail_sol                             14149 non-null  float64\n",
      " 52  rougher.output.tail_au                              14149 non-null  float64\n",
      " 53  rougher.state.floatbank10_a_air                     14149 non-null  float64\n",
      " 54  rougher.state.floatbank10_a_level                   14149 non-null  float64\n",
      " 55  rougher.state.floatbank10_b_air                     14149 non-null  float64\n",
      " 56  rougher.state.floatbank10_b_level                   14149 non-null  float64\n",
      " 57  rougher.state.floatbank10_c_air                     14149 non-null  float64\n",
      " 58  rougher.state.floatbank10_c_level                   14149 non-null  float64\n",
      " 59  rougher.state.floatbank10_d_air                     14149 non-null  float64\n",
      " 60  rougher.state.floatbank10_d_level                   14149 non-null  float64\n",
      " 61  rougher.state.floatbank10_e_air                     14149 non-null  float64\n",
      " 62  rougher.state.floatbank10_e_level                   14149 non-null  float64\n",
      " 63  rougher.state.floatbank10_f_air                     14149 non-null  float64\n",
      " 64  rougher.state.floatbank10_f_level                   14149 non-null  float64\n",
      " 65  secondary_cleaner.output.tail_ag                    14149 non-null  float64\n",
      " 66  secondary_cleaner.output.tail_pb                    14149 non-null  float64\n",
      " 67  secondary_cleaner.output.tail_sol                   14149 non-null  float64\n",
      " 68  secondary_cleaner.output.tail_au                    14149 non-null  float64\n",
      " 69  secondary_cleaner.state.floatbank2_a_air            14149 non-null  float64\n",
      " 70  secondary_cleaner.state.floatbank2_a_level          14149 non-null  float64\n",
      " 71  secondary_cleaner.state.floatbank2_b_air            14149 non-null  float64\n",
      " 72  secondary_cleaner.state.floatbank2_b_level          14149 non-null  float64\n",
      " 73  secondary_cleaner.state.floatbank3_a_air            14149 non-null  float64\n",
      " 74  secondary_cleaner.state.floatbank3_a_level          14149 non-null  float64\n",
      " 75  secondary_cleaner.state.floatbank3_b_air            14149 non-null  float64\n",
      " 76  secondary_cleaner.state.floatbank3_b_level          14149 non-null  float64\n",
      " 77  secondary_cleaner.state.floatbank4_a_air            14149 non-null  float64\n",
      " 78  secondary_cleaner.state.floatbank4_a_level          14149 non-null  float64\n",
      " 79  secondary_cleaner.state.floatbank4_b_air            14149 non-null  float64\n",
      " 80  secondary_cleaner.state.floatbank4_b_level          14149 non-null  float64\n",
      " 81  secondary_cleaner.state.floatbank5_a_air            14149 non-null  float64\n",
      " 82  secondary_cleaner.state.floatbank5_a_level          14149 non-null  float64\n",
      " 83  secondary_cleaner.state.floatbank5_b_air            14149 non-null  float64\n",
      " 84  secondary_cleaner.state.floatbank5_b_level          14149 non-null  float64\n",
      " 85  secondary_cleaner.state.floatbank6_a_air            14149 non-null  float64\n",
      " 86  secondary_cleaner.state.floatbank6_a_level          14149 non-null  float64\n",
      "dtypes: float64(86), object(1)\n",
      "memory usage: 9.4+ MB\n",
      "<class 'pandas.core.frame.DataFrame'>\n",
      "RangeIndex: 5290 entries, 0 to 5289\n",
      "Data columns (total 53 columns):\n",
      " #   Column                                      Non-Null Count  Dtype  \n",
      "---  ------                                      --------------  -----  \n",
      " 0   date                                        5290 non-null   object \n",
      " 1   primary_cleaner.input.sulfate               5290 non-null   float64\n",
      " 2   primary_cleaner.input.depressant            5290 non-null   float64\n",
      " 3   primary_cleaner.input.feed_size             5290 non-null   float64\n",
      " 4   primary_cleaner.input.xanthate              5290 non-null   float64\n",
      " 5   primary_cleaner.state.floatbank8_a_air      5290 non-null   float64\n",
      " 6   primary_cleaner.state.floatbank8_a_level    5290 non-null   float64\n",
      " 7   primary_cleaner.state.floatbank8_b_air      5290 non-null   float64\n",
      " 8   primary_cleaner.state.floatbank8_b_level    5290 non-null   float64\n",
      " 9   primary_cleaner.state.floatbank8_c_air      5290 non-null   float64\n",
      " 10  primary_cleaner.state.floatbank8_c_level    5290 non-null   float64\n",
      " 11  primary_cleaner.state.floatbank8_d_air      5290 non-null   float64\n",
      " 12  primary_cleaner.state.floatbank8_d_level    5290 non-null   float64\n",
      " 13  rougher.input.feed_ag                       5290 non-null   float64\n",
      " 14  rougher.input.feed_pb                       5290 non-null   float64\n",
      " 15  rougher.input.feed_rate                     5290 non-null   float64\n",
      " 16  rougher.input.feed_size                     5290 non-null   float64\n",
      " 17  rougher.input.feed_sol                      5290 non-null   float64\n",
      " 18  rougher.input.feed_au                       5290 non-null   float64\n",
      " 19  rougher.input.floatbank10_sulfate           5290 non-null   float64\n",
      " 20  rougher.input.floatbank10_xanthate          5290 non-null   float64\n",
      " 21  rougher.input.floatbank11_sulfate           5290 non-null   float64\n",
      " 22  rougher.input.floatbank11_xanthate          5290 non-null   float64\n",
      " 23  rougher.state.floatbank10_a_air             5290 non-null   float64\n",
      " 24  rougher.state.floatbank10_a_level           5290 non-null   float64\n",
      " 25  rougher.state.floatbank10_b_air             5290 non-null   float64\n",
      " 26  rougher.state.floatbank10_b_level           5290 non-null   float64\n",
      " 27  rougher.state.floatbank10_c_air             5290 non-null   float64\n",
      " 28  rougher.state.floatbank10_c_level           5290 non-null   float64\n",
      " 29  rougher.state.floatbank10_d_air             5290 non-null   float64\n",
      " 30  rougher.state.floatbank10_d_level           5290 non-null   float64\n",
      " 31  rougher.state.floatbank10_e_air             5290 non-null   float64\n",
      " 32  rougher.state.floatbank10_e_level           5290 non-null   float64\n",
      " 33  rougher.state.floatbank10_f_air             5290 non-null   float64\n",
      " 34  rougher.state.floatbank10_f_level           5290 non-null   float64\n",
      " 35  secondary_cleaner.state.floatbank2_a_air    5290 non-null   float64\n",
      " 36  secondary_cleaner.state.floatbank2_a_level  5290 non-null   float64\n",
      " 37  secondary_cleaner.state.floatbank2_b_air    5290 non-null   float64\n",
      " 38  secondary_cleaner.state.floatbank2_b_level  5290 non-null   float64\n",
      " 39  secondary_cleaner.state.floatbank3_a_air    5290 non-null   float64\n",
      " 40  secondary_cleaner.state.floatbank3_a_level  5290 non-null   float64\n",
      " 41  secondary_cleaner.state.floatbank3_b_air    5290 non-null   float64\n",
      " 42  secondary_cleaner.state.floatbank3_b_level  5290 non-null   float64\n",
      " 43  secondary_cleaner.state.floatbank4_a_air    5290 non-null   float64\n",
      " 44  secondary_cleaner.state.floatbank4_a_level  5290 non-null   float64\n",
      " 45  secondary_cleaner.state.floatbank4_b_air    5290 non-null   float64\n",
      " 46  secondary_cleaner.state.floatbank4_b_level  5290 non-null   float64\n",
      " 47  secondary_cleaner.state.floatbank5_a_air    5290 non-null   float64\n",
      " 48  secondary_cleaner.state.floatbank5_a_level  5290 non-null   float64\n",
      " 49  secondary_cleaner.state.floatbank5_b_air    5290 non-null   float64\n",
      " 50  secondary_cleaner.state.floatbank5_b_level  5290 non-null   float64\n",
      " 51  secondary_cleaner.state.floatbank6_a_air    5290 non-null   float64\n",
      " 52  secondary_cleaner.state.floatbank6_a_level  5290 non-null   float64\n",
      "dtypes: float64(52), object(1)\n",
      "memory usage: 2.1+ MB\n",
      "<class 'pandas.core.frame.DataFrame'>\n",
      "RangeIndex: 19439 entries, 0 to 19438\n",
      "Data columns (total 87 columns):\n",
      " #   Column                                              Non-Null Count  Dtype  \n",
      "---  ------                                              --------------  -----  \n",
      " 0   date                                                19439 non-null  object \n",
      " 1   final.output.concentrate_ag                         19439 non-null  float64\n",
      " 2   final.output.concentrate_pb                         19439 non-null  float64\n",
      " 3   final.output.concentrate_sol                        19439 non-null  float64\n",
      " 4   final.output.concentrate_au                         19439 non-null  float64\n",
      " 5   final.output.recovery                               19439 non-null  float64\n",
      " 6   final.output.tail_ag                                19439 non-null  float64\n",
      " 7   final.output.tail_pb                                19439 non-null  float64\n",
      " 8   final.output.tail_sol                               19439 non-null  float64\n",
      " 9   final.output.tail_au                                19439 non-null  float64\n",
      " 10  primary_cleaner.input.sulfate                       19439 non-null  float64\n",
      " 11  primary_cleaner.input.depressant                    19439 non-null  float64\n",
      " 12  primary_cleaner.input.feed_size                     19439 non-null  float64\n",
      " 13  primary_cleaner.input.xanthate                      19439 non-null  float64\n",
      " 14  primary_cleaner.output.concentrate_ag               19439 non-null  float64\n",
      " 15  primary_cleaner.output.concentrate_pb               19439 non-null  float64\n",
      " 16  primary_cleaner.output.concentrate_sol              19439 non-null  float64\n",
      " 17  primary_cleaner.output.concentrate_au               19439 non-null  float64\n",
      " 18  primary_cleaner.output.tail_ag                      19439 non-null  float64\n",
      " 19  primary_cleaner.output.tail_pb                      19439 non-null  float64\n",
      " 20  primary_cleaner.output.tail_sol                     19439 non-null  float64\n",
      " 21  primary_cleaner.output.tail_au                      19439 non-null  float64\n",
      " 22  primary_cleaner.state.floatbank8_a_air              19439 non-null  float64\n",
      " 23  primary_cleaner.state.floatbank8_a_level            19439 non-null  float64\n",
      " 24  primary_cleaner.state.floatbank8_b_air              19439 non-null  float64\n",
      " 25  primary_cleaner.state.floatbank8_b_level            19439 non-null  float64\n",
      " 26  primary_cleaner.state.floatbank8_c_air              19439 non-null  float64\n",
      " 27  primary_cleaner.state.floatbank8_c_level            19439 non-null  float64\n",
      " 28  primary_cleaner.state.floatbank8_d_air              19439 non-null  float64\n",
      " 29  primary_cleaner.state.floatbank8_d_level            19439 non-null  float64\n",
      " 30  rougher.calculation.sulfate_to_au_concentrate       19439 non-null  float64\n",
      " 31  rougher.calculation.floatbank10_sulfate_to_au_feed  19439 non-null  float64\n",
      " 32  rougher.calculation.floatbank11_sulfate_to_au_feed  19439 non-null  float64\n",
      " 33  rougher.calculation.au_pb_ratio                     19439 non-null  float64\n",
      " 34  rougher.input.feed_ag                               19439 non-null  float64\n",
      " 35  rougher.input.feed_pb                               19439 non-null  float64\n",
      " 36  rougher.input.feed_rate                             19439 non-null  float64\n",
      " 37  rougher.input.feed_size                             19439 non-null  float64\n",
      " 38  rougher.input.feed_sol                              19439 non-null  float64\n",
      " 39  rougher.input.feed_au                               19439 non-null  float64\n",
      " 40  rougher.input.floatbank10_sulfate                   19439 non-null  float64\n",
      " 41  rougher.input.floatbank10_xanthate                  19439 non-null  float64\n",
      " 42  rougher.input.floatbank11_sulfate                   19439 non-null  float64\n",
      " 43  rougher.input.floatbank11_xanthate                  19439 non-null  float64\n",
      " 44  rougher.output.concentrate_ag                       19439 non-null  float64\n",
      " 45  rougher.output.concentrate_pb                       19439 non-null  float64\n",
      " 46  rougher.output.concentrate_sol                      19439 non-null  float64\n",
      " 47  rougher.output.concentrate_au                       19439 non-null  float64\n",
      " 48  rougher.output.recovery                             19439 non-null  float64\n",
      " 49  rougher.output.tail_ag                              19439 non-null  float64\n",
      " 50  rougher.output.tail_pb                              19439 non-null  float64\n",
      " 51  rougher.output.tail_sol                             19439 non-null  float64\n",
      " 52  rougher.output.tail_au                              19439 non-null  float64\n",
      " 53  rougher.state.floatbank10_a_air                     19439 non-null  float64\n",
      " 54  rougher.state.floatbank10_a_level                   19439 non-null  float64\n",
      " 55  rougher.state.floatbank10_b_air                     19439 non-null  float64\n",
      " 56  rougher.state.floatbank10_b_level                   19439 non-null  float64\n",
      " 57  rougher.state.floatbank10_c_air                     19439 non-null  float64\n",
      " 58  rougher.state.floatbank10_c_level                   19439 non-null  float64\n",
      " 59  rougher.state.floatbank10_d_air                     19439 non-null  float64\n",
      " 60  rougher.state.floatbank10_d_level                   19439 non-null  float64\n",
      " 61  rougher.state.floatbank10_e_air                     19439 non-null  float64\n",
      " 62  rougher.state.floatbank10_e_level                   19439 non-null  float64\n",
      " 63  rougher.state.floatbank10_f_air                     19439 non-null  float64\n",
      " 64  rougher.state.floatbank10_f_level                   19439 non-null  float64\n",
      " 65  secondary_cleaner.output.tail_ag                    19439 non-null  float64\n",
      " 66  secondary_cleaner.output.tail_pb                    19439 non-null  float64\n",
      " 67  secondary_cleaner.output.tail_sol                   19439 non-null  float64\n",
      " 68  secondary_cleaner.output.tail_au                    19439 non-null  float64\n",
      " 69  secondary_cleaner.state.floatbank2_a_air            19439 non-null  float64\n",
      " 70  secondary_cleaner.state.floatbank2_a_level          19439 non-null  float64\n",
      " 71  secondary_cleaner.state.floatbank2_b_air            19439 non-null  float64\n",
      " 72  secondary_cleaner.state.floatbank2_b_level          19439 non-null  float64\n",
      " 73  secondary_cleaner.state.floatbank3_a_air            19439 non-null  float64\n",
      " 74  secondary_cleaner.state.floatbank3_a_level          19439 non-null  float64\n",
      " 75  secondary_cleaner.state.floatbank3_b_air            19439 non-null  float64\n",
      " 76  secondary_cleaner.state.floatbank3_b_level          19439 non-null  float64\n",
      " 77  secondary_cleaner.state.floatbank4_a_air            19439 non-null  float64\n",
      " 78  secondary_cleaner.state.floatbank4_a_level          19439 non-null  float64\n",
      " 79  secondary_cleaner.state.floatbank4_b_air            19439 non-null  float64\n",
      " 80  secondary_cleaner.state.floatbank4_b_level          19439 non-null  float64\n",
      " 81  secondary_cleaner.state.floatbank5_a_air            19439 non-null  float64\n",
      " 82  secondary_cleaner.state.floatbank5_a_level          19439 non-null  float64\n",
      " 83  secondary_cleaner.state.floatbank5_b_air            19439 non-null  float64\n",
      " 84  secondary_cleaner.state.floatbank5_b_level          19439 non-null  float64\n",
      " 85  secondary_cleaner.state.floatbank6_a_air            19439 non-null  float64\n",
      " 86  secondary_cleaner.state.floatbank6_a_level          19439 non-null  float64\n",
      "dtypes: float64(86), object(1)\n",
      "memory usage: 12.9+ MB\n"
     ]
    }
   ],
   "source": [
    "#для начала заменим все пропуски.\n",
    "df_train = df_train.fillna(method='ffill')\n",
    "df_test = df_test.fillna(method='ffill')\n",
    "df_full = df_full.fillna(method='ffill')\n",
    "\n",
    "df_train.info()\n",
    "df_test.info()\n",
    "df_full.info()"
   ]
  },
  {
   "cell_type": "code",
   "execution_count": 12,
   "metadata": {
    "scrolled": true
   },
   "outputs": [],
   "source": [
    "# также заменим тип данных в столбцах date на datetime\n",
    "\n",
    "df_train['date'] = pd.to_datetime(df_train['date'], format='%Y.%m.%d %H:%M:%S')\n",
    "df_test['date'] = pd.to_datetime(df_test['date'], format='%Y.%m.%d %H:%M:%S')\n",
    "df_full['date'] = pd.to_datetime(df_full['date'], format='%Y.%m.%d %H:%M:%S')\n",
    "\n"
   ]
  },
  {
   "cell_type": "markdown",
   "metadata": {},
   "source": [
    "## Анализ данных"
   ]
  },
  {
   "cell_type": "markdown",
   "metadata": {},
   "source": [
    "### Изменение концентрации металлов (Au, Ag, Pb) на различных этапах очистки\n"
   ]
  },
  {
   "cell_type": "code",
   "execution_count": 13,
   "metadata": {
    "scrolled": false
   },
   "outputs": [
    {
     "data": {
      "image/png": "[encoded data removed]",
      "text/plain": [
       "<Figure size 720x576 with 1 Axes>"
      ]
     },
     "metadata": {},
     "output_type": "display_data"
    }
   ],
   "source": [
    "#Построим график распределения концентрации Серебра\n",
    "\n",
    "plt.style.use('ggplot')\n",
    "\n",
    "df_full['rougher.input.feed_ag'].plot.hist(alpha=0.7, legend=True, bins=25, figsize=(10,8))\n",
    "df_full['rougher.output.concentrate_ag'].plot.hist(alpha=0.7, legend=True, bins=25, figsize=(10,8))\n",
    "df_full['primary_cleaner.output.concentrate_ag'].plot.hist(alpha=0.7, legend=True, bins=25, figsize=(10,8))\n",
    "df_full['final.output.concentrate_ag'].plot.hist(alpha=0.7, legend=True, bins=25, figsize=(10,8))\n",
    "\n",
    "plt.legend(['rougher.input.feed_ag', \n",
    "            'rougher.output.concentrate_ag', \n",
    "            'primary_cleaner.output.concentrate_ag', \n",
    "            'final.output.concentrate_ag'])\n",
    "plt.title('Изменение концентрации серебра')\n",
    "plt.xlabel('Концентрация серебра')\n",
    "\n",
    "\n",
    "plt.show()"
   ]
  },
  {
   "cell_type": "markdown",
   "metadata": {},
   "source": [
    "На графике красным цветом изображена концентрация серебра в исходном сырье. По графику видно, что после этапа флотации мы получаем продукт с наивысшим содержанием серебра, в дальнейшем с каждым новым этапом очистки концентрация серебра снижается. В финальной версии продукта(обозначено черным) мы получаем концентрацию серебра ниже, чем в исходном сырье.\n"
   ]
  },
  {
   "cell_type": "code",
   "execution_count": 14,
   "metadata": {},
   "outputs": [
    {
     "data": {
      "image/png": "[encoded data removed]",
      "text/plain": [
       "<Figure size 720x576 with 1 Axes>"
      ]
     },
     "metadata": {},
     "output_type": "display_data"
    }
   ],
   "source": [
    "# для золота\n",
    "\n",
    "df_full['rougher.input.feed_au'].plot.hist(alpha=0.7, legend=True, bins=25, figsize=(10,8))\n",
    "df_full['rougher.output.concentrate_au'].plot.hist(alpha=0.7, legend=True, bins=25, figsize=(10,8))\n",
    "df_full['primary_cleaner.output.concentrate_au'].plot.hist(alpha=0.7, legend=True, bins=25, figsize=(10,8))\n",
    "df_full['final.output.concentrate_au'].plot.hist(alpha=0.7, legend=True, bins=25, figsize=(10,8))\n",
    "\n",
    "plt.legend(['rougher.input.feed_au', \n",
    "            'rougher.output.concentrate_au', \n",
    "            'primary_cleaner.output.concentrate_au', \n",
    "            'final.output.concentrate_au'])\n",
    "plt.title('Изменение концентрации золота')\n",
    "plt.xlabel('Концентрация золота')\n",
    "\n",
    "\n",
    "plt.show()"
   ]
  },
  {
   "cell_type": "markdown",
   "metadata": {},
   "source": [
    "С золотом дела обстоят иначе, по сравнению с концентрацией в исходном сырье (обозначено красным), после каждого этапа очистки, концентрация золота в продукте постепенно увеличивается, в итоге на выходе, мы получаем продукт с наивысшей концентрацией золота."
   ]
  },
  {
   "cell_type": "code",
   "execution_count": 15,
   "metadata": {},
   "outputs": [
    {
     "data": {
      "image/png": "[encoded data removed]",
      "text/plain": [
       "<Figure size 720x576 with 1 Axes>"
      ]
     },
     "metadata": {},
     "output_type": "display_data"
    }
   ],
   "source": [
    "# для свинца\n",
    "\n",
    "df_full['rougher.input.feed_pb'].plot.hist(alpha=0.7, legend=True, bins=25, figsize=(10,8))\n",
    "df_full['rougher.output.concentrate_pb'].plot.hist(alpha=0.7, legend=True, bins=25, figsize=(10,8))\n",
    "df_full['primary_cleaner.output.concentrate_pb'].plot.hist(alpha=0.7, legend=True, bins=25, figsize=(10,8))\n",
    "df_full['final.output.concentrate_pb'].plot.hist(alpha=0.7, legend=True, bins=25, figsize=(10,8))\n",
    "\n",
    "plt.legend(['rougher.input.feed_pb', \n",
    "            'rougher.output.concentrate_pb', \n",
    "            'primary_cleaner.output.concentrate_pb', \n",
    "            'final.output.concentrate_pb'])\n",
    "plt.title('Изменение концентрации свинца')\n",
    "plt.xlabel('Концентрация свинца')\n",
    "\n",
    "\n",
    "plt.show()"
   ]
  },
  {
   "cell_type": "markdown",
   "metadata": {},
   "source": [
    "По графику видно, что на концентрацию свинца в продукте практически не влияют этапы очистки. После каждого этапа, его процентное содержание в продукте практически не меняется."
   ]
  },
  {
   "cell_type": "markdown",
   "metadata": {},
   "source": [
    "### Сравнение распределения размеров гранул сырья на обучающей и тестовой выборках"
   ]
  },
  {
   "cell_type": "markdown",
   "metadata": {},
   "source": [
    "Посмотрим на распределение и средние значения гранул сырья после первичной обработки"
   ]
  },
  {
   "cell_type": "code",
   "execution_count": 16,
   "metadata": {},
   "outputs": [],
   "source": [
    "def size_prim (df,  name):\n",
    "    plt.figure(figsize=(16,5))\n",
    "    sns.rugplot(df)\n",
    "    sns.kdeplot(df)\n",
    "    \n",
    "    plt.title(name, fontsize=16)\n",
    "    plt.xlim(5, 12)\n",
    "    plt.ylabel('Фракция', labelpad=15, fontsize=14)\n",
    "    plt.show()\n",
    "\n",
    "    print(name, 'среднее:', df.mean())\n",
    "    print(name, 'медиана:', df.median())"
   ]
  },
  {
   "cell_type": "code",
   "execution_count": 17,
   "metadata": {},
   "outputs": [
    {
     "data": {
      "image/png": "[encoded data removed]",
      "text/plain": [
       "<Figure size 1152x360 with 1 Axes>"
      ]
     },
     "metadata": {},
     "output_type": "display_data"
    },
    {
     "name": "stdout",
     "output_type": "stream",
     "text": [
      "Тестовая выборка среднее: 7.266339191270909\n",
      "Тестовая выборка медиана: 7.25\n"
     ]
    }
   ],
   "source": [
    "size_prim(df_test['primary_cleaner.input.feed_size'], 'Тестовая выборка')"
   ]
  },
  {
   "cell_type": "code",
   "execution_count": 18,
   "metadata": {},
   "outputs": [
    {
     "data": {
      "image/png": "[encoded data removed]",
      "text/plain": [
       "<Figure size 1152x360 with 1 Axes>"
      ]
     },
     "metadata": {},
     "output_type": "display_data"
    },
    {
     "name": "stdout",
     "output_type": "stream",
     "text": [
      "Тренировочная выборка среднее: 7.322309906901298\n",
      "Тренировочная выборка медиана: 7.289999961853027\n"
     ]
    }
   ],
   "source": [
    "size_prim(df_train['primary_cleaner.input.feed_size'], 'Тренировочная выборка')"
   ]
  },
  {
   "cell_type": "markdown",
   "metadata": {},
   "source": [
    "Проделаем тоже самое но для этапа флотации"
   ]
  },
  {
   "cell_type": "code",
   "execution_count": 19,
   "metadata": {},
   "outputs": [
    {
     "data": {
      "text/plain": [
       "60.23985599255736"
      ]
     },
     "execution_count": 19,
     "metadata": {},
     "output_type": "execute_result"
    }
   ],
   "source": [
    "#проделаем тоже самое но для этапа флотации\n",
    "df_train['rougher.input.feed_size'].mean()"
   ]
  },
  {
   "cell_type": "code",
   "execution_count": 20,
   "metadata": {},
   "outputs": [
    {
     "data": {
      "text/plain": [
       "55.95275402889511"
      ]
     },
     "execution_count": 20,
     "metadata": {},
     "output_type": "execute_result"
    }
   ],
   "source": [
    "df_test['rougher.input.feed_size'].mean()"
   ]
  },
  {
   "cell_type": "code",
   "execution_count": 21,
   "metadata": {},
   "outputs": [],
   "source": [
    "def size_roug (df,  name):\n",
    "    plt.figure(figsize=(16,5))\n",
    "    sns.rugplot(df)\n",
    "    sns.kdeplot(df)\n",
    "    sns.set(style='darkgrid')\n",
    "    plt.title(name, fontsize=16)\n",
    "    plt.xlim(20, 110)\n",
    "    plt.ylabel('Фракция', labelpad=15, fontsize=14)\n",
    "    plt.show()\n",
    "\n",
    "    print(name, 'среднее:', df.mean())\n",
    "    print(name, 'медиана:', df.median())"
   ]
  },
  {
   "cell_type": "code",
   "execution_count": 22,
   "metadata": {},
   "outputs": [
    {
     "data": {
      "image/png": "[encoded data removed]",
      "text/plain": [
       "<Figure size 1152x360 with 1 Axes>"
      ]
     },
     "metadata": {},
     "output_type": "display_data"
    },
    {
     "name": "stdout",
     "output_type": "stream",
     "text": [
      "Тестовая выборка среднее: 55.95275402889511\n",
      "Тестовая выборка медиана: 50.8468431600362\n"
     ]
    }
   ],
   "source": [
    "size_roug(df_test['rougher.input.feed_size'], 'Тестовая выборка')"
   ]
  },
  {
   "cell_type": "code",
   "execution_count": 23,
   "metadata": {},
   "outputs": [
    {
     "data": {
      "image/png": "[encoded data removed]",
      "text/plain": [
       "<Figure size 1152x360 with 1 Axes>"
      ]
     },
     "metadata": {},
     "output_type": "display_data"
    },
    {
     "name": "stdout",
     "output_type": "stream",
     "text": [
      "Тренировочная выборка среднее: 60.23985599255736\n",
      "Тренировочная выборка медиана: 55.269783890501536\n"
     ]
    }
   ],
   "source": [
    "size_roug(df_train['rougher.input.feed_size'], 'Тренировочная выборка')"
   ]
  },
  {
   "cell_type": "markdown",
   "metadata": {},
   "source": [
    "Размеры отличаются, внешне графики хоть и схожи, однако отличия есть, вероятно влияние выбросов, отбросим их и посмотрим на распределение."
   ]
  },
  {
   "cell_type": "code",
   "execution_count": 24,
   "metadata": {
    "scrolled": true
   },
   "outputs": [
    {
     "data": {
      "text/html": [
       "<div>\n",
       "<style scoped>\n",
       "    .dataframe tbody tr th:only-of-type {\n",
       "        vertical-align: middle;\n",
       "    }\n",
       "\n",
       "    .dataframe tbody tr th {\n",
       "        vertical-align: top;\n",
       "    }\n",
       "\n",
       "    .dataframe thead th {\n",
       "        text-align: right;\n",
       "    }\n",
       "</style>\n",
       "<table border=\"1\" class=\"dataframe\">\n",
       "  <thead>\n",
       "    <tr style=\"text-align: right;\">\n",
       "      <th></th>\n",
       "      <th>date</th>\n",
       "      <th>final.output.concentrate_ag</th>\n",
       "      <th>final.output.concentrate_pb</th>\n",
       "      <th>final.output.concentrate_sol</th>\n",
       "      <th>final.output.concentrate_au</th>\n",
       "      <th>final.output.recovery</th>\n",
       "      <th>final.output.tail_ag</th>\n",
       "      <th>final.output.tail_pb</th>\n",
       "      <th>final.output.tail_sol</th>\n",
       "      <th>final.output.tail_au</th>\n",
       "      <th>...</th>\n",
       "      <th>secondary_cleaner.state.floatbank4_a_air</th>\n",
       "      <th>secondary_cleaner.state.floatbank4_a_level</th>\n",
       "      <th>secondary_cleaner.state.floatbank4_b_air</th>\n",
       "      <th>secondary_cleaner.state.floatbank4_b_level</th>\n",
       "      <th>secondary_cleaner.state.floatbank5_a_air</th>\n",
       "      <th>secondary_cleaner.state.floatbank5_a_level</th>\n",
       "      <th>secondary_cleaner.state.floatbank5_b_air</th>\n",
       "      <th>secondary_cleaner.state.floatbank5_b_level</th>\n",
       "      <th>secondary_cleaner.state.floatbank6_a_air</th>\n",
       "      <th>secondary_cleaner.state.floatbank6_a_level</th>\n",
       "    </tr>\n",
       "  </thead>\n",
       "  <tbody>\n",
       "    <tr>\n",
       "      <th>0</th>\n",
       "      <td>2016-01-15 00:00:00</td>\n",
       "      <td>6.055403</td>\n",
       "      <td>9.889648</td>\n",
       "      <td>5.507324</td>\n",
       "      <td>42.192020</td>\n",
       "      <td>70.541216</td>\n",
       "      <td>10.411962</td>\n",
       "      <td>0.895447</td>\n",
       "      <td>16.904297</td>\n",
       "      <td>2.143149</td>\n",
       "      <td>...</td>\n",
       "      <td>14.016835</td>\n",
       "      <td>-502.488007</td>\n",
       "      <td>12.099931</td>\n",
       "      <td>-504.715942</td>\n",
       "      <td>9.925633</td>\n",
       "      <td>-498.310211</td>\n",
       "      <td>8.079666</td>\n",
       "      <td>-500.470978</td>\n",
       "      <td>14.151341</td>\n",
       "      <td>-605.841980</td>\n",
       "    </tr>\n",
       "    <tr>\n",
       "      <th>1</th>\n",
       "      <td>2016-01-15 01:00:00</td>\n",
       "      <td>6.029369</td>\n",
       "      <td>9.968944</td>\n",
       "      <td>5.257781</td>\n",
       "      <td>42.701629</td>\n",
       "      <td>69.266198</td>\n",
       "      <td>10.462676</td>\n",
       "      <td>0.927452</td>\n",
       "      <td>16.634514</td>\n",
       "      <td>2.224930</td>\n",
       "      <td>...</td>\n",
       "      <td>13.992281</td>\n",
       "      <td>-505.503262</td>\n",
       "      <td>11.950531</td>\n",
       "      <td>-501.331529</td>\n",
       "      <td>10.039245</td>\n",
       "      <td>-500.169983</td>\n",
       "      <td>7.984757</td>\n",
       "      <td>-500.582168</td>\n",
       "      <td>13.998353</td>\n",
       "      <td>-599.787184</td>\n",
       "    </tr>\n",
       "    <tr>\n",
       "      <th>2</th>\n",
       "      <td>2016-01-15 02:00:00</td>\n",
       "      <td>6.055926</td>\n",
       "      <td>10.213995</td>\n",
       "      <td>5.383759</td>\n",
       "      <td>42.657501</td>\n",
       "      <td>68.116445</td>\n",
       "      <td>10.507046</td>\n",
       "      <td>0.953716</td>\n",
       "      <td>16.208849</td>\n",
       "      <td>2.257889</td>\n",
       "      <td>...</td>\n",
       "      <td>14.015015</td>\n",
       "      <td>-502.520901</td>\n",
       "      <td>11.912783</td>\n",
       "      <td>-501.133383</td>\n",
       "      <td>10.070913</td>\n",
       "      <td>-500.129135</td>\n",
       "      <td>8.013877</td>\n",
       "      <td>-500.517572</td>\n",
       "      <td>14.028663</td>\n",
       "      <td>-601.427363</td>\n",
       "    </tr>\n",
       "  </tbody>\n",
       "</table>\n",
       "<p>3 rows × 87 columns</p>\n",
       "</div>"
      ],
      "text/plain": [
       "                 date  final.output.concentrate_ag  \\\n",
       "0 2016-01-15 00:00:00                     6.055403   \n",
       "1 2016-01-15 01:00:00                     6.029369   \n",
       "2 2016-01-15 02:00:00                     6.055926   \n",
       "\n",
       "   final.output.concentrate_pb  final.output.concentrate_sol  \\\n",
       "0                     9.889648                      5.507324   \n",
       "1                     9.968944                      5.257781   \n",
       "2                    10.213995                      5.383759   \n",
       "\n",
       "   final.output.concentrate_au  final.output.recovery  final.output.tail_ag  \\\n",
       "0                    42.192020              70.541216             10.411962   \n",
       "1                    42.701629              69.266198             10.462676   \n",
       "2                    42.657501              68.116445             10.507046   \n",
       "\n",
       "   final.output.tail_pb  final.output.tail_sol  final.output.tail_au  ...  \\\n",
       "0              0.895447              16.904297              2.143149  ...   \n",
       "1              0.927452              16.634514              2.224930  ...   \n",
       "2              0.953716              16.208849              2.257889  ...   \n",
       "\n",
       "   secondary_cleaner.state.floatbank4_a_air  \\\n",
       "0                                 14.016835   \n",
       "1                                 13.992281   \n",
       "2                                 14.015015   \n",
       "\n",
       "   secondary_cleaner.state.floatbank4_a_level  \\\n",
       "0                                 -502.488007   \n",
       "1                                 -505.503262   \n",
       "2                                 -502.520901   \n",
       "\n",
       "   secondary_cleaner.state.floatbank4_b_air  \\\n",
       "0                                 12.099931   \n",
       "1                                 11.950531   \n",
       "2                                 11.912783   \n",
       "\n",
       "   secondary_cleaner.state.floatbank4_b_level  \\\n",
       "0                                 -504.715942   \n",
       "1                                 -501.331529   \n",
       "2                                 -501.133383   \n",
       "\n",
       "   secondary_cleaner.state.floatbank5_a_air  \\\n",
       "0                                  9.925633   \n",
       "1                                 10.039245   \n",
       "2                                 10.070913   \n",
       "\n",
       "   secondary_cleaner.state.floatbank5_a_level  \\\n",
       "0                                 -498.310211   \n",
       "1                                 -500.169983   \n",
       "2                                 -500.129135   \n",
       "\n",
       "   secondary_cleaner.state.floatbank5_b_air  \\\n",
       "0                                  8.079666   \n",
       "1                                  7.984757   \n",
       "2                                  8.013877   \n",
       "\n",
       "   secondary_cleaner.state.floatbank5_b_level  \\\n",
       "0                                 -500.470978   \n",
       "1                                 -500.582168   \n",
       "2                                 -500.517572   \n",
       "\n",
       "   secondary_cleaner.state.floatbank6_a_air  \\\n",
       "0                                 14.151341   \n",
       "1                                 13.998353   \n",
       "2                                 14.028663   \n",
       "\n",
       "   secondary_cleaner.state.floatbank6_a_level  \n",
       "0                                 -605.841980  \n",
       "1                                 -599.787184  \n",
       "2                                 -601.427363  \n",
       "\n",
       "[3 rows x 87 columns]"
      ]
     },
     "execution_count": 24,
     "metadata": {},
     "output_type": "execute_result"
    }
   ],
   "source": [
    "df_train = df_train.loc[df_train['rougher.input.feed_size'] <= 100].reset_index(drop=True)\n",
    "df_train[:3]"
   ]
  },
  {
   "cell_type": "code",
   "execution_count": 25,
   "metadata": {},
   "outputs": [
    {
     "data": {
      "image/png": "[encoded data removed]",
      "text/plain": [
       "<Figure size 1152x360 with 1 Axes>"
      ]
     },
     "metadata": {},
     "output_type": "display_data"
    },
    {
     "name": "stdout",
     "output_type": "stream",
     "text": [
      "Тестовая выборка среднее: 55.95275402889511\n",
      "Тестовая выборка медиана: 50.8468431600362\n"
     ]
    }
   ],
   "source": [
    "size_roug(df_test['rougher.input.feed_size'], 'Тестовая выборка')"
   ]
  },
  {
   "cell_type": "code",
   "execution_count": 26,
   "metadata": {},
   "outputs": [
    {
     "data": {
      "image/png": "[encoded data removed]",
      "text/plain": [
       "<Figure size 1152x360 with 1 Axes>"
      ]
     },
     "metadata": {},
     "output_type": "display_data"
    },
    {
     "name": "stdout",
     "output_type": "stream",
     "text": [
      "Тренировочная выборка среднее: 57.883165227639815\n",
      "Тренировочная выборка медиана: 55.11055033407039\n"
     ]
    }
   ],
   "source": [
    "size_roug(df_train['rougher.input.feed_size'], 'Тренировочная выборка')"
   ]
  },
  {
   "cell_type": "markdown",
   "metadata": {},
   "source": [
    "Значения приблизились друг к другу, можно, конечно, фиксить и еще, однако плотность распределения близка, оставим так, с учетом, что возможна ошибка в обучении."
   ]
  },
  {
   "cell_type": "code",
   "execution_count": 27,
   "metadata": {
    "scrolled": false
   },
   "outputs": [
    {
     "data": {
      "text/html": [
       "<div>\n",
       "<style scoped>\n",
       "    .dataframe tbody tr th:only-of-type {\n",
       "        vertical-align: middle;\n",
       "    }\n",
       "\n",
       "    .dataframe tbody tr th {\n",
       "        vertical-align: top;\n",
       "    }\n",
       "\n",
       "    .dataframe thead th {\n",
       "        text-align: right;\n",
       "    }\n",
       "</style>\n",
       "<table border=\"1\" class=\"dataframe\">\n",
       "  <thead>\n",
       "    <tr style=\"text-align: right;\">\n",
       "      <th></th>\n",
       "      <th>date</th>\n",
       "      <th>final.output.concentrate_ag</th>\n",
       "      <th>final.output.concentrate_pb</th>\n",
       "      <th>final.output.concentrate_sol</th>\n",
       "      <th>final.output.concentrate_au</th>\n",
       "      <th>final.output.recovery</th>\n",
       "      <th>final.output.tail_ag</th>\n",
       "      <th>final.output.tail_pb</th>\n",
       "      <th>final.output.tail_sol</th>\n",
       "      <th>final.output.tail_au</th>\n",
       "      <th>...</th>\n",
       "      <th>secondary_cleaner.state.floatbank4_a_air</th>\n",
       "      <th>secondary_cleaner.state.floatbank4_a_level</th>\n",
       "      <th>secondary_cleaner.state.floatbank4_b_air</th>\n",
       "      <th>secondary_cleaner.state.floatbank4_b_level</th>\n",
       "      <th>secondary_cleaner.state.floatbank5_a_air</th>\n",
       "      <th>secondary_cleaner.state.floatbank5_a_level</th>\n",
       "      <th>secondary_cleaner.state.floatbank5_b_air</th>\n",
       "      <th>secondary_cleaner.state.floatbank5_b_level</th>\n",
       "      <th>secondary_cleaner.state.floatbank6_a_air</th>\n",
       "      <th>secondary_cleaner.state.floatbank6_a_level</th>\n",
       "    </tr>\n",
       "  </thead>\n",
       "  <tbody>\n",
       "    <tr>\n",
       "      <th>0</th>\n",
       "      <td>2016-01-15 00:00:00</td>\n",
       "      <td>6.055403</td>\n",
       "      <td>9.889648</td>\n",
       "      <td>5.507324</td>\n",
       "      <td>42.192020</td>\n",
       "      <td>70.541216</td>\n",
       "      <td>10.411962</td>\n",
       "      <td>0.895447</td>\n",
       "      <td>16.904297</td>\n",
       "      <td>2.143149</td>\n",
       "      <td>...</td>\n",
       "      <td>14.016835</td>\n",
       "      <td>-502.488007</td>\n",
       "      <td>12.099931</td>\n",
       "      <td>-504.715942</td>\n",
       "      <td>9.925633</td>\n",
       "      <td>-498.310211</td>\n",
       "      <td>8.079666</td>\n",
       "      <td>-500.470978</td>\n",
       "      <td>14.151341</td>\n",
       "      <td>-605.841980</td>\n",
       "    </tr>\n",
       "    <tr>\n",
       "      <th>1</th>\n",
       "      <td>2016-01-15 01:00:00</td>\n",
       "      <td>6.029369</td>\n",
       "      <td>9.968944</td>\n",
       "      <td>5.257781</td>\n",
       "      <td>42.701629</td>\n",
       "      <td>69.266198</td>\n",
       "      <td>10.462676</td>\n",
       "      <td>0.927452</td>\n",
       "      <td>16.634514</td>\n",
       "      <td>2.224930</td>\n",
       "      <td>...</td>\n",
       "      <td>13.992281</td>\n",
       "      <td>-505.503262</td>\n",
       "      <td>11.950531</td>\n",
       "      <td>-501.331529</td>\n",
       "      <td>10.039245</td>\n",
       "      <td>-500.169983</td>\n",
       "      <td>7.984757</td>\n",
       "      <td>-500.582168</td>\n",
       "      <td>13.998353</td>\n",
       "      <td>-599.787184</td>\n",
       "    </tr>\n",
       "    <tr>\n",
       "      <th>2</th>\n",
       "      <td>2016-01-15 02:00:00</td>\n",
       "      <td>6.055926</td>\n",
       "      <td>10.213995</td>\n",
       "      <td>5.383759</td>\n",
       "      <td>42.657501</td>\n",
       "      <td>68.116445</td>\n",
       "      <td>10.507046</td>\n",
       "      <td>0.953716</td>\n",
       "      <td>16.208849</td>\n",
       "      <td>2.257889</td>\n",
       "      <td>...</td>\n",
       "      <td>14.015015</td>\n",
       "      <td>-502.520901</td>\n",
       "      <td>11.912783</td>\n",
       "      <td>-501.133383</td>\n",
       "      <td>10.070913</td>\n",
       "      <td>-500.129135</td>\n",
       "      <td>8.013877</td>\n",
       "      <td>-500.517572</td>\n",
       "      <td>14.028663</td>\n",
       "      <td>-601.427363</td>\n",
       "    </tr>\n",
       "  </tbody>\n",
       "</table>\n",
       "<p>3 rows × 87 columns</p>\n",
       "</div>"
      ],
      "text/plain": [
       "                 date  final.output.concentrate_ag  \\\n",
       "0 2016-01-15 00:00:00                     6.055403   \n",
       "1 2016-01-15 01:00:00                     6.029369   \n",
       "2 2016-01-15 02:00:00                     6.055926   \n",
       "\n",
       "   final.output.concentrate_pb  final.output.concentrate_sol  \\\n",
       "0                     9.889648                      5.507324   \n",
       "1                     9.968944                      5.257781   \n",
       "2                    10.213995                      5.383759   \n",
       "\n",
       "   final.output.concentrate_au  final.output.recovery  final.output.tail_ag  \\\n",
       "0                    42.192020              70.541216             10.411962   \n",
       "1                    42.701629              69.266198             10.462676   \n",
       "2                    42.657501              68.116445             10.507046   \n",
       "\n",
       "   final.output.tail_pb  final.output.tail_sol  final.output.tail_au  ...  \\\n",
       "0              0.895447              16.904297              2.143149  ...   \n",
       "1              0.927452              16.634514              2.224930  ...   \n",
       "2              0.953716              16.208849              2.257889  ...   \n",
       "\n",
       "   secondary_cleaner.state.floatbank4_a_air  \\\n",
       "0                                 14.016835   \n",
       "1                                 13.992281   \n",
       "2                                 14.015015   \n",
       "\n",
       "   secondary_cleaner.state.floatbank4_a_level  \\\n",
       "0                                 -502.488007   \n",
       "1                                 -505.503262   \n",
       "2                                 -502.520901   \n",
       "\n",
       "   secondary_cleaner.state.floatbank4_b_air  \\\n",
       "0                                 12.099931   \n",
       "1                                 11.950531   \n",
       "2                                 11.912783   \n",
       "\n",
       "   secondary_cleaner.state.floatbank4_b_level  \\\n",
       "0                                 -504.715942   \n",
       "1                                 -501.331529   \n",
       "2                                 -501.133383   \n",
       "\n",
       "   secondary_cleaner.state.floatbank5_a_air  \\\n",
       "0                                  9.925633   \n",
       "1                                 10.039245   \n",
       "2                                 10.070913   \n",
       "\n",
       "   secondary_cleaner.state.floatbank5_a_level  \\\n",
       "0                                 -498.310211   \n",
       "1                                 -500.169983   \n",
       "2                                 -500.129135   \n",
       "\n",
       "   secondary_cleaner.state.floatbank5_b_air  \\\n",
       "0                                  8.079666   \n",
       "1                                  7.984757   \n",
       "2                                  8.013877   \n",
       "\n",
       "   secondary_cleaner.state.floatbank5_b_level  \\\n",
       "0                                 -500.470978   \n",
       "1                                 -500.582168   \n",
       "2                                 -500.517572   \n",
       "\n",
       "   secondary_cleaner.state.floatbank6_a_air  \\\n",
       "0                                 14.151341   \n",
       "1                                 13.998353   \n",
       "2                                 14.028663   \n",
       "\n",
       "   secondary_cleaner.state.floatbank6_a_level  \n",
       "0                                 -605.841980  \n",
       "1                                 -599.787184  \n",
       "2                                 -601.427363  \n",
       "\n",
       "[3 rows x 87 columns]"
      ]
     },
     "execution_count": 27,
     "metadata": {},
     "output_type": "execute_result"
    }
   ],
   "source": [
    "#изменим значения в таблице фулл\n",
    "df_full = df_full.loc[df_full['rougher.input.feed_size'] <= 100].reset_index(drop=True)\n",
    "df_full[:3]"
   ]
  },
  {
   "cell_type": "markdown",
   "metadata": {},
   "source": [
    "### Исследование суммарной концентрации всех веществ на разных стадиях"
   ]
  },
  {
   "cell_type": "code",
   "execution_count": 28,
   "metadata": {},
   "outputs": [
    {
     "data": {
      "image/png": "[encoded data removed]",
      "text/plain": [
       "<Figure size 720x576 with 1 Axes>"
      ]
     },
     "metadata": {},
     "output_type": "display_data"
    }
   ],
   "source": [
    "#в сырье\n",
    "rougher_input = ['rougher.input.feed_au',\n",
    "                 'rougher.input.feed_ag',\n",
    "                 'rougher.input.feed_pb',\n",
    "                 'rougher.input.feed_sol']\n",
    "df_full[rougher_input].sum(axis=1).plot.hist(alpha=0.7, bins=100, figsize=(10,8))\n",
    "\n",
    "plt.title('Суммарное распределение концентраций для стадии rougher_input')\n",
    "plt.xlabel('Cуммарная концентрация')\n",
    "\n",
    "plt.show()"
   ]
  },
  {
   "cell_type": "code",
   "execution_count": 29,
   "metadata": {
    "scrolled": false
   },
   "outputs": [
    {
     "data": {
      "image/png": "[encoded data removed]",
      "text/plain": [
       "<Figure size 720x576 with 1 Axes>"
      ]
     },
     "metadata": {},
     "output_type": "display_data"
    }
   ],
   "source": [
    "#в черновой стадии\n",
    "rougher_output_concentrate = ['rougher.output.concentrate_au',\n",
    "                 'rougher.output.concentrate_ag',\n",
    "                 'rougher.output.concentrate_pb',\n",
    "                 'rougher.output.concentrate_sol']\n",
    "df_full[rougher_output_concentrate].sum(axis=1).plot.hist(alpha=0.7, bins=100, figsize=(10,8))\n",
    "\n",
    "plt.title('Суммарное распределение концентраций для стадии rougher_output_concentrate')\n",
    "plt.xlabel('Cуммарная концентрация')\n",
    "\n",
    "plt.show()"
   ]
  },
  {
   "cell_type": "code",
   "execution_count": 30,
   "metadata": {
    "scrolled": true
   },
   "outputs": [],
   "source": [
    "#удалим выбросы\n",
    "df_full['conc_sum'] = df_full[rougher_output_concentrate].sum(axis=1)\n",
    "df_full = df_full.loc[df_full['conc_sum'] >= 10].reset_index(drop=True)\n",
    "df_full = df_full.drop('conc_sum', 1)"
   ]
  },
  {
   "cell_type": "code",
   "execution_count": 31,
   "metadata": {
    "scrolled": true
   },
   "outputs": [],
   "source": [
    "#в тренировочном датасете\n",
    "df_train['conc_sum'] = df_train[rougher_output_concentrate].sum(axis=1)\n",
    "df_train = df_train.loc[df_train['conc_sum'] >= 10].reset_index(drop=True)\n",
    "df_train = df_train.drop('conc_sum', 1)"
   ]
  },
  {
   "cell_type": "code",
   "execution_count": 32,
   "metadata": {},
   "outputs": [
    {
     "data": {
      "image/png": "[encoded data removed]",
      "text/plain": [
       "<Figure size 720x576 with 1 Axes>"
      ]
     },
     "metadata": {},
     "output_type": "display_data"
    }
   ],
   "source": [
    "#Для финальной стадии\n",
    "final_output= ['final.output.concentrate_au',\n",
    "                 'final.output.concentrate_ag',\n",
    "                 'final.output.concentrate_pb',\n",
    "                 'final.output.concentrate_sol']\n",
    "df_full[final_output].sum(axis=1).plot.hist(alpha=0.7, bins=100, figsize=(10,8))\n",
    "\n",
    "plt.title('Суммарное распределение концентраций для стадии final_output')\n",
    "plt.xlabel('Cуммарная концентрация')\n",
    "\n",
    "plt.show()"
   ]
  },
  {
   "cell_type": "code",
   "execution_count": 33,
   "metadata": {
    "scrolled": true
   },
   "outputs": [],
   "source": [
    "df_full['conc_sum'] = df_full[final_output].sum(axis=1)\n",
    "df_full = df_full.loc[df_full['conc_sum'] >= 10].reset_index(drop=True)\n",
    "df_full = df_full.drop('conc_sum', 1)"
   ]
  },
  {
   "cell_type": "code",
   "execution_count": 34,
   "metadata": {
    "scrolled": true
   },
   "outputs": [],
   "source": [
    "df_train['conc_sum'] = df_train[final_output].sum(axis=1)\n",
    "df_train = df_train.loc[df_train['conc_sum'] >= 10].reset_index(drop=True)\n",
    "df_train = df_train.drop('conc_sum', 1)"
   ]
  },
  {
   "cell_type": "markdown",
   "metadata": {},
   "source": [
    "## Модель"
   ]
  },
  {
   "cell_type": "markdown",
   "metadata": {},
   "source": [
    "### Функция для вычисления итоговой sMAPE"
   ]
  },
  {
   "cell_type": "code",
   "execution_count": 35,
   "metadata": {},
   "outputs": [],
   "source": [
    "def sMAPE(y_target, y_predict):\n",
    "    numerator = np.abs(y_target - y_predict)\n",
    "    denominator = (np.abs(y_target) + np.abs(y_predict))/2\n",
    "    divided = numerator/denominator\n",
    "    return (divided.sum()/len(divided))*100\n",
    "\n",
    "my_scorer = make_scorer(sMAPE, greater_is_better=False)   "
   ]
  },
  {
   "cell_type": "markdown",
   "metadata": {},
   "source": [
    "### Обучение различных моделей и оценка их качества кросс-валидацией"
   ]
  },
  {
   "cell_type": "markdown",
   "metadata": {},
   "source": [
    "Разделим признаки"
   ]
  },
  {
   "cell_type": "code",
   "execution_count": 36,
   "metadata": {},
   "outputs": [],
   "source": [
    "features = df_train[df_test.columns].drop(['date'], 1)\n",
    "target_rougher = df_train['rougher.output.recovery']\n",
    "target_final = df_train['final.output.recovery']"
   ]
  },
  {
   "cell_type": "code",
   "execution_count": 37,
   "metadata": {},
   "outputs": [],
   "source": [
    "scaler = StandardScaler()\n",
    "features = scaler.fit_transform(features)\n",
    "#features_test = scaler.fit_transform(features_test)"
   ]
  },
  {
   "cell_type": "markdown",
   "metadata": {},
   "source": [
    "Рандомный лес"
   ]
  },
  {
   "cell_type": "code",
   "execution_count": 38,
   "metadata": {
    "scrolled": false
   },
   "outputs": [
    {
     "name": "stdout",
     "output_type": "stream",
     "text": [
      "Fitting 3 folds for each of 9 candidates, totalling 27 fits\n",
      "[CV 1/3] END ......max_depth=2, n_estimators=2;, score=-9.042 total time=   0.2s\n",
      "[CV 2/3] END ......max_depth=2, n_estimators=2;, score=-5.714 total time=   0.1s\n",
      "[CV 3/3] END ......max_depth=2, n_estimators=2;, score=-7.464 total time=   0.0s\n",
      "[CV 1/3] END ......max_depth=2, n_estimators=5;, score=-9.158 total time=   0.6s\n",
      "[CV 2/3] END ......max_depth=2, n_estimators=5;, score=-5.532 total time=   0.4s\n",
      "[CV 3/3] END ......max_depth=2, n_estimators=5;, score=-7.779 total time=   0.3s\n",
      "[CV 1/3] END ......max_depth=2, n_estimators=8;, score=-9.075 total time=   0.6s\n",
      "[CV 2/3] END ......max_depth=2, n_estimators=8;, score=-5.512 total time=   0.6s\n",
      "[CV 3/3] END ......max_depth=2, n_estimators=8;, score=-7.666 total time=   0.7s\n",
      "[CV 1/3] END ......max_depth=5, n_estimators=2;, score=-8.665 total time=   0.3s\n",
      "[CV 2/3] END ......max_depth=5, n_estimators=2;, score=-7.715 total time=   0.3s\n",
      "[CV 3/3] END .....max_depth=5, n_estimators=2;, score=-10.185 total time=   0.3s\n",
      "[CV 1/3] END ......max_depth=5, n_estimators=5;, score=-8.742 total time=   1.0s\n",
      "[CV 2/3] END ......max_depth=5, n_estimators=5;, score=-6.597 total time=   0.9s\n",
      "[CV 3/3] END .....max_depth=5, n_estimators=5;, score=-11.009 total time=   1.0s\n",
      "[CV 1/3] END ......max_depth=5, n_estimators=8;, score=-8.721 total time=   1.6s\n",
      "[CV 2/3] END ......max_depth=5, n_estimators=8;, score=-6.689 total time=   1.7s\n",
      "[CV 3/3] END .....max_depth=5, n_estimators=8;, score=-11.062 total time=   1.4s\n",
      "[CV 1/3] END ......max_depth=8, n_estimators=2;, score=-8.421 total time=   0.6s\n",
      "[CV 2/3] END ......max_depth=8, n_estimators=2;, score=-7.675 total time=   0.5s\n",
      "[CV 3/3] END .....max_depth=8, n_estimators=2;, score=-17.123 total time=   0.5s\n",
      "[CV 1/3] END ......max_depth=8, n_estimators=5;, score=-8.793 total time=   1.4s\n",
      "[CV 2/3] END ......max_depth=8, n_estimators=5;, score=-6.356 total time=   1.4s\n",
      "[CV 3/3] END .....max_depth=8, n_estimators=5;, score=-11.506 total time=   1.4s\n",
      "[CV 1/3] END ......max_depth=8, n_estimators=8;, score=-8.831 total time=   1.7s\n",
      "[CV 2/3] END ......max_depth=8, n_estimators=8;, score=-6.627 total time=   1.7s\n",
      "[CV 3/3] END .....max_depth=8, n_estimators=8;, score=-11.580 total time=   1.6s\n"
     ]
    },
    {
     "data": {
      "text/plain": [
       "GridSearchCV(cv=3, estimator=RandomForestRegressor(),\n",
       "             param_grid={'max_depth': range(2, 10, 3),\n",
       "                         'n_estimators': range(2, 10, 3)},\n",
       "             scoring=make_scorer(sMAPE, greater_is_better=False), verbose=3)"
      ]
     },
     "execution_count": 38,
     "metadata": {},
     "output_type": "execute_result"
    }
   ],
   "source": [
    "#GridSearch\n",
    "from sklearn.model_selection import GridSearchCV\n",
    "model =RandomForestRegressor()\n",
    "params = {'max_depth': range(2, 10, 3), 'n_estimators': range(2, 10, 3)}\n",
    "gcv = GridSearchCV(model, params, cv=3, verbose=3, scoring=my_scorer)\n",
    "gcv.fit(features, target_rougher)"
   ]
  },
  {
   "cell_type": "code",
   "execution_count": 39,
   "metadata": {
    "scrolled": true
   },
   "outputs": [
    {
     "data": {
      "text/plain": [
       "-7.407026002141581"
      ]
     },
     "execution_count": 39,
     "metadata": {},
     "output_type": "execute_result"
    }
   ],
   "source": [
    "gcv.best_score_"
   ]
  },
  {
   "cell_type": "code",
   "execution_count": 40,
   "metadata": {},
   "outputs": [
    {
     "data": {
      "text/plain": [
       "-5.348019418616314"
      ]
     },
     "execution_count": 40,
     "metadata": {},
     "output_type": "execute_result"
    }
   ],
   "source": [
    "#Тестирование\n",
    "test = df_test.merge(df_full[['date', 'rougher.output.recovery']], on='date', how='inner')\n",
    "features_test = test.drop(columns=['date', 'rougher.output.recovery'])\n",
    "test_rougher = test['rougher.output.recovery']\n",
    "gcv.score(features_test, test_rougher)"
   ]
  },
  {
   "cell_type": "code",
   "execution_count": 41,
   "metadata": {},
   "outputs": [
    {
     "data": {
      "text/plain": [
       "-7.407026002141581"
      ]
     },
     "execution_count": 41,
     "metadata": {},
     "output_type": "execute_result"
    }
   ],
   "source": [
    "score_rougher = gcv.best_score_\n",
    "score_rougher"
   ]
  },
  {
   "cell_type": "code",
   "execution_count": 42,
   "metadata": {},
   "outputs": [
    {
     "name": "stdout",
     "output_type": "stream",
     "text": [
      "Fitting 3 folds for each of 9 candidates, totalling 27 fits\n",
      "[CV 1/3] END ......max_depth=2, n_estimators=2;, score=-9.736 total time=   0.0s\n",
      "[CV 2/3] END ......max_depth=2, n_estimators=2;, score=-9.520 total time=   0.1s\n",
      "[CV 3/3] END .....max_depth=2, n_estimators=2;, score=-11.842 total time=   0.0s\n",
      "[CV 1/3] END ......max_depth=2, n_estimators=5;, score=-9.378 total time=   0.2s\n",
      "[CV 2/3] END ......max_depth=2, n_estimators=5;, score=-9.774 total time=   0.3s\n",
      "[CV 3/3] END .....max_depth=2, n_estimators=5;, score=-12.068 total time=   0.4s\n",
      "[CV 1/3] END ......max_depth=2, n_estimators=8;, score=-9.404 total time=   0.4s\n",
      "[CV 2/3] END ......max_depth=2, n_estimators=8;, score=-9.269 total time=   0.5s\n",
      "[CV 3/3] END .....max_depth=2, n_estimators=8;, score=-11.483 total time=   0.5s\n",
      "[CV 1/3] END ......max_depth=5, n_estimators=2;, score=-9.830 total time=   0.2s\n",
      "[CV 2/3] END ......max_depth=5, n_estimators=2;, score=-9.615 total time=   0.2s\n",
      "[CV 3/3] END .....max_depth=5, n_estimators=2;, score=-12.232 total time=   0.2s\n",
      "[CV 1/3] END ......max_depth=5, n_estimators=5;, score=-9.340 total time=   0.9s\n",
      "[CV 2/3] END ......max_depth=5, n_estimators=5;, score=-9.269 total time=   0.7s\n",
      "[CV 3/3] END .....max_depth=5, n_estimators=5;, score=-15.026 total time=   0.9s\n",
      "[CV 1/3] END ......max_depth=5, n_estimators=8;, score=-9.578 total time=   1.3s\n",
      "[CV 2/3] END ......max_depth=5, n_estimators=8;, score=-9.465 total time=   1.8s\n",
      "[CV 3/3] END .....max_depth=5, n_estimators=8;, score=-13.105 total time=   1.3s\n",
      "[CV 1/3] END .....max_depth=8, n_estimators=2;, score=-11.386 total time=   0.6s\n",
      "[CV 2/3] END .....max_depth=8, n_estimators=2;, score=-10.691 total time=   0.4s\n",
      "[CV 3/3] END .....max_depth=8, n_estimators=2;, score=-13.750 total time=   0.4s\n",
      "[CV 1/3] END .....max_depth=8, n_estimators=5;, score=-10.424 total time=   1.1s\n",
      "[CV 2/3] END .....max_depth=8, n_estimators=5;, score=-10.481 total time=   1.0s\n",
      "[CV 3/3] END .....max_depth=8, n_estimators=5;, score=-13.991 total time=   1.1s\n",
      "[CV 1/3] END ......max_depth=8, n_estimators=8;, score=-9.420 total time=   1.7s\n",
      "[CV 2/3] END ......max_depth=8, n_estimators=8;, score=-9.536 total time=   1.7s\n",
      "[CV 3/3] END .....max_depth=8, n_estimators=8;, score=-14.935 total time=   1.7s\n"
     ]
    },
    {
     "data": {
      "text/plain": [
       "GridSearchCV(cv=3, estimator=RandomForestRegressor(),\n",
       "             param_grid={'max_depth': range(2, 10, 3),\n",
       "                         'n_estimators': range(2, 10, 3)},\n",
       "             scoring=make_scorer(sMAPE, greater_is_better=False), verbose=3)"
      ]
     },
     "execution_count": 42,
     "metadata": {},
     "output_type": "execute_result"
    }
   ],
   "source": [
    "gcv.fit(features, target_final)"
   ]
  },
  {
   "cell_type": "code",
   "execution_count": 43,
   "metadata": {},
   "outputs": [
    {
     "data": {
      "text/plain": [
       "-10.052175020746718"
      ]
     },
     "execution_count": 43,
     "metadata": {},
     "output_type": "execute_result"
    }
   ],
   "source": [
    "score_final = gcv.best_score_\n",
    "score_final"
   ]
  },
  {
   "cell_type": "code",
   "execution_count": 44,
   "metadata": {},
   "outputs": [
    {
     "data": {
      "text/plain": [
       "-9.390887766095435"
      ]
     },
     "execution_count": 44,
     "metadata": {},
     "output_type": "execute_result"
    }
   ],
   "source": [
    "smape_weighted = score_rougher*0.25 + score_final*0.75\n",
    "smape_weighted"
   ]
  },
  {
   "cell_type": "code",
   "execution_count": 45,
   "metadata": {},
   "outputs": [
    {
     "data": {
      "text/plain": [
       "{'max_depth': 2, 'n_estimators': 8}"
      ]
     },
     "execution_count": 45,
     "metadata": {},
     "output_type": "execute_result"
    }
   ],
   "source": [
    "gcv.best_params_"
   ]
  },
  {
   "cell_type": "markdown",
   "metadata": {},
   "source": [
    "Линейная регрессия"
   ]
  },
  {
   "cell_type": "code",
   "execution_count": 46,
   "metadata": {},
   "outputs": [
    {
     "name": "stdout",
     "output_type": "stream",
     "text": [
      "-7.052625541374465\n",
      "-11.139514084556438\n",
      "-10.117791948760946\n"
     ]
    }
   ],
   "source": [
    "model = LinearRegression()\n",
    "\n",
    "scores_rougher = cross_val_score(model, features,target_rougher, cv=5, scoring=my_scorer)\n",
    "mean_score_rougher = scores_rougher.mean()\n",
    "print(mean_score_rougher)\n",
    "\n",
    "scores_final = cross_val_score(model,features,target_final, cv=5, scoring=my_scorer)\n",
    "mean_score_final = scores_final.mean()\n",
    "print(mean_score_final)\n",
    "\n",
    "smape_weighted = mean_score_rougher*0.25 + mean_score_final*0.75\n",
    "print(smape_weighted)"
   ]
  },
  {
   "cell_type": "code",
   "execution_count": 47,
   "metadata": {},
   "outputs": [
    {
     "name": "stdout",
     "output_type": "stream",
     "text": [
      "Fitting 5 folds for each of 3 candidates, totalling 15 fits\n",
      "[CV 1/5] END ......................max_depth=2;, score=-7.687 total time=   0.1s\n",
      "[CV 2/5] END ......................max_depth=2;, score=-7.307 total time=   0.0s\n",
      "[CV 3/5] END ......................max_depth=2;, score=-5.422 total time=   0.1s\n",
      "[CV 4/5] END ......................max_depth=2;, score=-6.026 total time=   0.1s\n",
      "[CV 5/5] END ......................max_depth=2;, score=-7.779 total time=   0.0s\n",
      "[CV 1/5] END ......................max_depth=5;, score=-8.860 total time=   0.2s\n",
      "[CV 2/5] END ......................max_depth=5;, score=-7.676 total time=   0.2s\n",
      "[CV 3/5] END ......................max_depth=5;, score=-6.059 total time=   0.2s\n",
      "[CV 4/5] END ......................max_depth=5;, score=-4.855 total time=   0.2s\n",
      "[CV 5/5] END ......................max_depth=5;, score=-7.229 total time=   0.3s\n",
      "[CV 1/5] END ......................max_depth=8;, score=-9.882 total time=   0.5s\n",
      "[CV 2/5] END ......................max_depth=8;, score=-7.065 total time=   0.5s\n",
      "[CV 3/5] END ......................max_depth=8;, score=-7.974 total time=   0.5s\n",
      "[CV 4/5] END ......................max_depth=8;, score=-6.589 total time=   0.5s\n",
      "[CV 5/5] END ......................max_depth=8;, score=-7.306 total time=   0.5s\n"
     ]
    },
    {
     "data": {
      "text/plain": [
       "GridSearchCV(cv=5, estimator=DecisionTreeRegressor(),\n",
       "             param_grid={'max_depth': range(2, 10, 3)},\n",
       "             scoring=make_scorer(sMAPE, greater_is_better=False), verbose=3)"
      ]
     },
     "execution_count": 47,
     "metadata": {},
     "output_type": "execute_result"
    }
   ],
   "source": [
    "model =DecisionTreeRegressor()\n",
    "params = {'max_depth': range(2, 10, 3)}\n",
    "gcv = GridSearchCV(model, params, cv=5, verbose=3, scoring=my_scorer)\n",
    "gcv.fit(features, target_rougher)"
   ]
  },
  {
   "cell_type": "code",
   "execution_count": 48,
   "metadata": {},
   "outputs": [
    {
     "data": {
      "text/plain": [
       "-6.84439267169858"
      ]
     },
     "execution_count": 48,
     "metadata": {},
     "output_type": "execute_result"
    }
   ],
   "source": [
    "score_rougher = gcv.best_score_\n",
    "score_rougher"
   ]
  },
  {
   "cell_type": "code",
   "execution_count": 49,
   "metadata": {},
   "outputs": [
    {
     "name": "stdout",
     "output_type": "stream",
     "text": [
      "Fitting 5 folds for each of 3 candidates, totalling 15 fits\n",
      "[CV 1/5] END ......................max_depth=2;, score=-9.754 total time=   0.0s\n",
      "[CV 2/5] END ......................max_depth=2;, score=-7.950 total time=   0.1s\n",
      "[CV 3/5] END ......................max_depth=2;, score=-8.722 total time=   0.0s\n",
      "[CV 4/5] END ......................max_depth=2;, score=-9.273 total time=   0.1s\n",
      "[CV 5/5] END .....................max_depth=2;, score=-10.672 total time=   0.0s\n",
      "[CV 1/5] END .....................max_depth=5;, score=-10.196 total time=   0.2s\n",
      "[CV 2/5] END .....................max_depth=5;, score=-13.718 total time=   0.4s\n",
      "[CV 3/5] END ......................max_depth=5;, score=-8.375 total time=   0.2s\n",
      "[CV 4/5] END ......................max_depth=5;, score=-8.506 total time=   0.3s\n",
      "[CV 5/5] END .....................max_depth=5;, score=-10.568 total time=   0.2s\n",
      "[CV 1/5] END .....................max_depth=8;, score=-13.020 total time=   0.4s\n",
      "[CV 2/5] END .....................max_depth=8;, score=-14.579 total time=   0.5s\n",
      "[CV 3/5] END .....................max_depth=8;, score=-10.846 total time=   0.4s\n",
      "[CV 4/5] END .....................max_depth=8;, score=-10.309 total time=   0.4s\n",
      "[CV 5/5] END .....................max_depth=8;, score=-11.290 total time=   0.4s\n"
     ]
    },
    {
     "data": {
      "text/plain": [
       "GridSearchCV(cv=5, estimator=DecisionTreeRegressor(),\n",
       "             param_grid={'max_depth': range(2, 10, 3)},\n",
       "             scoring=make_scorer(sMAPE, greater_is_better=False), verbose=3)"
      ]
     },
     "execution_count": 49,
     "metadata": {},
     "output_type": "execute_result"
    }
   ],
   "source": [
    "gcv.fit(features, target_final)"
   ]
  },
  {
   "cell_type": "code",
   "execution_count": 50,
   "metadata": {},
   "outputs": [
    {
     "data": {
      "text/plain": [
       "-9.274481764522438"
      ]
     },
     "execution_count": 50,
     "metadata": {},
     "output_type": "execute_result"
    }
   ],
   "source": [
    "score_final = gcv.best_score_\n",
    "score_final"
   ]
  },
  {
   "cell_type": "code",
   "execution_count": 51,
   "metadata": {},
   "outputs": [
    {
     "data": {
      "text/plain": [
       "-8.666959491316474"
      ]
     },
     "execution_count": 51,
     "metadata": {},
     "output_type": "execute_result"
    }
   ],
   "source": [
    "smape_weighted = score_rougher*0.25 + score_final*0.75\n",
    "smape_weighted"
   ]
  },
  {
   "cell_type": "code",
   "execution_count": 52,
   "metadata": {},
   "outputs": [
    {
     "data": {
      "text/plain": [
       "{'max_depth': 2}"
      ]
     },
     "execution_count": 52,
     "metadata": {},
     "output_type": "execute_result"
    }
   ],
   "source": [
    "gcv.best_params_"
   ]
  },
  {
   "cell_type": "markdown",
   "metadata": {},
   "source": [
    "Проверка модели на адекватность"
   ]
  },
  {
   "cell_type": "code",
   "execution_count": 53,
   "metadata": {},
   "outputs": [],
   "source": [
    "#параметры для тестирования\n",
    "df_test = df_test.merge(df_full[['date', 'rougher.output.recovery', 'final.output.recovery' ]], on='date', how='inner')\n",
    "features_test = df_test.drop(columns=['date', 'rougher.output.recovery', 'final.output.recovery'])\n",
    "test_final = df_test['final.output.recovery']\n",
    "test_rougher = df_test['rougher.output.recovery']\n",
    "\n",
    "features_test = scaler.fit_transform(features_test)"
   ]
  },
  {
   "cell_type": "code",
   "execution_count": 54,
   "metadata": {},
   "outputs": [
    {
     "data": {
      "text/plain": [
       "5.295861334034737"
      ]
     },
     "execution_count": 54,
     "metadata": {},
     "output_type": "execute_result"
    }
   ],
   "source": [
    "#DummyModel\n",
    "dmm = DummyRegressor()\n",
    "dmm.fit(features, target_rougher)\n",
    "pred = dmm.predict(features_test)\n",
    "dmm_rougher = sMAPE(pred, test_rougher)\n",
    "dmm_rougher"
   ]
  },
  {
   "cell_type": "code",
   "execution_count": 55,
   "metadata": {},
   "outputs": [
    {
     "data": {
      "text/plain": [
       "8.422358510902017"
      ]
     },
     "execution_count": 55,
     "metadata": {},
     "output_type": "execute_result"
    }
   ],
   "source": [
    "dmm.fit(features, target_final)\n",
    "pred = dmm.predict(features_test)\n",
    "dmm_final= sMAPE(pred, test_final)\n",
    "dmm_final"
   ]
  },
  {
   "cell_type": "code",
   "execution_count": 56,
   "metadata": {},
   "outputs": [
    {
     "data": {
      "text/plain": [
       "7.640734216685197"
      ]
     },
     "execution_count": 56,
     "metadata": {},
     "output_type": "execute_result"
    }
   ],
   "source": [
    "smape_weighted = dmm_rougher*0.25 + dmm_final*0.75\n",
    "smape_weighted"
   ]
  },
  {
   "cell_type": "markdown",
   "metadata": {},
   "source": [
    "В итоге мы видим, что DummyModel имеет метрики даже лучше нашей модели. Вывод простой - наши модели не смогли адекватно обучиться, причин много. Скорее всего в данных очень много шума."
   ]
  },
  {
   "cell_type": "code",
   "execution_count": 57,
   "metadata": {},
   "outputs": [
    {
     "data": {
      "text/plain": [
       "5.108099556882214"
      ]
     },
     "execution_count": 57,
     "metadata": {},
     "output_type": "execute_result"
    }
   ],
   "source": [
    "model = DecisionTreeRegressor(max_depth=2)\n",
    "model.fit(features, target_rougher)\n",
    "predictions = model.predict(features_test)\n",
    "dtr_rougher = sMAPE(predictions, test_rougher)\n",
    "dtr_rougher"
   ]
  },
  {
   "cell_type": "code",
   "execution_count": 58,
   "metadata": {},
   "outputs": [
    {
     "data": {
      "text/plain": [
       "8.932735945515729"
      ]
     },
     "execution_count": 58,
     "metadata": {},
     "output_type": "execute_result"
    }
   ],
   "source": [
    "model.fit(features, target_final)\n",
    "predictions = model.predict(features_test)\n",
    "dtr_final = sMAPE(predictions, test_final)\n",
    "dtr_final"
   ]
  },
  {
   "cell_type": "code",
   "execution_count": 59,
   "metadata": {},
   "outputs": [
    {
     "data": {
      "text/plain": [
       "7.97657684835735"
      ]
     },
     "execution_count": 59,
     "metadata": {},
     "output_type": "execute_result"
    }
   ],
   "source": [
    "smape_weighted_dtr = dtr_rougher*0.25 + dtr_final*0.75\n",
    "smape_weighted_dtr"
   ]
  },
  {
   "cell_type": "markdown",
   "metadata": {},
   "source": [
    "Однако из тех моделей что есть минимальное отклонение у нас было у DecisionTreeRegressor(), по сути, эта модель и есть единственно возможная для принятие нужного скора."
   ]
  }
 ],
 "metadata": {
  "ExecuteTimeLog": [
   {
    "duration": 491,
    "start_time": "2022-06-08T11:55:06.197Z"
   },
   {
    "duration": 1239,
    "start_time": "2022-06-08T11:56:10.947Z"
   },
   {
    "duration": 2389,
    "start_time": "2022-06-08T11:57:59.255Z"
   },
   {
    "duration": 6,
    "start_time": "2022-06-08T14:08:04.291Z"
   },
   {
    "duration": 100,
    "start_time": "2022-06-08T14:18:57.987Z"
   },
   {
    "duration": 8,
    "start_time": "2022-06-08T14:20:11.865Z"
   },
   {
    "duration": 6,
    "start_time": "2022-06-08T14:23:23.403Z"
   },
   {
    "duration": 9,
    "start_time": "2022-06-08T14:24:08.793Z"
   },
   {
    "duration": 8,
    "start_time": "2022-06-08T14:24:19.762Z"
   },
   {
    "duration": 75,
    "start_time": "2022-06-08T14:55:25.886Z"
   },
   {
    "duration": 499,
    "start_time": "2022-06-08T14:55:37.799Z"
   },
   {
    "duration": 3642,
    "start_time": "2022-06-08T14:55:38.307Z"
   },
   {
    "duration": 6,
    "start_time": "2022-06-08T14:55:41.951Z"
   },
   {
    "duration": 17,
    "start_time": "2022-06-08T14:55:41.959Z"
   },
   {
    "duration": 9,
    "start_time": "2022-06-08T14:58:26.643Z"
   },
   {
    "duration": 641,
    "start_time": "2022-06-08T14:58:41.958Z"
   },
   {
    "duration": 9,
    "start_time": "2022-06-08T15:01:33.192Z"
   },
   {
    "duration": 12,
    "start_time": "2022-06-08T15:02:02.746Z"
   },
   {
    "duration": 132,
    "start_time": "2022-06-08T15:07:05.627Z"
   },
   {
    "duration": 10,
    "start_time": "2022-06-08T15:07:09.897Z"
   },
   {
    "duration": 21,
    "start_time": "2022-06-08T15:07:16.927Z"
   },
   {
    "duration": 14,
    "start_time": "2022-06-08T15:07:32.199Z"
   },
   {
    "duration": 5,
    "start_time": "2022-06-08T15:08:13.474Z"
   },
   {
    "duration": 4,
    "start_time": "2022-06-08T15:10:51.960Z"
   },
   {
    "duration": 13,
    "start_time": "2022-06-08T15:10:57.228Z"
   },
   {
    "duration": 4,
    "start_time": "2022-06-08T15:12:06.519Z"
   },
   {
    "duration": 8,
    "start_time": "2022-06-08T15:13:52.695Z"
   },
   {
    "duration": 10,
    "start_time": "2022-06-08T15:14:21.452Z"
   },
   {
    "duration": 3,
    "start_time": "2022-06-08T15:14:40.643Z"
   },
   {
    "duration": 10,
    "start_time": "2022-06-08T15:14:41.398Z"
   },
   {
    "duration": 7,
    "start_time": "2022-06-08T15:15:34.558Z"
   },
   {
    "duration": 4,
    "start_time": "2022-06-08T15:15:40.143Z"
   },
   {
    "duration": 4,
    "start_time": "2022-06-08T15:19:34.815Z"
   },
   {
    "duration": 7,
    "start_time": "2022-06-08T15:20:29.561Z"
   },
   {
    "duration": 14,
    "start_time": "2022-06-08T15:20:36.795Z"
   },
   {
    "duration": 12,
    "start_time": "2022-06-08T15:20:47.612Z"
   },
   {
    "duration": 950,
    "start_time": "2022-06-08T15:22:02.490Z"
   },
   {
    "duration": 1230,
    "start_time": "2022-06-08T15:22:03.442Z"
   },
   {
    "duration": 10,
    "start_time": "2022-06-08T15:22:04.673Z"
   },
   {
    "duration": 37,
    "start_time": "2022-06-08T15:22:04.686Z"
   },
   {
    "duration": 45,
    "start_time": "2022-06-08T15:22:04.725Z"
   },
   {
    "duration": 7,
    "start_time": "2022-06-08T15:22:04.772Z"
   },
   {
    "duration": 13,
    "start_time": "2022-06-08T15:22:04.781Z"
   },
   {
    "duration": 3,
    "start_time": "2022-06-08T15:22:15.188Z"
   },
   {
    "duration": 98,
    "start_time": "2022-06-08T15:22:33.819Z"
   },
   {
    "duration": 16,
    "start_time": "2022-06-08T15:23:00.516Z"
   },
   {
    "duration": 967,
    "start_time": "2022-06-08T15:23:07.968Z"
   },
   {
    "duration": 799,
    "start_time": "2022-06-08T15:23:08.937Z"
   },
   {
    "duration": 6,
    "start_time": "2022-06-08T15:23:09.737Z"
   },
   {
    "duration": 29,
    "start_time": "2022-06-08T15:23:09.745Z"
   },
   {
    "duration": 33,
    "start_time": "2022-06-08T15:23:09.776Z"
   },
   {
    "duration": 23,
    "start_time": "2022-06-08T15:23:09.811Z"
   },
   {
    "duration": 23,
    "start_time": "2022-06-08T15:23:09.836Z"
   },
   {
    "duration": 26,
    "start_time": "2022-06-08T15:23:09.861Z"
   },
   {
    "duration": 23,
    "start_time": "2022-06-08T15:23:22.773Z"
   },
   {
    "duration": 10,
    "start_time": "2022-06-08T15:23:29.607Z"
   },
   {
    "duration": 18,
    "start_time": "2022-06-08T15:24:26.438Z"
   },
   {
    "duration": 1059,
    "start_time": "2022-06-09T10:44:20.332Z"
   },
   {
    "duration": 2047,
    "start_time": "2022-06-09T10:44:21.393Z"
   },
   {
    "duration": 6,
    "start_time": "2022-06-09T10:44:23.442Z"
   },
   {
    "duration": 12,
    "start_time": "2022-06-09T10:44:23.458Z"
   },
   {
    "duration": 4,
    "start_time": "2022-06-09T10:44:23.472Z"
   },
   {
    "duration": 9,
    "start_time": "2022-06-09T10:44:23.478Z"
   },
   {
    "duration": 20,
    "start_time": "2022-06-09T10:44:23.488Z"
   },
   {
    "duration": 33,
    "start_time": "2022-06-09T11:53:12.832Z"
   },
   {
    "duration": 629,
    "start_time": "2022-06-09T11:56:21.508Z"
   },
   {
    "duration": 8,
    "start_time": "2022-06-09T11:57:31.622Z"
   },
   {
    "duration": 7,
    "start_time": "2022-06-09T11:58:36.692Z"
   },
   {
    "duration": 9,
    "start_time": "2022-06-09T11:58:39.549Z"
   },
   {
    "duration": 5,
    "start_time": "2022-06-09T11:58:57.757Z"
   },
   {
    "duration": 5,
    "start_time": "2022-06-09T11:59:27.546Z"
   },
   {
    "duration": 1157,
    "start_time": "2022-06-09T11:59:40.954Z"
   },
   {
    "duration": 1268,
    "start_time": "2022-06-09T11:59:42.113Z"
   },
   {
    "duration": 6,
    "start_time": "2022-06-09T11:59:43.382Z"
   },
   {
    "duration": 13,
    "start_time": "2022-06-09T11:59:43.390Z"
   },
   {
    "duration": 5,
    "start_time": "2022-06-09T11:59:43.404Z"
   },
   {
    "duration": 12,
    "start_time": "2022-06-09T11:59:43.411Z"
   },
   {
    "duration": 9,
    "start_time": "2022-06-09T11:59:43.425Z"
   },
   {
    "duration": 7,
    "start_time": "2022-06-09T11:59:43.459Z"
   },
   {
    "duration": 6,
    "start_time": "2022-06-09T11:59:43.468Z"
   },
   {
    "duration": 35,
    "start_time": "2022-06-09T11:59:43.476Z"
   },
   {
    "duration": 15,
    "start_time": "2022-06-09T12:27:30.043Z"
   },
   {
    "duration": 6,
    "start_time": "2022-06-09T12:32:06.605Z"
   },
   {
    "duration": 95,
    "start_time": "2022-06-09T12:32:18.342Z"
   },
   {
    "duration": 12,
    "start_time": "2022-06-09T12:33:18.063Z"
   },
   {
    "duration": 1027,
    "start_time": "2022-06-09T12:33:33.987Z"
   },
   {
    "duration": 862,
    "start_time": "2022-06-09T12:33:35.016Z"
   },
   {
    "duration": 7,
    "start_time": "2022-06-09T12:33:35.880Z"
   },
   {
    "duration": 17,
    "start_time": "2022-06-09T12:33:35.889Z"
   },
   {
    "duration": 29,
    "start_time": "2022-06-09T12:33:35.909Z"
   },
   {
    "duration": 24,
    "start_time": "2022-06-09T12:33:35.941Z"
   },
   {
    "duration": 15,
    "start_time": "2022-06-09T12:33:35.968Z"
   },
   {
    "duration": 28,
    "start_time": "2022-06-09T12:33:35.985Z"
   },
   {
    "duration": 17,
    "start_time": "2022-06-09T12:33:36.015Z"
   },
   {
    "duration": 40,
    "start_time": "2022-06-09T12:33:36.034Z"
   },
   {
    "duration": 15,
    "start_time": "2022-06-09T12:33:36.076Z"
   },
   {
    "duration": 6,
    "start_time": "2022-06-09T12:33:36.092Z"
   },
   {
    "duration": 126,
    "start_time": "2022-06-09T12:33:36.100Z"
   },
   {
    "duration": 9,
    "start_time": "2022-06-09T12:33:58.104Z"
   },
   {
    "duration": 8,
    "start_time": "2022-06-09T12:57:33.617Z"
   },
   {
    "duration": 984,
    "start_time": "2022-06-09T12:57:53.510Z"
   },
   {
    "duration": 892,
    "start_time": "2022-06-09T12:57:54.496Z"
   },
   {
    "duration": 6,
    "start_time": "2022-06-09T12:57:55.390Z"
   },
   {
    "duration": 10,
    "start_time": "2022-06-09T12:57:55.398Z"
   },
   {
    "duration": 5,
    "start_time": "2022-06-09T12:57:55.410Z"
   },
   {
    "duration": 11,
    "start_time": "2022-06-09T12:57:55.417Z"
   },
   {
    "duration": 6,
    "start_time": "2022-06-09T12:57:55.458Z"
   },
   {
    "duration": 9,
    "start_time": "2022-06-09T12:57:55.465Z"
   },
   {
    "duration": 7,
    "start_time": "2022-06-09T12:57:55.476Z"
   },
   {
    "duration": 33,
    "start_time": "2022-06-09T12:57:55.485Z"
   },
   {
    "duration": 39,
    "start_time": "2022-06-09T12:57:55.519Z"
   },
   {
    "duration": 9,
    "start_time": "2022-06-09T12:57:55.560Z"
   },
   {
    "duration": 7,
    "start_time": "2022-06-09T12:57:55.571Z"
   },
   {
    "duration": 94,
    "start_time": "2022-06-09T12:58:39.254Z"
   },
   {
    "duration": 8,
    "start_time": "2022-06-09T12:58:47.763Z"
   },
   {
    "duration": 7,
    "start_time": "2022-06-09T13:00:30.022Z"
   },
   {
    "duration": 1080,
    "start_time": "2022-06-09T13:00:36.449Z"
   },
   {
    "duration": 761,
    "start_time": "2022-06-09T13:00:37.531Z"
   },
   {
    "duration": 6,
    "start_time": "2022-06-09T13:00:38.294Z"
   },
   {
    "duration": 27,
    "start_time": "2022-06-09T13:00:38.302Z"
   },
   {
    "duration": 15,
    "start_time": "2022-06-09T13:00:38.331Z"
   },
   {
    "duration": 41,
    "start_time": "2022-06-09T13:00:38.348Z"
   },
   {
    "duration": 11,
    "start_time": "2022-06-09T13:00:38.391Z"
   },
   {
    "duration": 22,
    "start_time": "2022-06-09T13:00:38.403Z"
   },
   {
    "duration": 38,
    "start_time": "2022-06-09T13:00:38.427Z"
   },
   {
    "duration": 46,
    "start_time": "2022-06-09T13:00:38.467Z"
   },
   {
    "duration": 14,
    "start_time": "2022-06-09T13:00:38.515Z"
   },
   {
    "duration": 27,
    "start_time": "2022-06-09T13:00:38.530Z"
   },
   {
    "duration": 10,
    "start_time": "2022-06-09T13:00:38.559Z"
   },
   {
    "duration": 20,
    "start_time": "2022-06-09T13:00:38.572Z"
   },
   {
    "duration": 17,
    "start_time": "2022-06-09T13:00:49.382Z"
   },
   {
    "duration": 28,
    "start_time": "2022-06-09T13:03:10.784Z"
   },
   {
    "duration": 63,
    "start_time": "2022-06-09T13:03:35.525Z"
   },
   {
    "duration": 20,
    "start_time": "2022-06-09T13:07:30.587Z"
   },
   {
    "duration": 12,
    "start_time": "2022-06-09T13:11:49.922Z"
   },
   {
    "duration": 27,
    "start_time": "2022-06-09T13:12:00.252Z"
   },
   {
    "duration": 15,
    "start_time": "2022-06-09T13:12:12.152Z"
   },
   {
    "duration": 29,
    "start_time": "2022-06-09T13:12:21.994Z"
   },
   {
    "duration": 20,
    "start_time": "2022-06-09T13:12:53.355Z"
   },
   {
    "duration": 94,
    "start_time": "2022-06-09T13:13:13.011Z"
   },
   {
    "duration": 392,
    "start_time": "2022-06-09T13:18:53.602Z"
   },
   {
    "duration": 22,
    "start_time": "2022-06-09T13:20:28.555Z"
   },
   {
    "duration": 110,
    "start_time": "2022-06-09T13:26:22.393Z"
   },
   {
    "duration": 1014,
    "start_time": "2022-06-09T13:26:33.824Z"
   },
   {
    "duration": 427,
    "start_time": "2022-06-09T13:27:29.095Z"
   },
   {
    "duration": 401,
    "start_time": "2022-06-09T13:28:14.104Z"
   },
   {
    "duration": 461,
    "start_time": "2022-06-09T13:28:26.452Z"
   },
   {
    "duration": 5,
    "start_time": "2022-06-09T13:29:43.120Z"
   },
   {
    "duration": 5,
    "start_time": "2022-06-09T13:30:26.994Z"
   },
   {
    "duration": 398,
    "start_time": "2022-06-09T13:35:52.112Z"
   },
   {
    "duration": 426,
    "start_time": "2022-06-09T13:38:25.446Z"
   },
   {
    "duration": 38,
    "start_time": "2022-06-09T13:47:55.527Z"
   },
   {
    "duration": 536,
    "start_time": "2022-06-09T13:48:00.855Z"
   },
   {
    "duration": 405,
    "start_time": "2022-06-09T13:49:15.292Z"
   },
   {
    "duration": 425,
    "start_time": "2022-06-09T13:51:37.481Z"
   },
   {
    "duration": 14,
    "start_time": "2022-06-09T13:57:01.514Z"
   },
   {
    "duration": 5,
    "start_time": "2022-06-09T13:58:25.845Z"
   },
   {
    "duration": 5,
    "start_time": "2022-06-09T13:58:52.303Z"
   },
   {
    "duration": 5,
    "start_time": "2022-06-09T13:59:24.930Z"
   },
   {
    "duration": 5,
    "start_time": "2022-06-09T13:59:35.115Z"
   },
   {
    "duration": 290,
    "start_time": "2022-06-09T14:01:15.198Z"
   },
   {
    "duration": 262,
    "start_time": "2022-06-09T14:02:16.498Z"
   },
   {
    "duration": 293,
    "start_time": "2022-06-09T14:02:41.754Z"
   },
   {
    "duration": 221,
    "start_time": "2022-06-09T14:03:42.140Z"
   },
   {
    "duration": 382,
    "start_time": "2022-06-09T14:04:22.662Z"
   },
   {
    "duration": 222,
    "start_time": "2022-06-09T14:04:30.730Z"
   },
   {
    "duration": 8,
    "start_time": "2022-06-09T14:06:26.272Z"
   },
   {
    "duration": 20,
    "start_time": "2022-06-09T14:06:53.204Z"
   },
   {
    "duration": 11,
    "start_time": "2022-06-09T14:07:45.400Z"
   },
   {
    "duration": 20,
    "start_time": "2022-06-09T14:07:46.210Z"
   },
   {
    "duration": 9,
    "start_time": "2022-06-09T14:07:57.834Z"
   },
   {
    "duration": 1248,
    "start_time": "2022-06-09T14:08:09.502Z"
   },
   {
    "duration": 788,
    "start_time": "2022-06-09T14:08:10.752Z"
   },
   {
    "duration": 18,
    "start_time": "2022-06-09T14:08:11.541Z"
   },
   {
    "duration": 9,
    "start_time": "2022-06-09T14:08:11.562Z"
   },
   {
    "duration": 15,
    "start_time": "2022-06-09T14:08:11.573Z"
   },
   {
    "duration": 15,
    "start_time": "2022-06-09T14:08:11.590Z"
   },
   {
    "duration": 11,
    "start_time": "2022-06-09T14:08:11.607Z"
   },
   {
    "duration": 5,
    "start_time": "2022-06-09T14:08:11.620Z"
   },
   {
    "duration": 9,
    "start_time": "2022-06-09T14:08:11.627Z"
   },
   {
    "duration": 50,
    "start_time": "2022-06-09T14:08:11.638Z"
   },
   {
    "duration": 72,
    "start_time": "2022-06-09T14:08:11.689Z"
   },
   {
    "duration": 35,
    "start_time": "2022-06-09T14:08:11.763Z"
   },
   {
    "duration": 510,
    "start_time": "2022-06-09T14:08:11.800Z"
   },
   {
    "duration": 415,
    "start_time": "2022-06-09T14:08:12.312Z"
   },
   {
    "duration": 506,
    "start_time": "2022-06-09T14:08:12.729Z"
   },
   {
    "duration": 24,
    "start_time": "2022-06-09T14:08:13.237Z"
   },
   {
    "duration": 5,
    "start_time": "2022-06-09T14:08:13.263Z"
   },
   {
    "duration": 37,
    "start_time": "2022-06-09T14:08:13.269Z"
   },
   {
    "duration": 14,
    "start_time": "2022-06-09T14:08:13.308Z"
   },
   {
    "duration": 19,
    "start_time": "2022-06-09T14:08:13.324Z"
   },
   {
    "duration": 230,
    "start_time": "2022-06-09T14:08:13.345Z"
   },
   {
    "duration": 246,
    "start_time": "2022-06-09T14:08:13.577Z"
   },
   {
    "duration": 124,
    "start_time": "2022-06-09T14:08:13.825Z"
   },
   {
    "duration": 0,
    "start_time": "2022-06-09T14:08:13.951Z"
   },
   {
    "duration": 29,
    "start_time": "2022-06-09T14:13:14.578Z"
   },
   {
    "duration": 42,
    "start_time": "2022-06-09T14:13:27.660Z"
   },
   {
    "duration": 31,
    "start_time": "2022-06-09T14:14:33.631Z"
   },
   {
    "duration": 38,
    "start_time": "2022-06-09T14:14:39.032Z"
   },
   {
    "duration": 9,
    "start_time": "2022-06-09T14:17:14.715Z"
   },
   {
    "duration": 7,
    "start_time": "2022-06-09T14:17:27.211Z"
   },
   {
    "duration": 8,
    "start_time": "2022-06-09T14:24:09.036Z"
   },
   {
    "duration": 45,
    "start_time": "2022-06-09T14:24:22.306Z"
   },
   {
    "duration": 6,
    "start_time": "2022-06-09T14:25:42.977Z"
   },
   {
    "duration": 1304,
    "start_time": "2022-06-09T14:25:55.168Z"
   },
   {
    "duration": 826,
    "start_time": "2022-06-09T14:25:56.475Z"
   },
   {
    "duration": 7,
    "start_time": "2022-06-09T14:25:57.302Z"
   },
   {
    "duration": 21,
    "start_time": "2022-06-09T14:25:57.311Z"
   },
   {
    "duration": 7,
    "start_time": "2022-06-09T14:25:57.335Z"
   },
   {
    "duration": 11,
    "start_time": "2022-06-09T14:25:57.359Z"
   },
   {
    "duration": 20,
    "start_time": "2022-06-09T14:25:57.372Z"
   },
   {
    "duration": 17,
    "start_time": "2022-06-09T14:25:57.394Z"
   },
   {
    "duration": 17,
    "start_time": "2022-06-09T14:25:57.414Z"
   },
   {
    "duration": 38,
    "start_time": "2022-06-09T14:25:57.434Z"
   },
   {
    "duration": 104,
    "start_time": "2022-06-09T14:25:57.474Z"
   },
   {
    "duration": 34,
    "start_time": "2022-06-09T14:25:57.581Z"
   },
   {
    "duration": 469,
    "start_time": "2022-06-09T14:25:57.617Z"
   },
   {
    "duration": 420,
    "start_time": "2022-06-09T14:25:58.088Z"
   },
   {
    "duration": 506,
    "start_time": "2022-06-09T14:25:58.510Z"
   },
   {
    "duration": 5,
    "start_time": "2022-06-09T14:25:59.017Z"
   },
   {
    "duration": 8,
    "start_time": "2022-06-09T14:25:59.024Z"
   },
   {
    "duration": 8,
    "start_time": "2022-06-09T14:25:59.034Z"
   },
   {
    "duration": 5,
    "start_time": "2022-06-09T14:25:59.058Z"
   },
   {
    "duration": 238,
    "start_time": "2022-06-09T14:25:59.064Z"
   },
   {
    "duration": 223,
    "start_time": "2022-06-09T14:25:59.303Z"
   },
   {
    "duration": 7,
    "start_time": "2022-06-09T14:25:59.528Z"
   },
   {
    "duration": 46,
    "start_time": "2022-06-09T14:25:59.537Z"
   },
   {
    "duration": 1030,
    "start_time": "2022-06-09T14:26:51.763Z"
   },
   {
    "duration": 39,
    "start_time": "2022-06-09T14:27:26.721Z"
   },
   {
    "duration": 40,
    "start_time": "2022-06-09T14:27:45.972Z"
   },
   {
    "duration": 245,
    "start_time": "2022-06-09T14:28:06.309Z"
   },
   {
    "duration": 5,
    "start_time": "2022-06-09T14:28:36.959Z"
   },
   {
    "duration": 5,
    "start_time": "2022-06-09T14:28:52.464Z"
   },
   {
    "duration": 51,
    "start_time": "2022-06-09T14:29:33.969Z"
   },
   {
    "duration": 5,
    "start_time": "2022-06-09T14:31:28.557Z"
   },
   {
    "duration": 219,
    "start_time": "2022-06-09T14:31:40.611Z"
   },
   {
    "duration": 255,
    "start_time": "2022-06-09T14:32:01.369Z"
   },
   {
    "duration": 6,
    "start_time": "2022-06-09T14:32:09.611Z"
   },
   {
    "duration": 5,
    "start_time": "2022-06-09T14:32:10.669Z"
   },
   {
    "duration": 42,
    "start_time": "2022-06-09T14:34:09.457Z"
   },
   {
    "duration": 227,
    "start_time": "2022-06-09T14:36:15.859Z"
   },
   {
    "duration": 215,
    "start_time": "2022-06-09T14:36:29.199Z"
   },
   {
    "duration": 313,
    "start_time": "2022-06-09T14:36:41.715Z"
   },
   {
    "duration": 18,
    "start_time": "2022-06-09T14:47:09.153Z"
   },
   {
    "duration": 21,
    "start_time": "2022-06-09T14:49:38.802Z"
   },
   {
    "duration": 5,
    "start_time": "2022-06-09T14:52:04.607Z"
   },
   {
    "duration": 9,
    "start_time": "2022-06-09T14:52:13.273Z"
   },
   {
    "duration": 231,
    "start_time": "2022-06-09T14:52:52.856Z"
   },
   {
    "duration": 313,
    "start_time": "2022-06-09T14:53:02.340Z"
   },
   {
    "duration": 345,
    "start_time": "2022-06-09T14:54:18.723Z"
   },
   {
    "duration": 324,
    "start_time": "2022-06-09T14:56:10.956Z"
   },
   {
    "duration": 433,
    "start_time": "2022-06-09T14:56:17.483Z"
   },
   {
    "duration": 272,
    "start_time": "2022-06-09T14:56:33.460Z"
   },
   {
    "duration": 252,
    "start_time": "2022-06-09T14:56:43.336Z"
   },
   {
    "duration": 273,
    "start_time": "2022-06-09T14:57:27.011Z"
   },
   {
    "duration": 301,
    "start_time": "2022-06-09T14:57:50.253Z"
   },
   {
    "duration": 303,
    "start_time": "2022-06-09T14:59:53.638Z"
   },
   {
    "duration": 10,
    "start_time": "2022-06-09T15:01:14.574Z"
   },
   {
    "duration": 292,
    "start_time": "2022-06-09T15:01:48.315Z"
   },
   {
    "duration": 484,
    "start_time": "2022-06-09T15:02:34.512Z"
   },
   {
    "duration": 286,
    "start_time": "2022-06-09T15:02:57.694Z"
   },
   {
    "duration": 1197,
    "start_time": "2022-06-10T12:04:44.912Z"
   },
   {
    "duration": 1731,
    "start_time": "2022-06-10T12:04:46.111Z"
   },
   {
    "duration": 5,
    "start_time": "2022-06-10T12:04:47.843Z"
   },
   {
    "duration": 9,
    "start_time": "2022-06-10T12:04:47.850Z"
   },
   {
    "duration": 4,
    "start_time": "2022-06-10T12:04:47.860Z"
   },
   {
    "duration": 26,
    "start_time": "2022-06-10T12:04:47.866Z"
   },
   {
    "duration": 5,
    "start_time": "2022-06-10T12:04:47.894Z"
   },
   {
    "duration": 5,
    "start_time": "2022-06-10T12:04:47.901Z"
   },
   {
    "duration": 7,
    "start_time": "2022-06-10T12:04:47.907Z"
   },
   {
    "duration": 27,
    "start_time": "2022-06-10T12:04:47.917Z"
   },
   {
    "duration": 91,
    "start_time": "2022-06-10T12:04:47.945Z"
   },
   {
    "duration": 24,
    "start_time": "2022-06-10T12:04:48.038Z"
   },
   {
    "duration": 361,
    "start_time": "2022-06-10T12:04:48.064Z"
   },
   {
    "duration": 335,
    "start_time": "2022-06-10T12:04:48.427Z"
   },
   {
    "duration": 397,
    "start_time": "2022-06-10T12:04:48.764Z"
   },
   {
    "duration": 4,
    "start_time": "2022-06-10T12:04:49.163Z"
   },
   {
    "duration": 6,
    "start_time": "2022-06-10T12:04:49.169Z"
   },
   {
    "duration": 202,
    "start_time": "2022-06-10T12:04:49.176Z"
   },
   {
    "duration": 12,
    "start_time": "2022-06-10T12:04:49.380Z"
   },
   {
    "duration": 4,
    "start_time": "2022-06-10T12:04:49.393Z"
   },
   {
    "duration": 190,
    "start_time": "2022-06-10T12:04:49.399Z"
   },
   {
    "duration": 34,
    "start_time": "2022-06-10T12:04:49.591Z"
   },
   {
    "duration": 198,
    "start_time": "2022-06-10T12:04:49.627Z"
   },
   {
    "duration": 94,
    "start_time": "2022-06-10T12:04:49.827Z"
   },
   {
    "duration": 0,
    "start_time": "2022-06-10T12:04:49.922Z"
   },
   {
    "duration": 0,
    "start_time": "2022-06-10T12:04:49.923Z"
   },
   {
    "duration": 0,
    "start_time": "2022-06-10T12:04:49.924Z"
   },
   {
    "duration": 0,
    "start_time": "2022-06-10T12:04:49.925Z"
   },
   {
    "duration": 0,
    "start_time": "2022-06-10T12:04:49.926Z"
   },
   {
    "duration": 34,
    "start_time": "2022-06-10T12:06:43.464Z"
   },
   {
    "duration": 175,
    "start_time": "2022-06-10T12:06:51.201Z"
   },
   {
    "duration": 4,
    "start_time": "2022-06-10T12:07:18.366Z"
   },
   {
    "duration": 4,
    "start_time": "2022-06-10T12:07:21.617Z"
   },
   {
    "duration": 19,
    "start_time": "2022-06-10T12:08:16.042Z"
   },
   {
    "duration": 34,
    "start_time": "2022-06-10T12:08:28.689Z"
   },
   {
    "duration": 34,
    "start_time": "2022-06-10T12:09:08.497Z"
   },
   {
    "duration": 170,
    "start_time": "2022-06-10T12:09:10.281Z"
   },
   {
    "duration": 4,
    "start_time": "2022-06-10T12:09:14.741Z"
   },
   {
    "duration": 31,
    "start_time": "2022-06-10T12:10:05.422Z"
   },
   {
    "duration": 181,
    "start_time": "2022-06-10T12:10:12.848Z"
   },
   {
    "duration": 4,
    "start_time": "2022-06-10T12:10:21.575Z"
   },
   {
    "duration": 171,
    "start_time": "2022-06-10T12:11:21.621Z"
   },
   {
    "duration": 35,
    "start_time": "2022-06-10T12:11:54.103Z"
   },
   {
    "duration": 181,
    "start_time": "2022-06-10T12:11:55.366Z"
   },
   {
    "duration": 3,
    "start_time": "2022-06-10T12:12:04.502Z"
   },
   {
    "duration": 4,
    "start_time": "2022-06-10T12:12:07.547Z"
   },
   {
    "duration": 4,
    "start_time": "2022-06-10T12:12:39.587Z"
   },
   {
    "duration": 34,
    "start_time": "2022-06-10T12:12:44.913Z"
   },
   {
    "duration": 1099,
    "start_time": "2022-06-10T12:12:50.005Z"
   },
   {
    "duration": 706,
    "start_time": "2022-06-10T12:12:51.107Z"
   },
   {
    "duration": 5,
    "start_time": "2022-06-10T12:12:51.814Z"
   },
   {
    "duration": 10,
    "start_time": "2022-06-10T12:12:51.821Z"
   },
   {
    "duration": 4,
    "start_time": "2022-06-10T12:12:51.832Z"
   },
   {
    "duration": 10,
    "start_time": "2022-06-10T12:12:51.837Z"
   },
   {
    "duration": 5,
    "start_time": "2022-06-10T12:12:51.848Z"
   },
   {
    "duration": 6,
    "start_time": "2022-06-10T12:12:51.854Z"
   },
   {
    "duration": 35,
    "start_time": "2022-06-10T12:12:51.862Z"
   },
   {
    "duration": 28,
    "start_time": "2022-06-10T12:12:51.899Z"
   },
   {
    "duration": 68,
    "start_time": "2022-06-10T12:12:51.928Z"
   },
   {
    "duration": 25,
    "start_time": "2022-06-10T12:12:51.998Z"
   },
   {
    "duration": 407,
    "start_time": "2022-06-10T12:12:52.024Z"
   },
   {
    "duration": 360,
    "start_time": "2022-06-10T12:12:52.434Z"
   },
   {
    "duration": 473,
    "start_time": "2022-06-10T12:12:52.796Z"
   },
   {
    "duration": 4,
    "start_time": "2022-06-10T12:12:53.270Z"
   },
   {
    "duration": 15,
    "start_time": "2022-06-10T12:12:53.276Z"
   },
   {
    "duration": 233,
    "start_time": "2022-06-10T12:12:53.293Z"
   },
   {
    "duration": 5,
    "start_time": "2022-06-10T12:12:53.527Z"
   },
   {
    "duration": 7,
    "start_time": "2022-06-10T12:12:53.533Z"
   },
   {
    "duration": 230,
    "start_time": "2022-06-10T12:12:53.542Z"
   },
   {
    "duration": 44,
    "start_time": "2022-06-10T12:12:53.774Z"
   },
   {
    "duration": 206,
    "start_time": "2022-06-10T12:12:53.820Z"
   },
   {
    "duration": 4,
    "start_time": "2022-06-10T12:12:54.028Z"
   },
   {
    "duration": 6,
    "start_time": "2022-06-10T12:12:54.033Z"
   },
   {
    "duration": 19,
    "start_time": "2022-06-10T12:12:54.040Z"
   },
   {
    "duration": 291,
    "start_time": "2022-06-10T12:12:54.061Z"
   },
   {
    "duration": 264,
    "start_time": "2022-06-10T12:12:54.355Z"
   },
   {
    "duration": 277,
    "start_time": "2022-06-10T12:12:54.621Z"
   },
   {
    "duration": 17,
    "start_time": "2022-06-10T12:15:08.465Z"
   },
   {
    "duration": 12,
    "start_time": "2022-06-10T12:15:23.817Z"
   },
   {
    "duration": 15,
    "start_time": "2022-06-10T12:15:28.928Z"
   },
   {
    "duration": 1052,
    "start_time": "2022-06-10T12:15:35.256Z"
   },
   {
    "duration": 716,
    "start_time": "2022-06-10T12:15:36.310Z"
   },
   {
    "duration": 5,
    "start_time": "2022-06-10T12:15:37.027Z"
   },
   {
    "duration": 9,
    "start_time": "2022-06-10T12:15:37.034Z"
   },
   {
    "duration": 5,
    "start_time": "2022-06-10T12:15:37.044Z"
   },
   {
    "duration": 16,
    "start_time": "2022-06-10T12:15:37.050Z"
   },
   {
    "duration": 4,
    "start_time": "2022-06-10T12:15:37.067Z"
   },
   {
    "duration": 3,
    "start_time": "2022-06-10T12:15:37.091Z"
   },
   {
    "duration": 5,
    "start_time": "2022-06-10T12:15:37.096Z"
   },
   {
    "duration": 25,
    "start_time": "2022-06-10T12:15:37.103Z"
   },
   {
    "duration": 72,
    "start_time": "2022-06-10T12:15:37.129Z"
   },
   {
    "duration": 22,
    "start_time": "2022-06-10T12:15:37.202Z"
   },
   {
    "duration": 343,
    "start_time": "2022-06-10T12:15:37.225Z"
   },
   {
    "duration": 325,
    "start_time": "2022-06-10T12:15:37.569Z"
   },
   {
    "duration": 389,
    "start_time": "2022-06-10T12:15:37.895Z"
   },
   {
    "duration": 7,
    "start_time": "2022-06-10T12:15:38.285Z"
   },
   {
    "duration": 5,
    "start_time": "2022-06-10T12:15:38.293Z"
   },
   {
    "duration": 186,
    "start_time": "2022-06-10T12:15:38.300Z"
   },
   {
    "duration": 3,
    "start_time": "2022-06-10T12:15:38.491Z"
   },
   {
    "duration": 5,
    "start_time": "2022-06-10T12:15:38.496Z"
   },
   {
    "duration": 183,
    "start_time": "2022-06-10T12:15:38.502Z"
   },
   {
    "duration": 35,
    "start_time": "2022-06-10T12:15:38.691Z"
   },
   {
    "duration": 189,
    "start_time": "2022-06-10T12:15:38.727Z"
   },
   {
    "duration": 4,
    "start_time": "2022-06-10T12:15:38.918Z"
   },
   {
    "duration": 5,
    "start_time": "2022-06-10T12:15:38.924Z"
   },
   {
    "duration": 19,
    "start_time": "2022-06-10T12:15:38.930Z"
   },
   {
    "duration": 246,
    "start_time": "2022-06-10T12:15:38.950Z"
   },
   {
    "duration": 234,
    "start_time": "2022-06-10T12:15:39.198Z"
   },
   {
    "duration": 239,
    "start_time": "2022-06-10T12:15:39.433Z"
   },
   {
    "duration": 28,
    "start_time": "2022-06-10T12:16:24.063Z"
   },
   {
    "duration": 177,
    "start_time": "2022-06-10T12:16:25.784Z"
   },
   {
    "duration": 4,
    "start_time": "2022-06-10T12:16:29.547Z"
   },
   {
    "duration": 4,
    "start_time": "2022-06-10T12:16:30.847Z"
   },
   {
    "duration": 31,
    "start_time": "2022-06-10T12:17:00.295Z"
   },
   {
    "duration": 281,
    "start_time": "2022-06-10T12:17:01.130Z"
   },
   {
    "duration": 5,
    "start_time": "2022-06-10T12:17:02.751Z"
   },
   {
    "duration": 5,
    "start_time": "2022-06-10T12:17:03.488Z"
   },
   {
    "duration": 36,
    "start_time": "2022-06-10T12:17:29.020Z"
   },
   {
    "duration": 29,
    "start_time": "2022-06-10T12:17:29.891Z"
   },
   {
    "duration": 187,
    "start_time": "2022-06-10T12:17:30.709Z"
   },
   {
    "duration": 4,
    "start_time": "2022-06-10T12:17:32.509Z"
   },
   {
    "duration": 4,
    "start_time": "2022-06-10T12:17:33.430Z"
   },
   {
    "duration": 35,
    "start_time": "2022-06-10T12:19:18.336Z"
   },
   {
    "duration": 25,
    "start_time": "2022-06-10T12:19:27.906Z"
   },
   {
    "duration": 213,
    "start_time": "2022-06-10T12:19:34.956Z"
   },
   {
    "duration": 1053,
    "start_time": "2022-06-10T12:19:41.088Z"
   },
   {
    "duration": 716,
    "start_time": "2022-06-10T12:19:42.143Z"
   },
   {
    "duration": 5,
    "start_time": "2022-06-10T12:19:42.860Z"
   },
   {
    "duration": 17,
    "start_time": "2022-06-10T12:19:42.868Z"
   },
   {
    "duration": 9,
    "start_time": "2022-06-10T12:19:42.891Z"
   },
   {
    "duration": 14,
    "start_time": "2022-06-10T12:19:42.902Z"
   },
   {
    "duration": 7,
    "start_time": "2022-06-10T12:19:42.917Z"
   },
   {
    "duration": 5,
    "start_time": "2022-06-10T12:19:42.925Z"
   },
   {
    "duration": 4,
    "start_time": "2022-06-10T12:19:42.931Z"
   },
   {
    "duration": 26,
    "start_time": "2022-06-10T12:19:42.937Z"
   },
   {
    "duration": 71,
    "start_time": "2022-06-10T12:19:42.964Z"
   },
   {
    "duration": 23,
    "start_time": "2022-06-10T12:19:43.036Z"
   },
   {
    "duration": 374,
    "start_time": "2022-06-10T12:19:43.061Z"
   },
   {
    "duration": 359,
    "start_time": "2022-06-10T12:19:43.437Z"
   },
   {
    "duration": 427,
    "start_time": "2022-06-10T12:19:43.797Z"
   },
   {
    "duration": 5,
    "start_time": "2022-06-10T12:19:44.226Z"
   },
   {
    "duration": 8,
    "start_time": "2022-06-10T12:19:44.232Z"
   },
   {
    "duration": 212,
    "start_time": "2022-06-10T12:19:44.241Z"
   },
   {
    "duration": 4,
    "start_time": "2022-06-10T12:19:44.455Z"
   },
   {
    "duration": 5,
    "start_time": "2022-06-10T12:19:44.460Z"
   },
   {
    "duration": 228,
    "start_time": "2022-06-10T12:19:44.467Z"
   },
   {
    "duration": 37,
    "start_time": "2022-06-10T12:19:44.697Z"
   },
   {
    "duration": 24,
    "start_time": "2022-06-10T12:19:44.735Z"
   },
   {
    "duration": 191,
    "start_time": "2022-06-10T12:19:44.760Z"
   },
   {
    "duration": 4,
    "start_time": "2022-06-10T12:19:44.953Z"
   },
   {
    "duration": 6,
    "start_time": "2022-06-10T12:19:44.958Z"
   },
   {
    "duration": 33,
    "start_time": "2022-06-10T12:19:44.966Z"
   },
   {
    "duration": 289,
    "start_time": "2022-06-10T12:19:45.003Z"
   },
   {
    "duration": 265,
    "start_time": "2022-06-10T12:19:45.294Z"
   },
   {
    "duration": 254,
    "start_time": "2022-06-10T12:19:45.561Z"
   },
   {
    "duration": 26,
    "start_time": "2022-06-10T12:21:20.245Z"
   },
   {
    "duration": 35,
    "start_time": "2022-06-10T12:21:35.010Z"
   },
   {
    "duration": 38,
    "start_time": "2022-06-10T12:22:36.228Z"
   },
   {
    "duration": 15,
    "start_time": "2022-06-10T12:22:42.932Z"
   },
   {
    "duration": 322,
    "start_time": "2022-06-10T12:22:47.291Z"
   },
   {
    "duration": 224,
    "start_time": "2022-06-10T12:22:55.783Z"
   },
   {
    "duration": 1798,
    "start_time": "2022-06-10T14:12:38.685Z"
   },
   {
    "duration": 3212,
    "start_time": "2022-06-10T14:12:40.486Z"
   },
   {
    "duration": 5,
    "start_time": "2022-06-10T14:12:43.700Z"
   },
   {
    "duration": 11,
    "start_time": "2022-06-10T14:12:43.707Z"
   },
   {
    "duration": 5,
    "start_time": "2022-06-10T14:12:43.720Z"
   },
   {
    "duration": 27,
    "start_time": "2022-06-10T14:12:43.726Z"
   },
   {
    "duration": 10,
    "start_time": "2022-06-10T14:12:43.754Z"
   },
   {
    "duration": 6,
    "start_time": "2022-06-10T14:12:43.766Z"
   },
   {
    "duration": 13,
    "start_time": "2022-06-10T14:12:43.774Z"
   },
   {
    "duration": 33,
    "start_time": "2022-06-10T14:12:43.790Z"
   },
   {
    "duration": 72,
    "start_time": "2022-06-10T14:12:43.824Z"
   },
   {
    "duration": 26,
    "start_time": "2022-06-10T14:12:43.897Z"
   },
   {
    "duration": 428,
    "start_time": "2022-06-10T14:12:43.925Z"
   },
   {
    "duration": 371,
    "start_time": "2022-06-10T14:12:44.354Z"
   },
   {
    "duration": 457,
    "start_time": "2022-06-10T14:12:44.726Z"
   },
   {
    "duration": 4,
    "start_time": "2022-06-10T14:12:45.185Z"
   },
   {
    "duration": 17,
    "start_time": "2022-06-10T14:12:45.190Z"
   },
   {
    "duration": 284,
    "start_time": "2022-06-10T14:12:45.208Z"
   },
   {
    "duration": 5,
    "start_time": "2022-06-10T14:12:45.494Z"
   },
   {
    "duration": 10,
    "start_time": "2022-06-10T14:12:45.500Z"
   },
   {
    "duration": 224,
    "start_time": "2022-06-10T14:12:45.512Z"
   },
   {
    "duration": 43,
    "start_time": "2022-06-10T14:12:45.738Z"
   },
   {
    "duration": 27,
    "start_time": "2022-06-10T14:12:45.783Z"
   },
   {
    "duration": 221,
    "start_time": "2022-06-10T14:12:45.812Z"
   },
   {
    "duration": 4,
    "start_time": "2022-06-10T14:12:46.036Z"
   },
   {
    "duration": 18,
    "start_time": "2022-06-10T14:12:46.041Z"
   },
   {
    "duration": 57,
    "start_time": "2022-06-10T14:12:46.061Z"
   },
   {
    "duration": 18,
    "start_time": "2022-06-10T14:12:46.122Z"
   },
   {
    "duration": 291,
    "start_time": "2022-06-10T14:12:46.142Z"
   },
   {
    "duration": 272,
    "start_time": "2022-06-10T14:12:46.434Z"
   },
   {
    "duration": 280,
    "start_time": "2022-06-10T14:12:46.708Z"
   },
   {
    "duration": 190,
    "start_time": "2022-06-10T14:13:32.820Z"
   },
   {
    "duration": 1283,
    "start_time": "2022-06-10T14:13:38.647Z"
   },
   {
    "duration": 788,
    "start_time": "2022-06-10T14:13:39.932Z"
   },
   {
    "duration": 6,
    "start_time": "2022-06-10T14:13:40.721Z"
   },
   {
    "duration": 26,
    "start_time": "2022-06-10T14:13:40.730Z"
   },
   {
    "duration": 12,
    "start_time": "2022-06-10T14:13:40.758Z"
   },
   {
    "duration": 17,
    "start_time": "2022-06-10T14:13:40.772Z"
   },
   {
    "duration": 6,
    "start_time": "2022-06-10T14:13:40.790Z"
   },
   {
    "duration": 15,
    "start_time": "2022-06-10T14:13:40.798Z"
   },
   {
    "duration": 12,
    "start_time": "2022-06-10T14:13:40.815Z"
   },
   {
    "duration": 40,
    "start_time": "2022-06-10T14:13:40.831Z"
   },
   {
    "duration": 78,
    "start_time": "2022-06-10T14:13:40.874Z"
   },
   {
    "duration": 27,
    "start_time": "2022-06-10T14:13:40.954Z"
   },
   {
    "duration": 413,
    "start_time": "2022-06-10T14:13:40.983Z"
   },
   {
    "duration": 373,
    "start_time": "2022-06-10T14:13:41.397Z"
   },
   {
    "duration": 464,
    "start_time": "2022-06-10T14:13:41.773Z"
   },
   {
    "duration": 5,
    "start_time": "2022-06-10T14:13:42.239Z"
   },
   {
    "duration": 28,
    "start_time": "2022-06-10T14:13:42.252Z"
   },
   {
    "duration": 227,
    "start_time": "2022-06-10T14:13:42.282Z"
   },
   {
    "duration": 5,
    "start_time": "2022-06-10T14:13:42.510Z"
   },
   {
    "duration": 9,
    "start_time": "2022-06-10T14:13:42.516Z"
   },
   {
    "duration": 236,
    "start_time": "2022-06-10T14:13:42.526Z"
   },
   {
    "duration": 36,
    "start_time": "2022-06-10T14:13:42.764Z"
   },
   {
    "duration": 215,
    "start_time": "2022-06-10T14:13:42.801Z"
   },
   {
    "duration": 5,
    "start_time": "2022-06-10T14:13:43.017Z"
   },
   {
    "duration": 6,
    "start_time": "2022-06-10T14:13:43.024Z"
   },
   {
    "duration": 59,
    "start_time": "2022-06-10T14:13:43.031Z"
   },
   {
    "duration": 16,
    "start_time": "2022-06-10T14:13:43.092Z"
   },
   {
    "duration": 290,
    "start_time": "2022-06-10T14:13:43.111Z"
   },
   {
    "duration": 260,
    "start_time": "2022-06-10T14:13:43.403Z"
   },
   {
    "duration": 265,
    "start_time": "2022-06-10T14:13:43.665Z"
   },
   {
    "duration": 121,
    "start_time": "2022-06-10T14:15:34.137Z"
   },
   {
    "duration": 32,
    "start_time": "2022-06-10T14:16:41.898Z"
   },
   {
    "duration": 20,
    "start_time": "2022-06-10T14:17:58.807Z"
   },
   {
    "duration": 1150,
    "start_time": "2022-06-10T14:18:12.670Z"
   },
   {
    "duration": 1154,
    "start_time": "2022-06-10T14:18:13.822Z"
   },
   {
    "duration": 4,
    "start_time": "2022-06-10T14:18:14.978Z"
   },
   {
    "duration": 11,
    "start_time": "2022-06-10T14:18:14.984Z"
   },
   {
    "duration": 57,
    "start_time": "2022-06-10T14:18:14.997Z"
   },
   {
    "duration": 17,
    "start_time": "2022-06-10T14:18:15.056Z"
   },
   {
    "duration": 29,
    "start_time": "2022-06-10T14:18:15.074Z"
   },
   {
    "duration": 10,
    "start_time": "2022-06-10T14:18:15.105Z"
   },
   {
    "duration": 5,
    "start_time": "2022-06-10T14:18:15.152Z"
   },
   {
    "duration": 38,
    "start_time": "2022-06-10T14:18:15.159Z"
   },
   {
    "duration": 119,
    "start_time": "2022-06-10T14:18:15.251Z"
   },
   {
    "duration": 85,
    "start_time": "2022-06-10T14:18:15.372Z"
   },
   {
    "duration": 647,
    "start_time": "2022-06-10T14:18:15.458Z"
   },
   {
    "duration": 415,
    "start_time": "2022-06-10T14:18:16.107Z"
   },
   {
    "duration": 468,
    "start_time": "2022-06-10T14:18:16.523Z"
   },
   {
    "duration": 4,
    "start_time": "2022-06-10T14:18:16.993Z"
   },
   {
    "duration": 7,
    "start_time": "2022-06-10T14:18:16.999Z"
   },
   {
    "duration": 236,
    "start_time": "2022-06-10T14:18:17.008Z"
   },
   {
    "duration": 8,
    "start_time": "2022-06-10T14:18:17.246Z"
   },
   {
    "duration": 16,
    "start_time": "2022-06-10T14:18:17.258Z"
   },
   {
    "duration": 227,
    "start_time": "2022-06-10T14:18:17.275Z"
   },
   {
    "duration": 39,
    "start_time": "2022-06-10T14:18:17.504Z"
   },
   {
    "duration": 236,
    "start_time": "2022-06-10T14:18:17.545Z"
   },
   {
    "duration": 5,
    "start_time": "2022-06-10T14:18:17.783Z"
   },
   {
    "duration": 11,
    "start_time": "2022-06-10T14:18:17.790Z"
   },
   {
    "duration": 69,
    "start_time": "2022-06-10T14:18:17.802Z"
   },
   {
    "duration": 15,
    "start_time": "2022-06-10T14:18:17.872Z"
   },
   {
    "duration": 319,
    "start_time": "2022-06-10T14:18:17.890Z"
   },
   {
    "duration": 295,
    "start_time": "2022-06-10T14:18:18.211Z"
   },
   {
    "duration": 125,
    "start_time": "2022-06-10T14:18:18.508Z"
   },
   {
    "duration": 0,
    "start_time": "2022-06-10T14:18:18.635Z"
   },
   {
    "duration": 27,
    "start_time": "2022-06-10T14:19:48.366Z"
   },
   {
    "duration": 282,
    "start_time": "2022-06-10T14:20:07.750Z"
   },
   {
    "duration": 386,
    "start_time": "2022-06-10T14:20:09.165Z"
   },
   {
    "duration": 19,
    "start_time": "2022-06-10T14:20:57.798Z"
   },
   {
    "duration": 44,
    "start_time": "2022-06-10T14:22:35.165Z"
   },
   {
    "duration": 35,
    "start_time": "2022-06-10T14:22:59.408Z"
   },
   {
    "duration": 41,
    "start_time": "2022-06-10T14:23:17.186Z"
   },
   {
    "duration": 41,
    "start_time": "2022-06-10T14:23:40.395Z"
   },
   {
    "duration": 1191,
    "start_time": "2022-06-10T14:23:47.938Z"
   },
   {
    "duration": 806,
    "start_time": "2022-06-10T14:23:49.131Z"
   },
   {
    "duration": 23,
    "start_time": "2022-06-10T14:23:49.939Z"
   },
   {
    "duration": 16,
    "start_time": "2022-06-10T14:23:49.965Z"
   },
   {
    "duration": 6,
    "start_time": "2022-06-10T14:23:49.983Z"
   },
   {
    "duration": 9,
    "start_time": "2022-06-10T14:23:49.990Z"
   },
   {
    "duration": 5,
    "start_time": "2022-06-10T14:23:50.001Z"
   },
   {
    "duration": 11,
    "start_time": "2022-06-10T14:23:50.007Z"
   },
   {
    "duration": 15,
    "start_time": "2022-06-10T14:23:50.020Z"
   },
   {
    "duration": 41,
    "start_time": "2022-06-10T14:23:50.037Z"
   },
   {
    "duration": 76,
    "start_time": "2022-06-10T14:23:50.079Z"
   },
   {
    "duration": 30,
    "start_time": "2022-06-10T14:23:50.160Z"
   },
   {
    "duration": 423,
    "start_time": "2022-06-10T14:23:50.192Z"
   },
   {
    "duration": 408,
    "start_time": "2022-06-10T14:23:50.619Z"
   },
   {
    "duration": 472,
    "start_time": "2022-06-10T14:23:51.029Z"
   },
   {
    "duration": 5,
    "start_time": "2022-06-10T14:23:51.503Z"
   },
   {
    "duration": 8,
    "start_time": "2022-06-10T14:23:51.509Z"
   },
   {
    "duration": 245,
    "start_time": "2022-06-10T14:23:51.518Z"
   },
   {
    "duration": 4,
    "start_time": "2022-06-10T14:23:51.765Z"
   },
   {
    "duration": 9,
    "start_time": "2022-06-10T14:23:51.770Z"
   },
   {
    "duration": 212,
    "start_time": "2022-06-10T14:23:51.781Z"
   },
   {
    "duration": 37,
    "start_time": "2022-06-10T14:23:51.995Z"
   },
   {
    "duration": 256,
    "start_time": "2022-06-10T14:23:52.033Z"
   },
   {
    "duration": 5,
    "start_time": "2022-06-10T14:23:52.290Z"
   },
   {
    "duration": 10,
    "start_time": "2022-06-10T14:23:52.296Z"
   },
   {
    "duration": 59,
    "start_time": "2022-06-10T14:23:52.307Z"
   },
   {
    "duration": 15,
    "start_time": "2022-06-10T14:23:52.368Z"
   },
   {
    "duration": 331,
    "start_time": "2022-06-10T14:23:52.385Z"
   },
   {
    "duration": 290,
    "start_time": "2022-06-10T14:23:52.717Z"
   },
   {
    "duration": 51,
    "start_time": "2022-06-10T14:23:53.008Z"
   },
   {
    "duration": 299,
    "start_time": "2022-06-10T14:23:53.068Z"
   },
   {
    "duration": 38,
    "start_time": "2022-06-10T14:23:53.370Z"
   },
   {
    "duration": 380,
    "start_time": "2022-06-10T14:24:13.542Z"
   },
   {
    "duration": 36,
    "start_time": "2022-06-10T14:24:31.571Z"
   },
   {
    "duration": 28,
    "start_time": "2022-06-10T14:26:04.283Z"
   },
   {
    "duration": 32,
    "start_time": "2022-06-10T14:26:24.848Z"
   },
   {
    "duration": 22,
    "start_time": "2022-06-10T14:26:55.825Z"
   },
   {
    "duration": 137,
    "start_time": "2022-06-10T14:27:04.704Z"
   },
   {
    "duration": 34,
    "start_time": "2022-06-10T14:27:20.445Z"
   },
   {
    "duration": 14,
    "start_time": "2022-06-10T14:27:27.051Z"
   },
   {
    "duration": 13,
    "start_time": "2022-06-10T14:28:00.850Z"
   },
   {
    "duration": 34,
    "start_time": "2022-06-10T14:28:32.852Z"
   },
   {
    "duration": 33,
    "start_time": "2022-06-10T14:28:59.947Z"
   },
   {
    "duration": 11,
    "start_time": "2022-06-10T14:29:28.744Z"
   },
   {
    "duration": 4,
    "start_time": "2022-06-10T14:40:29.151Z"
   },
   {
    "duration": 9,
    "start_time": "2022-06-10T14:43:02.649Z"
   },
   {
    "duration": 8,
    "start_time": "2022-06-10T14:43:13.748Z"
   },
   {
    "duration": 11,
    "start_time": "2022-06-10T14:45:31.756Z"
   },
   {
    "duration": 3,
    "start_time": "2022-06-10T14:48:02.001Z"
   },
   {
    "duration": 4,
    "start_time": "2022-06-10T14:48:07.437Z"
   },
   {
    "duration": 7,
    "start_time": "2022-06-10T14:48:11.666Z"
   },
   {
    "duration": 10,
    "start_time": "2022-06-10T14:48:12.375Z"
   },
   {
    "duration": 9,
    "start_time": "2022-06-10T14:48:12.893Z"
   },
   {
    "duration": 24,
    "start_time": "2022-06-10T14:48:31.894Z"
   },
   {
    "duration": 26,
    "start_time": "2022-06-10T14:54:28.781Z"
   },
   {
    "duration": 11,
    "start_time": "2022-06-10T14:57:27.514Z"
   },
   {
    "duration": 3,
    "start_time": "2022-06-10T14:58:37.887Z"
   },
   {
    "duration": 9,
    "start_time": "2022-06-10T14:58:41.890Z"
   },
   {
    "duration": 22,
    "start_time": "2022-06-10T15:00:04.884Z"
   },
   {
    "duration": 3,
    "start_time": "2022-06-10T15:03:09.557Z"
   },
   {
    "duration": 9,
    "start_time": "2022-06-10T15:04:02.883Z"
   },
   {
    "duration": 10,
    "start_time": "2022-06-10T15:05:06.855Z"
   },
   {
    "duration": 3,
    "start_time": "2022-06-10T15:05:14.960Z"
   },
   {
    "duration": 7,
    "start_time": "2022-06-10T15:05:56.903Z"
   },
   {
    "duration": 34,
    "start_time": "2022-06-10T15:07:41.144Z"
   },
   {
    "duration": 12,
    "start_time": "2022-06-10T15:07:47.452Z"
   },
   {
    "duration": 7,
    "start_time": "2022-06-10T15:07:49.923Z"
   },
   {
    "duration": 15,
    "start_time": "2022-06-10T15:07:51.525Z"
   },
   {
    "duration": 21,
    "start_time": "2022-06-10T15:07:53.959Z"
   },
   {
    "duration": 2580,
    "start_time": "2022-06-10T15:11:58.581Z"
   },
   {
    "duration": 2483,
    "start_time": "2022-06-10T15:12:12.769Z"
   },
   {
    "duration": 21,
    "start_time": "2022-06-10T15:17:32.600Z"
   },
   {
    "duration": 3,
    "start_time": "2022-06-10T15:20:30.346Z"
   },
   {
    "duration": 113041,
    "start_time": "2022-06-10T15:24:53.266Z"
   },
   {
    "duration": 10,
    "start_time": "2022-06-10T15:28:17.763Z"
   },
   {
    "duration": 15,
    "start_time": "2022-06-10T15:31:23.334Z"
   },
   {
    "duration": 1209,
    "start_time": "2022-06-10T15:58:20.744Z"
   },
   {
    "duration": 788,
    "start_time": "2022-06-10T15:58:21.954Z"
   },
   {
    "duration": 11,
    "start_time": "2022-06-10T15:58:22.744Z"
   },
   {
    "duration": 16,
    "start_time": "2022-06-10T15:58:22.756Z"
   },
   {
    "duration": 4,
    "start_time": "2022-06-10T15:58:22.773Z"
   },
   {
    "duration": 8,
    "start_time": "2022-06-10T15:58:22.778Z"
   },
   {
    "duration": 4,
    "start_time": "2022-06-10T15:58:22.788Z"
   },
   {
    "duration": 6,
    "start_time": "2022-06-10T15:58:22.793Z"
   },
   {
    "duration": 6,
    "start_time": "2022-06-10T15:58:22.800Z"
   },
   {
    "duration": 57,
    "start_time": "2022-06-10T15:58:22.808Z"
   },
   {
    "duration": 59,
    "start_time": "2022-06-10T15:58:22.867Z"
   },
   {
    "duration": 39,
    "start_time": "2022-06-10T15:58:22.927Z"
   },
   {
    "duration": 398,
    "start_time": "2022-06-10T15:58:22.968Z"
   },
   {
    "duration": 375,
    "start_time": "2022-06-10T15:58:23.368Z"
   },
   {
    "duration": 469,
    "start_time": "2022-06-10T15:58:23.745Z"
   },
   {
    "duration": 4,
    "start_time": "2022-06-10T15:58:24.216Z"
   },
   {
    "duration": 8,
    "start_time": "2022-06-10T15:58:24.221Z"
   },
   {
    "duration": 225,
    "start_time": "2022-06-10T15:58:24.231Z"
   },
   {
    "duration": 4,
    "start_time": "2022-06-10T15:58:24.457Z"
   },
   {
    "duration": 16,
    "start_time": "2022-06-10T15:58:24.463Z"
   },
   {
    "duration": 216,
    "start_time": "2022-06-10T15:58:24.480Z"
   },
   {
    "duration": 36,
    "start_time": "2022-06-10T15:58:24.698Z"
   },
   {
    "duration": 209,
    "start_time": "2022-06-10T15:58:24.736Z"
   },
   {
    "duration": 4,
    "start_time": "2022-06-10T15:58:24.952Z"
   },
   {
    "duration": 8,
    "start_time": "2022-06-10T15:58:24.958Z"
   },
   {
    "duration": 49,
    "start_time": "2022-06-10T15:58:24.967Z"
   },
   {
    "duration": 17,
    "start_time": "2022-06-10T15:58:25.018Z"
   },
   {
    "duration": 318,
    "start_time": "2022-06-10T15:58:25.054Z"
   },
   {
    "duration": 268,
    "start_time": "2022-06-10T15:58:25.374Z"
   },
   {
    "duration": 47,
    "start_time": "2022-06-10T15:58:25.644Z"
   },
   {
    "duration": 34,
    "start_time": "2022-06-10T15:58:25.693Z"
   },
   {
    "duration": 302,
    "start_time": "2022-06-10T15:58:25.729Z"
   },
   {
    "duration": 151,
    "start_time": "2022-06-10T15:58:26.033Z"
   },
   {
    "duration": 32,
    "start_time": "2022-06-10T15:58:26.186Z"
   },
   {
    "duration": 3,
    "start_time": "2022-06-10T15:58:26.220Z"
   },
   {
    "duration": 10,
    "start_time": "2022-06-10T15:58:26.225Z"
   },
   {
    "duration": 24,
    "start_time": "2022-06-10T15:58:26.237Z"
   },
   {
    "duration": 20,
    "start_time": "2022-06-10T15:58:26.263Z"
   },
   {
    "duration": 2275,
    "start_time": "2022-06-10T15:58:26.285Z"
   },
   {
    "duration": 122339,
    "start_time": "2022-06-10T15:58:28.652Z"
   },
   {
    "duration": 1265,
    "start_time": "2022-06-10T16:04:24.707Z"
   },
   {
    "duration": 793,
    "start_time": "2022-06-10T16:04:25.974Z"
   },
   {
    "duration": 5,
    "start_time": "2022-06-10T16:04:26.768Z"
   },
   {
    "duration": 14,
    "start_time": "2022-06-10T16:04:26.774Z"
   },
   {
    "duration": 10,
    "start_time": "2022-06-10T16:04:26.790Z"
   },
   {
    "duration": 20,
    "start_time": "2022-06-10T16:04:26.801Z"
   },
   {
    "duration": 14,
    "start_time": "2022-06-10T16:04:26.822Z"
   },
   {
    "duration": 9,
    "start_time": "2022-06-10T16:04:26.837Z"
   },
   {
    "duration": 24,
    "start_time": "2022-06-10T16:04:26.848Z"
   },
   {
    "duration": 33,
    "start_time": "2022-06-10T16:04:26.874Z"
   },
   {
    "duration": 64,
    "start_time": "2022-06-10T16:04:26.909Z"
   },
   {
    "duration": 26,
    "start_time": "2022-06-10T16:04:26.975Z"
   },
   {
    "duration": 412,
    "start_time": "2022-06-10T16:04:27.002Z"
   },
   {
    "duration": 393,
    "start_time": "2022-06-10T16:04:27.417Z"
   },
   {
    "duration": 485,
    "start_time": "2022-06-10T16:04:27.812Z"
   },
   {
    "duration": 4,
    "start_time": "2022-06-10T16:04:28.299Z"
   },
   {
    "duration": 7,
    "start_time": "2022-06-10T16:04:28.304Z"
   },
   {
    "duration": 228,
    "start_time": "2022-06-10T16:04:28.312Z"
   },
   {
    "duration": 10,
    "start_time": "2022-06-10T16:04:28.542Z"
   },
   {
    "duration": 4,
    "start_time": "2022-06-10T16:04:28.554Z"
   },
   {
    "duration": 206,
    "start_time": "2022-06-10T16:04:28.560Z"
   },
   {
    "duration": 35,
    "start_time": "2022-06-10T16:04:28.768Z"
   },
   {
    "duration": 209,
    "start_time": "2022-06-10T16:04:28.805Z"
   },
   {
    "duration": 4,
    "start_time": "2022-06-10T16:04:29.015Z"
   },
   {
    "duration": 7,
    "start_time": "2022-06-10T16:04:29.021Z"
   },
   {
    "duration": 56,
    "start_time": "2022-06-10T16:04:29.030Z"
   },
   {
    "duration": 16,
    "start_time": "2022-06-10T16:04:29.088Z"
   },
   {
    "duration": 286,
    "start_time": "2022-06-10T16:04:29.105Z"
   },
   {
    "duration": 265,
    "start_time": "2022-06-10T16:04:29.393Z"
   },
   {
    "duration": 42,
    "start_time": "2022-06-10T16:04:29.660Z"
   },
   {
    "duration": 48,
    "start_time": "2022-06-10T16:04:29.704Z"
   },
   {
    "duration": 291,
    "start_time": "2022-06-10T16:04:29.753Z"
   },
   {
    "duration": 163,
    "start_time": "2022-06-10T16:04:30.046Z"
   },
   {
    "duration": 41,
    "start_time": "2022-06-10T16:04:30.211Z"
   },
   {
    "duration": 4,
    "start_time": "2022-06-10T16:04:30.253Z"
   },
   {
    "duration": 32,
    "start_time": "2022-06-10T16:04:30.258Z"
   },
   {
    "duration": 48,
    "start_time": "2022-06-10T16:04:30.292Z"
   },
   {
    "duration": 35,
    "start_time": "2022-06-10T16:04:30.341Z"
   },
   {
    "duration": 2478,
    "start_time": "2022-06-10T16:04:30.378Z"
   },
   {
    "duration": 120151,
    "start_time": "2022-06-10T16:04:32.859Z"
   },
   {
    "duration": 655,
    "start_time": "2022-06-10T16:06:33.014Z"
   },
   {
    "duration": 215416,
    "start_time": "2022-06-10T16:07:09.144Z"
   },
   {
    "duration": 1188,
    "start_time": "2022-06-10T18:06:43.514Z"
   },
   {
    "duration": 745,
    "start_time": "2022-06-10T18:06:44.707Z"
   },
   {
    "duration": 5,
    "start_time": "2022-06-10T18:06:45.455Z"
   },
   {
    "duration": 12,
    "start_time": "2022-06-10T18:06:45.462Z"
   },
   {
    "duration": 6,
    "start_time": "2022-06-10T18:06:45.475Z"
   },
   {
    "duration": 12,
    "start_time": "2022-06-10T18:06:45.483Z"
   },
   {
    "duration": 16,
    "start_time": "2022-06-10T18:06:45.496Z"
   },
   {
    "duration": 9,
    "start_time": "2022-06-10T18:06:45.513Z"
   },
   {
    "duration": 12,
    "start_time": "2022-06-10T18:06:45.525Z"
   },
   {
    "duration": 41,
    "start_time": "2022-06-10T18:06:45.538Z"
   },
   {
    "duration": 75,
    "start_time": "2022-06-10T18:06:45.581Z"
   },
   {
    "duration": 28,
    "start_time": "2022-06-10T18:06:45.658Z"
   },
   {
    "duration": 416,
    "start_time": "2022-06-10T18:06:45.688Z"
   },
   {
    "duration": 390,
    "start_time": "2022-06-10T18:06:46.106Z"
   },
   {
    "duration": 453,
    "start_time": "2022-06-10T18:06:46.497Z"
   },
   {
    "duration": 4,
    "start_time": "2022-06-10T18:06:46.952Z"
   },
   {
    "duration": 18,
    "start_time": "2022-06-10T18:06:46.957Z"
   },
   {
    "duration": 223,
    "start_time": "2022-06-10T18:06:46.977Z"
   },
   {
    "duration": 4,
    "start_time": "2022-06-10T18:06:47.201Z"
   },
   {
    "duration": 16,
    "start_time": "2022-06-10T18:06:47.207Z"
   },
   {
    "duration": 206,
    "start_time": "2022-06-10T18:06:47.225Z"
   },
   {
    "duration": 46,
    "start_time": "2022-06-10T18:06:47.432Z"
   },
   {
    "duration": 215,
    "start_time": "2022-06-10T18:06:47.480Z"
   },
   {
    "duration": 5,
    "start_time": "2022-06-10T18:06:47.696Z"
   },
   {
    "duration": 7,
    "start_time": "2022-06-10T18:06:47.702Z"
   },
   {
    "duration": 58,
    "start_time": "2022-06-10T18:06:47.711Z"
   },
   {
    "duration": 16,
    "start_time": "2022-06-10T18:06:47.772Z"
   },
   {
    "duration": 284,
    "start_time": "2022-06-10T18:06:47.790Z"
   },
   {
    "duration": 256,
    "start_time": "2022-06-10T18:06:48.076Z"
   },
   {
    "duration": 47,
    "start_time": "2022-06-10T18:06:48.333Z"
   },
   {
    "duration": 30,
    "start_time": "2022-06-10T18:06:48.382Z"
   },
   {
    "duration": 280,
    "start_time": "2022-06-10T18:06:48.414Z"
   },
   {
    "duration": 144,
    "start_time": "2022-06-10T18:06:48.695Z"
   },
   {
    "duration": 37,
    "start_time": "2022-06-10T18:06:48.841Z"
   },
   {
    "duration": 3,
    "start_time": "2022-06-10T18:06:48.880Z"
   },
   {
    "duration": 12,
    "start_time": "2022-06-10T18:06:48.885Z"
   },
   {
    "duration": 14,
    "start_time": "2022-06-10T18:06:48.899Z"
   },
   {
    "duration": 21,
    "start_time": "2022-06-10T18:06:48.914Z"
   },
   {
    "duration": 2906,
    "start_time": "2022-06-10T18:06:48.951Z"
   },
   {
    "duration": 119346,
    "start_time": "2022-06-10T18:06:51.859Z"
   },
   {
    "duration": 217308,
    "start_time": "2022-06-10T18:08:51.206Z"
   },
   {
    "duration": 1471,
    "start_time": "2022-06-12T19:51:53.529Z"
   },
   {
    "duration": 3888,
    "start_time": "2022-06-12T19:51:55.003Z"
   },
   {
    "duration": 6,
    "start_time": "2022-06-12T19:51:58.893Z"
   },
   {
    "duration": 13,
    "start_time": "2022-06-12T19:51:58.900Z"
   },
   {
    "duration": 4,
    "start_time": "2022-06-12T19:51:58.915Z"
   },
   {
    "duration": 12,
    "start_time": "2022-06-12T19:51:58.921Z"
   },
   {
    "duration": 25,
    "start_time": "2022-06-12T19:51:58.935Z"
   },
   {
    "duration": 21,
    "start_time": "2022-06-12T19:51:58.970Z"
   },
   {
    "duration": 9,
    "start_time": "2022-06-12T19:51:58.993Z"
   },
   {
    "duration": 36,
    "start_time": "2022-06-12T19:51:59.005Z"
   },
   {
    "duration": 73,
    "start_time": "2022-06-12T19:51:59.043Z"
   },
   {
    "duration": 36,
    "start_time": "2022-06-12T19:51:59.118Z"
   },
   {
    "duration": 448,
    "start_time": "2022-06-12T19:51:59.156Z"
   },
   {
    "duration": 408,
    "start_time": "2022-06-12T19:51:59.605Z"
   },
   {
    "duration": 523,
    "start_time": "2022-06-12T19:52:00.015Z"
   },
   {
    "duration": 6,
    "start_time": "2022-06-12T19:52:00.539Z"
   },
   {
    "duration": 61,
    "start_time": "2022-06-12T19:52:00.558Z"
   },
   {
    "duration": 269,
    "start_time": "2022-06-12T19:52:00.621Z"
   },
   {
    "duration": 5,
    "start_time": "2022-06-12T19:52:00.892Z"
   },
   {
    "duration": 22,
    "start_time": "2022-06-12T19:52:00.899Z"
   },
   {
    "duration": 221,
    "start_time": "2022-06-12T19:52:00.922Z"
   },
   {
    "duration": 44,
    "start_time": "2022-06-12T19:52:01.145Z"
   },
   {
    "duration": 265,
    "start_time": "2022-06-12T19:52:01.191Z"
   },
   {
    "duration": 18,
    "start_time": "2022-06-12T19:52:01.463Z"
   },
   {
    "duration": 17,
    "start_time": "2022-06-12T19:52:01.484Z"
   },
   {
    "duration": 52,
    "start_time": "2022-06-12T19:52:01.502Z"
   },
   {
    "duration": 28,
    "start_time": "2022-06-12T19:52:01.558Z"
   },
   {
    "duration": 310,
    "start_time": "2022-06-12T19:52:01.590Z"
   },
   {
    "duration": 325,
    "start_time": "2022-06-12T19:52:01.901Z"
   },
   {
    "duration": 57,
    "start_time": "2022-06-12T19:52:02.228Z"
   },
   {
    "duration": 37,
    "start_time": "2022-06-12T19:52:02.289Z"
   },
   {
    "duration": 404,
    "start_time": "2022-06-12T19:52:02.328Z"
   },
   {
    "duration": 150,
    "start_time": "2022-06-12T19:52:02.734Z"
   },
   {
    "duration": 36,
    "start_time": "2022-06-12T19:52:02.886Z"
   },
   {
    "duration": 4,
    "start_time": "2022-06-12T19:52:02.924Z"
   },
   {
    "duration": 30,
    "start_time": "2022-06-12T19:52:02.930Z"
   },
   {
    "duration": 47,
    "start_time": "2022-06-12T19:52:02.968Z"
   },
   {
    "duration": 25,
    "start_time": "2022-06-12T19:52:03.017Z"
   },
   {
    "duration": 5143,
    "start_time": "2022-06-12T19:52:03.044Z"
   },
   {
    "duration": 128289,
    "start_time": "2022-06-12T19:52:08.255Z"
   },
   {
    "duration": 231263,
    "start_time": "2022-06-12T19:54:16.546Z"
   },
   {
    "duration": 158,
    "start_time": "2022-06-12T20:01:02.100Z"
   },
   {
    "duration": 14,
    "start_time": "2022-06-12T20:01:31.778Z"
   },
   {
    "duration": 4,
    "start_time": "2022-06-12T20:02:31.512Z"
   },
   {
    "duration": 8,
    "start_time": "2022-06-12T20:02:33.876Z"
   },
   {
    "duration": 14,
    "start_time": "2022-06-12T20:02:34.394Z"
   },
   {
    "duration": 25,
    "start_time": "2022-06-12T20:02:34.869Z"
   },
   {
    "duration": 5103,
    "start_time": "2022-06-12T20:02:35.968Z"
   },
   {
    "duration": 3,
    "start_time": "2022-06-12T20:13:10.231Z"
   },
   {
    "duration": 58,
    "start_time": "2022-06-12T20:14:20.876Z"
   },
   {
    "duration": 49,
    "start_time": "2022-06-12T20:15:38.368Z"
   },
   {
    "duration": 113,
    "start_time": "2022-06-12T20:17:04.785Z"
   },
   {
    "duration": 3113,
    "start_time": "2022-06-12T20:17:54.469Z"
   },
   {
    "duration": 46337,
    "start_time": "2022-06-12T20:20:20.784Z"
   },
   {
    "duration": 126297,
    "start_time": "2022-06-12T20:21:07.126Z"
   },
   {
    "duration": 47586,
    "start_time": "2022-06-12T20:23:13.425Z"
   },
   {
    "duration": 3,
    "start_time": "2022-06-12T20:24:06.780Z"
   },
   {
    "duration": 16,
    "start_time": "2022-06-12T20:24:08.129Z"
   },
   {
    "duration": 23,
    "start_time": "2022-06-12T20:24:21.047Z"
   },
   {
    "duration": 38,
    "start_time": "2022-06-12T20:24:45.171Z"
   },
   {
    "duration": 25,
    "start_time": "2022-06-12T20:25:05.519Z"
   },
   {
    "duration": 2,
    "start_time": "2022-06-12T20:25:29.408Z"
   },
   {
    "duration": 117,
    "start_time": "2022-06-12T20:25:31.751Z"
   },
   {
    "duration": 1251,
    "start_time": "2022-06-12T20:25:40.149Z"
   },
   {
    "duration": 841,
    "start_time": "2022-06-12T20:25:41.402Z"
   },
   {
    "duration": 10,
    "start_time": "2022-06-12T20:25:42.256Z"
   },
   {
    "duration": 19,
    "start_time": "2022-06-12T20:25:42.272Z"
   },
   {
    "duration": 8,
    "start_time": "2022-06-12T20:25:42.293Z"
   },
   {
    "duration": 13,
    "start_time": "2022-06-12T20:25:42.303Z"
   },
   {
    "duration": 8,
    "start_time": "2022-06-12T20:25:42.318Z"
   },
   {
    "duration": 34,
    "start_time": "2022-06-12T20:25:42.328Z"
   },
   {
    "duration": 6,
    "start_time": "2022-06-12T20:25:42.368Z"
   },
   {
    "duration": 37,
    "start_time": "2022-06-12T20:25:42.376Z"
   },
   {
    "duration": 90,
    "start_time": "2022-06-12T20:25:42.415Z"
   },
   {
    "duration": 46,
    "start_time": "2022-06-12T20:25:42.507Z"
   },
   {
    "duration": 498,
    "start_time": "2022-06-12T20:25:42.555Z"
   },
   {
    "duration": 438,
    "start_time": "2022-06-12T20:25:43.059Z"
   },
   {
    "duration": 525,
    "start_time": "2022-06-12T20:25:43.499Z"
   },
   {
    "duration": 5,
    "start_time": "2022-06-12T20:25:44.027Z"
   },
   {
    "duration": 19,
    "start_time": "2022-06-12T20:25:44.034Z"
   },
   {
    "duration": 272,
    "start_time": "2022-06-12T20:25:44.056Z"
   },
   {
    "duration": 5,
    "start_time": "2022-06-12T20:25:44.330Z"
   },
   {
    "duration": 36,
    "start_time": "2022-06-12T20:25:44.336Z"
   },
   {
    "duration": 238,
    "start_time": "2022-06-12T20:25:44.374Z"
   },
   {
    "duration": 58,
    "start_time": "2022-06-12T20:25:44.614Z"
   },
   {
    "duration": 244,
    "start_time": "2022-06-12T20:25:44.675Z"
   },
   {
    "duration": 7,
    "start_time": "2022-06-12T20:25:44.921Z"
   },
   {
    "duration": 12,
    "start_time": "2022-06-12T20:25:44.930Z"
   },
   {
    "duration": 84,
    "start_time": "2022-06-12T20:25:44.952Z"
   },
   {
    "duration": 32,
    "start_time": "2022-06-12T20:25:45.039Z"
   },
   {
    "duration": 372,
    "start_time": "2022-06-12T20:25:45.075Z"
   },
   {
    "duration": 334,
    "start_time": "2022-06-12T20:25:45.450Z"
   },
   {
    "duration": 48,
    "start_time": "2022-06-12T20:25:45.787Z"
   },
   {
    "duration": 51,
    "start_time": "2022-06-12T20:25:45.838Z"
   },
   {
    "duration": 334,
    "start_time": "2022-06-12T20:25:45.891Z"
   },
   {
    "duration": 173,
    "start_time": "2022-06-12T20:25:46.227Z"
   },
   {
    "duration": 52,
    "start_time": "2022-06-12T20:25:46.402Z"
   },
   {
    "duration": 10,
    "start_time": "2022-06-12T20:25:46.459Z"
   },
   {
    "duration": 11,
    "start_time": "2022-06-12T20:25:46.476Z"
   },
   {
    "duration": 21,
    "start_time": "2022-06-12T20:25:46.489Z"
   },
   {
    "duration": 37,
    "start_time": "2022-06-12T20:25:46.511Z"
   },
   {
    "duration": 6723,
    "start_time": "2022-06-12T20:25:46.550Z"
   },
   {
    "duration": 128559,
    "start_time": "2022-06-12T20:25:53.280Z"
   },
   {
    "duration": 230324,
    "start_time": "2022-06-12T20:28:01.840Z"
   },
   {
    "duration": 7,
    "start_time": "2022-06-12T20:31:52.171Z"
   },
   {
    "duration": 107,
    "start_time": "2022-06-12T20:31:52.182Z"
   },
   {
    "duration": 4763,
    "start_time": "2022-06-12T20:31:52.291Z"
   },
   {
    "duration": 47308,
    "start_time": "2022-06-12T20:31:57.062Z"
   },
   {
    "duration": 2222,
    "start_time": "2022-06-13T15:24:59.758Z"
   },
   {
    "duration": 3655,
    "start_time": "2022-06-13T15:25:01.983Z"
   },
   {
    "duration": 8,
    "start_time": "2022-06-13T15:26:29.345Z"
   },
   {
    "duration": 71,
    "start_time": "2022-06-13T15:26:30.373Z"
   },
   {
    "duration": 5,
    "start_time": "2022-06-13T15:26:30.741Z"
   },
   {
    "duration": 12,
    "start_time": "2022-06-13T15:26:30.979Z"
   },
   {
    "duration": 5,
    "start_time": "2022-06-13T15:26:31.226Z"
   },
   {
    "duration": 6,
    "start_time": "2022-06-13T15:26:31.439Z"
   },
   {
    "duration": 8,
    "start_time": "2022-06-13T15:26:32.253Z"
   },
   {
    "duration": 43,
    "start_time": "2022-06-13T15:26:32.470Z"
   },
   {
    "duration": 97,
    "start_time": "2022-06-13T15:26:33.441Z"
   },
   {
    "duration": 44,
    "start_time": "2022-06-13T15:26:33.838Z"
   },
   {
    "duration": 529,
    "start_time": "2022-06-13T15:26:34.477Z"
   },
   {
    "duration": 513,
    "start_time": "2022-06-13T15:26:35.008Z"
   },
   {
    "duration": 620,
    "start_time": "2022-06-13T15:26:35.522Z"
   },
   {
    "duration": 9,
    "start_time": "2022-06-13T15:26:36.163Z"
   },
   {
    "duration": 5,
    "start_time": "2022-06-13T15:26:36.415Z"
   },
   {
    "duration": 292,
    "start_time": "2022-06-13T15:26:36.802Z"
   },
   {
    "duration": 12,
    "start_time": "2022-06-13T15:26:37.098Z"
   },
   {
    "duration": 6,
    "start_time": "2022-06-13T15:26:37.430Z"
   },
   {
    "duration": 280,
    "start_time": "2022-06-13T15:26:37.641Z"
   },
   {
    "duration": 75,
    "start_time": "2022-06-13T15:26:38.355Z"
   },
   {
    "duration": 279,
    "start_time": "2022-06-13T15:26:38.800Z"
   },
   {
    "duration": 6,
    "start_time": "2022-06-13T15:26:39.302Z"
   },
   {
    "duration": 5,
    "start_time": "2022-06-13T15:26:39.639Z"
   },
   {
    "duration": 56,
    "start_time": "2022-06-13T15:26:40.567Z"
   },
   {
    "duration": 24,
    "start_time": "2022-06-13T15:26:42.102Z"
   },
   {
    "duration": 394,
    "start_time": "2022-06-13T15:26:42.563Z"
   },
   {
    "duration": 363,
    "start_time": "2022-06-13T15:26:43.058Z"
   },
   {
    "duration": 67,
    "start_time": "2022-06-13T15:26:43.564Z"
   },
   {
    "duration": 43,
    "start_time": "2022-06-13T15:26:44.278Z"
   },
   {
    "duration": 397,
    "start_time": "2022-06-13T15:26:44.837Z"
   },
   {
    "duration": 184,
    "start_time": "2022-06-13T15:26:45.494Z"
   },
   {
    "duration": 41,
    "start_time": "2022-06-13T15:26:46.276Z"
   },
   {
    "duration": 4,
    "start_time": "2022-06-13T15:27:26.482Z"
   },
   {
    "duration": 7,
    "start_time": "2022-06-13T15:30:04.427Z"
   },
   {
    "duration": 18,
    "start_time": "2022-06-13T15:30:05.015Z"
   },
   {
    "duration": 29,
    "start_time": "2022-06-13T15:30:17.205Z"
   },
   {
    "duration": 4,
    "start_time": "2022-06-13T16:10:41.538Z"
   },
   {
    "duration": 1037,
    "start_time": "2022-06-13T16:10:41.688Z"
   },
   {
    "duration": 6,
    "start_time": "2022-06-13T16:10:42.728Z"
   },
   {
    "duration": 65,
    "start_time": "2022-06-13T16:10:42.735Z"
   },
   {
    "duration": 36,
    "start_time": "2022-06-13T16:10:42.802Z"
   },
   {
    "duration": 12,
    "start_time": "2022-06-13T16:10:43.288Z"
   },
   {
    "duration": 6,
    "start_time": "2022-06-13T16:10:43.416Z"
   },
   {
    "duration": 13,
    "start_time": "2022-06-13T16:10:43.883Z"
   },
   {
    "duration": 12,
    "start_time": "2022-06-13T16:10:44.186Z"
   },
   {
    "duration": 43,
    "start_time": "2022-06-13T16:10:44.309Z"
   },
   {
    "duration": 84,
    "start_time": "2022-06-13T16:10:45.247Z"
   },
   {
    "duration": 46,
    "start_time": "2022-06-13T16:10:45.407Z"
   },
   {
    "duration": 515,
    "start_time": "2022-06-13T16:10:45.682Z"
   },
   {
    "duration": 543,
    "start_time": "2022-06-13T16:10:46.199Z"
   },
   {
    "duration": 787,
    "start_time": "2022-06-13T16:10:51.917Z"
   },
   {
    "duration": 13,
    "start_time": "2022-06-13T16:10:52.706Z"
   },
   {
    "duration": 21,
    "start_time": "2022-06-13T16:10:52.723Z"
   },
   {
    "duration": 308,
    "start_time": "2022-06-13T16:10:52.793Z"
   },
   {
    "duration": 5,
    "start_time": "2022-06-13T16:10:53.115Z"
   },
   {
    "duration": 11,
    "start_time": "2022-06-13T16:10:53.121Z"
   },
   {
    "duration": 296,
    "start_time": "2022-06-13T16:10:53.234Z"
   },
   {
    "duration": 47,
    "start_time": "2022-06-13T16:10:53.548Z"
   },
   {
    "duration": 275,
    "start_time": "2022-06-13T16:10:54.013Z"
   },
   {
    "duration": 7,
    "start_time": "2022-06-13T16:10:54.495Z"
   },
   {
    "duration": 5,
    "start_time": "2022-06-13T16:10:54.623Z"
   },
   {
    "duration": 57,
    "start_time": "2022-06-13T16:10:54.814Z"
   },
   {
    "duration": 37,
    "start_time": "2022-06-13T16:10:55.772Z"
   },
   {
    "duration": 354,
    "start_time": "2022-06-13T16:10:55.882Z"
   },
   {
    "duration": 376,
    "start_time": "2022-06-13T16:10:56.238Z"
   },
   {
    "duration": 53,
    "start_time": "2022-06-13T16:10:56.623Z"
   },
   {
    "duration": 52,
    "start_time": "2022-06-13T16:10:56.817Z"
   },
   {
    "duration": 372,
    "start_time": "2022-06-13T16:10:57.810Z"
   },
   {
    "duration": 57,
    "start_time": "2022-06-13T16:10:58.285Z"
   },
   {
    "duration": 48,
    "start_time": "2022-06-13T16:10:58.777Z"
   },
   {
    "duration": 5,
    "start_time": "2022-06-13T16:11:01.722Z"
   },
   {
    "duration": 3,
    "start_time": "2022-06-13T16:11:05.785Z"
   },
   {
    "duration": 8,
    "start_time": "2022-06-13T16:11:08.513Z"
   },
   {
    "duration": 13,
    "start_time": "2022-06-13T16:11:50.951Z"
   },
   {
    "duration": 22297,
    "start_time": "2022-06-13T16:12:00.439Z"
   },
   {
    "duration": 22697,
    "start_time": "2022-06-13T16:12:25.734Z"
   },
   {
    "duration": 26,
    "start_time": "2022-06-13T16:16:41.532Z"
   },
   {
    "duration": 8,
    "start_time": "2022-06-13T16:18:06.240Z"
   },
   {
    "duration": 10,
    "start_time": "2022-06-13T16:19:05.907Z"
   },
   {
    "duration": 40,
    "start_time": "2022-06-13T19:35:28.656Z"
   },
   {
    "duration": 1235,
    "start_time": "2022-06-13T19:35:52.343Z"
   },
   {
    "duration": 1779,
    "start_time": "2022-06-13T19:35:53.581Z"
   },
   {
    "duration": 5,
    "start_time": "2022-06-13T19:35:55.361Z"
   },
   {
    "duration": 12,
    "start_time": "2022-06-13T19:35:55.368Z"
   },
   {
    "duration": 4,
    "start_time": "2022-06-13T19:35:55.394Z"
   },
   {
    "duration": 13,
    "start_time": "2022-06-13T19:35:55.399Z"
   },
   {
    "duration": 11,
    "start_time": "2022-06-13T19:35:55.413Z"
   },
   {
    "duration": 6,
    "start_time": "2022-06-13T19:35:55.425Z"
   },
   {
    "duration": 4,
    "start_time": "2022-06-13T19:35:55.432Z"
   },
   {
    "duration": 26,
    "start_time": "2022-06-13T19:35:55.438Z"
   },
   {
    "duration": 72,
    "start_time": "2022-06-13T19:35:55.465Z"
   },
   {
    "duration": 22,
    "start_time": "2022-06-13T19:35:55.538Z"
   },
   {
    "duration": 355,
    "start_time": "2022-06-13T19:35:55.561Z"
   },
   {
    "duration": 341,
    "start_time": "2022-06-13T19:35:55.918Z"
   },
   {
    "duration": 397,
    "start_time": "2022-06-13T19:35:56.261Z"
   },
   {
    "duration": 3,
    "start_time": "2022-06-13T19:35:56.660Z"
   },
   {
    "duration": 6,
    "start_time": "2022-06-13T19:35:56.665Z"
   },
   {
    "duration": 199,
    "start_time": "2022-06-13T19:35:56.672Z"
   },
   {
    "duration": 4,
    "start_time": "2022-06-13T19:35:56.872Z"
   },
   {
    "duration": 6,
    "start_time": "2022-06-13T19:35:56.877Z"
   },
   {
    "duration": 184,
    "start_time": "2022-06-13T19:35:56.894Z"
   },
   {
    "duration": 38,
    "start_time": "2022-06-13T19:35:57.080Z"
   },
   {
    "duration": 194,
    "start_time": "2022-06-13T19:35:57.120Z"
   },
   {
    "duration": 5,
    "start_time": "2022-06-13T19:35:57.317Z"
   },
   {
    "duration": 10,
    "start_time": "2022-06-13T19:35:57.324Z"
   },
   {
    "duration": 59,
    "start_time": "2022-06-13T19:35:57.336Z"
   },
   {
    "duration": 19,
    "start_time": "2022-06-13T19:35:57.398Z"
   },
   {
    "duration": 279,
    "start_time": "2022-06-13T19:35:57.421Z"
   },
   {
    "duration": 234,
    "start_time": "2022-06-13T19:35:57.701Z"
   },
   {
    "duration": 39,
    "start_time": "2022-06-13T19:35:57.937Z"
   },
   {
    "duration": 41,
    "start_time": "2022-06-13T19:35:57.977Z"
   },
   {
    "duration": 269,
    "start_time": "2022-06-13T19:35:58.020Z"
   },
   {
    "duration": 136,
    "start_time": "2022-06-13T19:35:58.293Z"
   },
   {
    "duration": 31,
    "start_time": "2022-06-13T19:35:58.430Z"
   },
   {
    "duration": 4,
    "start_time": "2022-06-13T19:35:58.463Z"
   },
   {
    "duration": 5,
    "start_time": "2022-06-13T19:35:58.469Z"
   },
   {
    "duration": 23,
    "start_time": "2022-06-13T19:35:58.493Z"
   },
   {
    "duration": 6,
    "start_time": "2022-06-13T19:35:58.518Z"
   },
   {
    "duration": 13,
    "start_time": "2022-06-13T19:35:58.526Z"
   },
   {
    "duration": 21,
    "start_time": "2022-06-13T19:35:58.541Z"
   },
   {
    "duration": 41,
    "start_time": "2022-06-13T19:35:58.564Z"
   },
   {
    "duration": 2395,
    "start_time": "2022-06-13T19:35:58.607Z"
   },
   {
    "duration": 112601,
    "start_time": "2022-06-13T19:36:01.095Z"
   },
   {
    "duration": 198032,
    "start_time": "2022-06-13T19:37:53.698Z"
   },
   {
    "duration": 3,
    "start_time": "2022-06-13T19:41:11.732Z"
   },
   {
    "duration": 111,
    "start_time": "2022-06-13T19:41:11.737Z"
   },
   {
    "duration": 2146,
    "start_time": "2022-06-13T19:41:11.850Z"
   },
   {
    "duration": 41236,
    "start_time": "2022-06-13T19:41:13.998Z"
   },
   {
    "duration": 15089,
    "start_time": "2022-06-13T19:41:55.236Z"
   },
   {
    "duration": 3,
    "start_time": "2022-06-13T19:42:10.326Z"
   },
   {
    "duration": 19,
    "start_time": "2022-06-13T19:42:10.330Z"
   },
   {
    "duration": 5,
    "start_time": "2022-06-13T19:42:10.350Z"
   },
   {
    "duration": 7,
    "start_time": "2022-06-13T19:50:02.151Z"
   },
   {
    "duration": 1149,
    "start_time": "2022-06-13T19:50:08.261Z"
   },
   {
    "duration": 731,
    "start_time": "2022-06-13T19:50:09.412Z"
   },
   {
    "duration": 5,
    "start_time": "2022-06-13T19:50:10.145Z"
   },
   {
    "duration": 11,
    "start_time": "2022-06-13T19:50:10.152Z"
   },
   {
    "duration": 5,
    "start_time": "2022-06-13T19:50:10.164Z"
   },
   {
    "duration": 25,
    "start_time": "2022-06-13T19:50:10.170Z"
   },
   {
    "duration": 5,
    "start_time": "2022-06-13T19:50:10.197Z"
   },
   {
    "duration": 7,
    "start_time": "2022-06-13T19:50:10.204Z"
   },
   {
    "duration": 5,
    "start_time": "2022-06-13T19:50:10.212Z"
   },
   {
    "duration": 27,
    "start_time": "2022-06-13T19:50:10.220Z"
   },
   {
    "duration": 80,
    "start_time": "2022-06-13T19:50:10.249Z"
   },
   {
    "duration": 23,
    "start_time": "2022-06-13T19:50:10.331Z"
   },
   {
    "duration": 354,
    "start_time": "2022-06-13T19:50:10.355Z"
   },
   {
    "duration": 335,
    "start_time": "2022-06-13T19:50:10.711Z"
   },
   {
    "duration": 416,
    "start_time": "2022-06-13T19:50:11.048Z"
   },
   {
    "duration": 5,
    "start_time": "2022-06-13T19:50:11.466Z"
   },
   {
    "duration": 6,
    "start_time": "2022-06-13T19:50:11.472Z"
   },
   {
    "duration": 193,
    "start_time": "2022-06-13T19:50:11.494Z"
   },
   {
    "duration": 5,
    "start_time": "2022-06-13T19:50:11.694Z"
   },
   {
    "duration": 8,
    "start_time": "2022-06-13T19:50:11.700Z"
   },
   {
    "duration": 197,
    "start_time": "2022-06-13T19:50:11.709Z"
   },
   {
    "duration": 34,
    "start_time": "2022-06-13T19:50:11.908Z"
   },
   {
    "duration": 200,
    "start_time": "2022-06-13T19:50:11.944Z"
   },
   {
    "duration": 5,
    "start_time": "2022-06-13T19:50:12.146Z"
   },
   {
    "duration": 7,
    "start_time": "2022-06-13T19:50:12.152Z"
   },
   {
    "duration": 51,
    "start_time": "2022-06-13T19:50:12.160Z"
   },
   {
    "duration": 15,
    "start_time": "2022-06-13T19:50:12.213Z"
   },
   {
    "duration": 258,
    "start_time": "2022-06-13T19:50:12.231Z"
   },
   {
    "duration": 229,
    "start_time": "2022-06-13T19:50:12.490Z"
   },
   {
    "duration": 39,
    "start_time": "2022-06-13T19:50:12.720Z"
   },
   {
    "duration": 40,
    "start_time": "2022-06-13T19:50:12.760Z"
   },
   {
    "duration": 261,
    "start_time": "2022-06-13T19:50:12.801Z"
   },
   {
    "duration": 145,
    "start_time": "2022-06-13T19:50:13.064Z"
   },
   {
    "duration": 28,
    "start_time": "2022-06-13T19:50:13.210Z"
   },
   {
    "duration": 3,
    "start_time": "2022-06-13T19:50:13.240Z"
   },
   {
    "duration": 5,
    "start_time": "2022-06-13T19:50:13.244Z"
   },
   {
    "duration": 3,
    "start_time": "2022-06-13T19:50:13.251Z"
   },
   {
    "duration": 4,
    "start_time": "2022-06-13T19:50:13.256Z"
   },
   {
    "duration": 7,
    "start_time": "2022-06-13T19:50:13.261Z"
   },
   {
    "duration": 5,
    "start_time": "2022-06-13T19:50:13.269Z"
   },
   {
    "duration": 18,
    "start_time": "2022-06-13T19:50:13.276Z"
   },
   {
    "duration": 3,
    "start_time": "2022-06-13T19:50:13.296Z"
   },
   {
    "duration": 7,
    "start_time": "2022-06-13T19:50:13.300Z"
   },
   {
    "duration": 3,
    "start_time": "2022-06-13T19:50:13.308Z"
   },
   {
    "duration": 4,
    "start_time": "2022-06-13T19:50:13.312Z"
   },
   {
    "duration": 5,
    "start_time": "2022-06-13T19:50:13.317Z"
   },
   {
    "duration": 6,
    "start_time": "2022-06-13T19:50:13.323Z"
   },
   {
    "duration": 8,
    "start_time": "2022-06-13T19:50:13.330Z"
   },
   {
    "duration": 15643,
    "start_time": "2022-06-13T19:50:13.340Z"
   },
   {
    "duration": 9,
    "start_time": "2022-06-13T19:50:28.985Z"
   },
   {
    "duration": 16,
    "start_time": "2022-06-13T19:50:28.996Z"
   },
   {
    "duration": 5,
    "start_time": "2022-06-13T19:50:29.014Z"
   },
   {
    "duration": 15282,
    "start_time": "2022-06-13T19:54:39.809Z"
   },
   {
    "duration": 21,
    "start_time": "2022-06-13T20:04:30.580Z"
   },
   {
    "duration": 11,
    "start_time": "2022-06-13T20:04:47.563Z"
   },
   {
    "duration": 2338,
    "start_time": "2022-06-13T20:05:14.664Z"
   },
   {
    "duration": 2009,
    "start_time": "2022-06-13T20:05:29.986Z"
   },
   {
    "duration": 2,
    "start_time": "2022-06-13T20:11:54.076Z"
   },
   {
    "duration": 4,
    "start_time": "2022-06-13T20:12:02.400Z"
   },
   {
    "duration": 1189,
    "start_time": "2022-06-13T20:12:14.993Z"
   },
   {
    "duration": 712,
    "start_time": "2022-06-13T20:12:16.184Z"
   },
   {
    "duration": 4,
    "start_time": "2022-06-13T20:12:16.898Z"
   },
   {
    "duration": 10,
    "start_time": "2022-06-13T20:12:16.904Z"
   },
   {
    "duration": 4,
    "start_time": "2022-06-13T20:12:16.916Z"
   },
   {
    "duration": 9,
    "start_time": "2022-06-13T20:12:16.921Z"
   },
   {
    "duration": 4,
    "start_time": "2022-06-13T20:12:16.932Z"
   },
   {
    "duration": 6,
    "start_time": "2022-06-13T20:12:16.937Z"
   },
   {
    "duration": 6,
    "start_time": "2022-06-13T20:12:16.945Z"
   },
   {
    "duration": 61,
    "start_time": "2022-06-13T20:12:16.953Z"
   },
   {
    "duration": 55,
    "start_time": "2022-06-13T20:12:17.015Z"
   },
   {
    "duration": 39,
    "start_time": "2022-06-13T20:12:17.071Z"
   },
   {
    "duration": 352,
    "start_time": "2022-06-13T20:12:17.112Z"
   },
   {
    "duration": 428,
    "start_time": "2022-06-13T20:12:17.465Z"
   },
   {
    "duration": 441,
    "start_time": "2022-06-13T20:12:17.894Z"
   },
   {
    "duration": 5,
    "start_time": "2022-06-13T20:12:18.337Z"
   },
   {
    "duration": 8,
    "start_time": "2022-06-13T20:12:18.343Z"
   },
   {
    "duration": 230,
    "start_time": "2022-06-13T20:12:18.353Z"
   },
   {
    "duration": 10,
    "start_time": "2022-06-13T20:12:18.584Z"
   },
   {
    "duration": 3,
    "start_time": "2022-06-13T20:12:18.596Z"
   },
   {
    "duration": 209,
    "start_time": "2022-06-13T20:12:18.601Z"
   },
   {
    "duration": 34,
    "start_time": "2022-06-13T20:12:18.812Z"
   },
   {
    "duration": 198,
    "start_time": "2022-06-13T20:12:18.847Z"
   },
   {
    "duration": 5,
    "start_time": "2022-06-13T20:12:19.046Z"
   },
   {
    "duration": 9,
    "start_time": "2022-06-13T20:12:19.052Z"
   },
   {
    "duration": 51,
    "start_time": "2022-06-13T20:12:19.062Z"
   },
   {
    "duration": 15,
    "start_time": "2022-06-13T20:12:19.115Z"
   },
   {
    "duration": 258,
    "start_time": "2022-06-13T20:12:19.133Z"
   },
   {
    "duration": 240,
    "start_time": "2022-06-13T20:12:19.392Z"
   },
   {
    "duration": 40,
    "start_time": "2022-06-13T20:12:19.633Z"
   },
   {
    "duration": 42,
    "start_time": "2022-06-13T20:12:19.675Z"
   },
   {
    "duration": 256,
    "start_time": "2022-06-13T20:12:19.719Z"
   },
   {
    "duration": 159,
    "start_time": "2022-06-13T20:12:19.976Z"
   },
   {
    "duration": 30,
    "start_time": "2022-06-13T20:12:20.137Z"
   },
   {
    "duration": 3,
    "start_time": "2022-06-13T20:12:20.169Z"
   },
   {
    "duration": 23,
    "start_time": "2022-06-13T20:12:20.173Z"
   },
   {
    "duration": 7,
    "start_time": "2022-06-13T20:12:20.198Z"
   },
   {
    "duration": 7,
    "start_time": "2022-06-13T20:12:20.206Z"
   },
   {
    "duration": 6,
    "start_time": "2022-06-13T20:12:20.215Z"
   },
   {
    "duration": 5,
    "start_time": "2022-06-13T20:12:20.223Z"
   },
   {
    "duration": 8,
    "start_time": "2022-06-13T20:12:20.229Z"
   },
   {
    "duration": 12,
    "start_time": "2022-06-13T20:12:20.239Z"
   },
   {
    "duration": 17,
    "start_time": "2022-06-13T20:12:20.252Z"
   },
   {
    "duration": 13,
    "start_time": "2022-06-13T20:12:20.271Z"
   },
   {
    "duration": 9,
    "start_time": "2022-06-13T20:12:20.286Z"
   },
   {
    "duration": 5,
    "start_time": "2022-06-13T20:12:20.296Z"
   },
   {
    "duration": 27,
    "start_time": "2022-06-13T20:12:20.302Z"
   },
   {
    "duration": 14,
    "start_time": "2022-06-13T20:12:20.331Z"
   },
   {
    "duration": 34,
    "start_time": "2022-06-13T20:12:20.346Z"
   },
   {
    "duration": 16128,
    "start_time": "2022-06-13T20:12:20.382Z"
   },
   {
    "duration": 4,
    "start_time": "2022-06-13T20:12:36.511Z"
   },
   {
    "duration": 18,
    "start_time": "2022-06-13T20:12:36.517Z"
   },
   {
    "duration": 6,
    "start_time": "2022-06-13T20:12:36.537Z"
   },
   {
    "duration": 2855,
    "start_time": "2022-06-13T20:12:36.544Z"
   },
   {
    "duration": 5,
    "start_time": "2022-06-13T20:12:39.401Z"
   },
   {
    "duration": 15685,
    "start_time": "2022-06-13T20:14:18.537Z"
   },
   {
    "duration": 5,
    "start_time": "2022-06-13T20:14:51.490Z"
   },
   {
    "duration": 5,
    "start_time": "2022-06-13T20:15:39.236Z"
   },
   {
    "duration": 124,
    "start_time": "2022-06-13T20:17:08.854Z"
   },
   {
    "duration": 4,
    "start_time": "2022-06-13T20:17:15.948Z"
   },
   {
    "duration": 4,
    "start_time": "2022-06-13T20:17:34.138Z"
   },
   {
    "duration": 4,
    "start_time": "2022-06-13T20:18:20.501Z"
   },
   {
    "duration": 4,
    "start_time": "2022-06-13T20:19:00.215Z"
   },
   {
    "duration": 21,
    "start_time": "2022-06-13T20:19:58.048Z"
   },
   {
    "duration": 1894,
    "start_time": "2022-06-13T20:22:24.585Z"
   },
   {
    "duration": 1915,
    "start_time": "2022-06-13T20:23:03.800Z"
   },
   {
    "duration": 3489,
    "start_time": "2022-06-13T20:23:10.252Z"
   },
   {
    "duration": 5,
    "start_time": "2022-06-13T20:23:48.891Z"
   },
   {
    "duration": 3543,
    "start_time": "2022-06-13T20:24:07.345Z"
   },
   {
    "duration": 3,
    "start_time": "2022-06-13T20:24:22.362Z"
   },
   {
    "duration": 5,
    "start_time": "2022-06-13T20:24:32.865Z"
   },
   {
    "duration": 12,
    "start_time": "2022-06-13T20:26:54.566Z"
   },
   {
    "duration": 25,
    "start_time": "2022-06-13T20:27:00.605Z"
   },
   {
    "duration": 23,
    "start_time": "2022-06-13T20:27:38.686Z"
   },
   {
    "duration": 1163,
    "start_time": "2022-06-13T20:27:49.003Z"
   },
   {
    "duration": 756,
    "start_time": "2022-06-13T20:27:50.167Z"
   },
   {
    "duration": 5,
    "start_time": "2022-06-13T20:27:50.924Z"
   },
   {
    "duration": 12,
    "start_time": "2022-06-13T20:27:50.932Z"
   },
   {
    "duration": 4,
    "start_time": "2022-06-13T20:27:50.946Z"
   },
   {
    "duration": 9,
    "start_time": "2022-06-13T20:27:50.952Z"
   },
   {
    "duration": 31,
    "start_time": "2022-06-13T20:27:50.963Z"
   },
   {
    "duration": 4,
    "start_time": "2022-06-13T20:27:50.996Z"
   },
   {
    "duration": 12,
    "start_time": "2022-06-13T20:27:51.001Z"
   },
   {
    "duration": 29,
    "start_time": "2022-06-13T20:27:51.015Z"
   },
   {
    "duration": 75,
    "start_time": "2022-06-13T20:27:51.046Z"
   },
   {
    "duration": 25,
    "start_time": "2022-06-13T20:27:51.123Z"
   },
   {
    "duration": 368,
    "start_time": "2022-06-13T20:27:51.149Z"
   },
   {
    "duration": 370,
    "start_time": "2022-06-13T20:27:51.518Z"
   },
   {
    "duration": 428,
    "start_time": "2022-06-13T20:27:51.894Z"
   },
   {
    "duration": 5,
    "start_time": "2022-06-13T20:27:52.324Z"
   },
   {
    "duration": 8,
    "start_time": "2022-06-13T20:27:52.331Z"
   },
   {
    "duration": 213,
    "start_time": "2022-06-13T20:27:52.341Z"
   },
   {
    "duration": 4,
    "start_time": "2022-06-13T20:27:52.556Z"
   },
   {
    "duration": 6,
    "start_time": "2022-06-13T20:27:52.561Z"
   },
   {
    "duration": 201,
    "start_time": "2022-06-13T20:27:52.569Z"
   },
   {
    "duration": 41,
    "start_time": "2022-06-13T20:27:52.772Z"
   },
   {
    "duration": 204,
    "start_time": "2022-06-13T20:27:52.814Z"
   },
   {
    "duration": 4,
    "start_time": "2022-06-13T20:27:53.019Z"
   },
   {
    "duration": 20,
    "start_time": "2022-06-13T20:27:53.025Z"
   },
   {
    "duration": 40,
    "start_time": "2022-06-13T20:27:53.046Z"
   },
   {
    "duration": 22,
    "start_time": "2022-06-13T20:27:53.088Z"
   },
   {
    "duration": 254,
    "start_time": "2022-06-13T20:27:53.114Z"
   },
   {
    "duration": 238,
    "start_time": "2022-06-13T20:27:53.369Z"
   },
   {
    "duration": 40,
    "start_time": "2022-06-13T20:27:53.609Z"
   },
   {
    "duration": 49,
    "start_time": "2022-06-13T20:27:53.650Z"
   },
   {
    "duration": 287,
    "start_time": "2022-06-13T20:27:53.700Z"
   },
   {
    "duration": 155,
    "start_time": "2022-06-13T20:27:53.994Z"
   },
   {
    "duration": 29,
    "start_time": "2022-06-13T20:27:54.151Z"
   },
   {
    "duration": 15,
    "start_time": "2022-06-13T20:27:54.182Z"
   },
   {
    "duration": 7,
    "start_time": "2022-06-13T20:27:54.198Z"
   },
   {
    "duration": 12,
    "start_time": "2022-06-13T20:27:54.206Z"
   },
   {
    "duration": 7,
    "start_time": "2022-06-13T20:27:54.220Z"
   },
   {
    "duration": 7,
    "start_time": "2022-06-13T20:27:54.229Z"
   },
   {
    "duration": 10,
    "start_time": "2022-06-13T20:27:54.237Z"
   },
   {
    "duration": 7,
    "start_time": "2022-06-13T20:27:54.249Z"
   },
   {
    "duration": 6,
    "start_time": "2022-06-13T20:27:54.258Z"
   },
   {
    "duration": 8,
    "start_time": "2022-06-13T20:27:54.265Z"
   },
   {
    "duration": 10,
    "start_time": "2022-06-13T20:27:54.275Z"
   },
   {
    "duration": 7,
    "start_time": "2022-06-13T20:27:54.286Z"
   },
   {
    "duration": 5,
    "start_time": "2022-06-13T20:27:54.295Z"
   },
   {
    "duration": 10,
    "start_time": "2022-06-13T20:27:54.302Z"
   },
   {
    "duration": 13,
    "start_time": "2022-06-13T20:27:54.313Z"
   },
   {
    "duration": 22,
    "start_time": "2022-06-13T20:27:54.328Z"
   },
   {
    "duration": 15490,
    "start_time": "2022-06-13T20:27:54.352Z"
   },
   {
    "duration": 4,
    "start_time": "2022-06-13T20:28:09.844Z"
   },
   {
    "duration": 18,
    "start_time": "2022-06-13T20:28:09.849Z"
   },
   {
    "duration": 6,
    "start_time": "2022-06-13T20:28:09.868Z"
   },
   {
    "duration": 3224,
    "start_time": "2022-06-13T20:28:09.876Z"
   },
   {
    "duration": 4,
    "start_time": "2022-06-13T20:28:13.103Z"
   },
   {
    "duration": 17164,
    "start_time": "2022-06-13T20:28:13.110Z"
   },
   {
    "duration": 3,
    "start_time": "2022-06-13T20:28:30.276Z"
   },
   {
    "duration": 14,
    "start_time": "2022-06-13T20:28:30.281Z"
   },
   {
    "duration": 42,
    "start_time": "2022-06-13T20:28:30.297Z"
   },
   {
    "duration": 3659,
    "start_time": "2022-06-13T20:28:30.341Z"
   },
   {
    "duration": 4,
    "start_time": "2022-06-13T20:28:34.002Z"
   },
   {
    "duration": 3792,
    "start_time": "2022-06-13T20:28:34.007Z"
   },
   {
    "duration": 4,
    "start_time": "2022-06-13T20:28:37.801Z"
   },
   {
    "duration": 11,
    "start_time": "2022-06-13T20:28:37.806Z"
   },
   {
    "duration": 11,
    "start_time": "2022-06-13T20:28:37.819Z"
   },
   {
    "duration": 104,
    "start_time": "2022-06-13T20:29:02.267Z"
   },
   {
    "duration": 1187,
    "start_time": "2022-06-13T20:29:11.690Z"
   },
   {
    "duration": 671,
    "start_time": "2022-06-13T20:29:12.878Z"
   },
   {
    "duration": 4,
    "start_time": "2022-06-13T20:29:13.551Z"
   },
   {
    "duration": 9,
    "start_time": "2022-06-13T20:29:13.557Z"
   },
   {
    "duration": 4,
    "start_time": "2022-06-13T20:29:13.567Z"
   },
   {
    "duration": 7,
    "start_time": "2022-06-13T20:29:13.595Z"
   },
   {
    "duration": 5,
    "start_time": "2022-06-13T20:29:13.604Z"
   },
   {
    "duration": 8,
    "start_time": "2022-06-13T20:29:13.610Z"
   },
   {
    "duration": 5,
    "start_time": "2022-06-13T20:29:13.620Z"
   },
   {
    "duration": 31,
    "start_time": "2022-06-13T20:29:13.628Z"
   },
   {
    "duration": 106,
    "start_time": "2022-06-13T20:29:13.661Z"
   },
   {
    "duration": 34,
    "start_time": "2022-06-13T20:29:13.771Z"
   },
   {
    "duration": 374,
    "start_time": "2022-06-13T20:29:13.807Z"
   },
   {
    "duration": 337,
    "start_time": "2022-06-13T20:29:14.183Z"
   },
   {
    "duration": 405,
    "start_time": "2022-06-13T20:29:14.522Z"
   },
   {
    "duration": 4,
    "start_time": "2022-06-13T20:29:14.929Z"
   },
   {
    "duration": 18,
    "start_time": "2022-06-13T20:29:14.935Z"
   },
   {
    "duration": 206,
    "start_time": "2022-06-13T20:29:14.954Z"
   },
   {
    "duration": 4,
    "start_time": "2022-06-13T20:29:15.162Z"
   },
   {
    "duration": 23,
    "start_time": "2022-06-13T20:29:15.168Z"
   },
   {
    "duration": 191,
    "start_time": "2022-06-13T20:29:15.192Z"
   },
   {
    "duration": 36,
    "start_time": "2022-06-13T20:29:15.385Z"
   },
   {
    "duration": 188,
    "start_time": "2022-06-13T20:29:15.422Z"
   },
   {
    "duration": 5,
    "start_time": "2022-06-13T20:29:15.611Z"
   },
   {
    "duration": 5,
    "start_time": "2022-06-13T20:29:15.617Z"
   },
   {
    "duration": 40,
    "start_time": "2022-06-13T20:29:15.624Z"
   },
   {
    "duration": 34,
    "start_time": "2022-06-13T20:29:15.665Z"
   },
   {
    "duration": 266,
    "start_time": "2022-06-13T20:29:15.704Z"
   },
   {
    "duration": 241,
    "start_time": "2022-06-13T20:29:15.972Z"
   },
   {
    "duration": 38,
    "start_time": "2022-06-13T20:29:16.214Z"
   },
   {
    "duration": 48,
    "start_time": "2022-06-13T20:29:16.254Z"
   },
   {
    "duration": 245,
    "start_time": "2022-06-13T20:29:16.303Z"
   },
   {
    "duration": 140,
    "start_time": "2022-06-13T20:29:16.549Z"
   },
   {
    "duration": 30,
    "start_time": "2022-06-13T20:29:16.693Z"
   },
   {
    "duration": 3,
    "start_time": "2022-06-13T20:29:16.724Z"
   },
   {
    "duration": 6,
    "start_time": "2022-06-13T20:29:16.729Z"
   },
   {
    "duration": 5,
    "start_time": "2022-06-13T20:29:16.736Z"
   },
   {
    "duration": 5,
    "start_time": "2022-06-13T20:29:16.742Z"
   },
   {
    "duration": 6,
    "start_time": "2022-06-13T20:29:16.748Z"
   },
   {
    "duration": 5,
    "start_time": "2022-06-13T20:29:16.755Z"
   },
   {
    "duration": 5,
    "start_time": "2022-06-13T20:29:16.761Z"
   },
   {
    "duration": 4,
    "start_time": "2022-06-13T20:29:16.769Z"
   },
   {
    "duration": 21,
    "start_time": "2022-06-13T20:29:16.774Z"
   },
   {
    "duration": 5,
    "start_time": "2022-06-13T20:29:16.797Z"
   },
   {
    "duration": 5,
    "start_time": "2022-06-13T20:29:16.803Z"
   },
   {
    "duration": 4,
    "start_time": "2022-06-13T20:29:16.809Z"
   },
   {
    "duration": 6,
    "start_time": "2022-06-13T20:29:16.815Z"
   },
   {
    "duration": 9,
    "start_time": "2022-06-13T20:29:16.822Z"
   },
   {
    "duration": 16,
    "start_time": "2022-06-13T20:29:16.832Z"
   },
   {
    "duration": 15424,
    "start_time": "2022-06-13T20:29:16.850Z"
   },
   {
    "duration": 4,
    "start_time": "2022-06-13T20:29:32.276Z"
   },
   {
    "duration": 30,
    "start_time": "2022-06-13T20:29:32.281Z"
   },
   {
    "duration": 6,
    "start_time": "2022-06-13T20:29:32.313Z"
   },
   {
    "duration": 3588,
    "start_time": "2022-06-13T20:29:32.321Z"
   },
   {
    "duration": 4,
    "start_time": "2022-06-13T20:29:35.995Z"
   },
   {
    "duration": 15871,
    "start_time": "2022-06-13T20:29:36.001Z"
   },
   {
    "duration": 4,
    "start_time": "2022-06-13T20:29:51.873Z"
   },
   {
    "duration": 16,
    "start_time": "2022-06-13T20:29:51.879Z"
   },
   {
    "duration": 3,
    "start_time": "2022-06-13T20:29:51.897Z"
   },
   {
    "duration": 3499,
    "start_time": "2022-06-13T20:29:51.901Z"
   },
   {
    "duration": 4,
    "start_time": "2022-06-13T20:29:55.401Z"
   },
   {
    "duration": 3588,
    "start_time": "2022-06-13T20:29:55.406Z"
   },
   {
    "duration": 4,
    "start_time": "2022-06-13T20:29:58.996Z"
   },
   {
    "duration": 8,
    "start_time": "2022-06-13T20:29:59.001Z"
   },
   {
    "duration": 19,
    "start_time": "2022-06-13T20:29:59.011Z"
   },
   {
    "duration": 8,
    "start_time": "2022-06-13T20:31:16.859Z"
   },
   {
    "duration": 6,
    "start_time": "2022-06-13T20:32:03.100Z"
   },
   {
    "duration": 6,
    "start_time": "2022-06-13T20:32:09.545Z"
   },
   {
    "duration": 7,
    "start_time": "2022-06-13T20:33:16.781Z"
   },
   {
    "duration": 98,
    "start_time": "2022-06-13T20:33:36.853Z"
   },
   {
    "duration": 12,
    "start_time": "2022-06-13T20:33:48.911Z"
   },
   {
    "duration": 6,
    "start_time": "2022-06-13T20:33:54.271Z"
   },
   {
    "duration": 11,
    "start_time": "2022-06-13T20:33:55.521Z"
   },
   {
    "duration": 9,
    "start_time": "2022-06-13T20:34:06.217Z"
   },
   {
    "duration": 8,
    "start_time": "2022-06-13T20:34:07.810Z"
   },
   {
    "duration": 4,
    "start_time": "2022-06-13T20:34:09.310Z"
   },
   {
    "duration": 8,
    "start_time": "2022-06-13T20:37:52.136Z"
   },
   {
    "duration": 3,
    "start_time": "2022-06-13T20:38:01.663Z"
   },
   {
    "duration": 12,
    "start_time": "2022-06-13T20:38:12.860Z"
   },
   {
    "duration": 9,
    "start_time": "2022-06-13T20:41:07.606Z"
   },
   {
    "duration": 140,
    "start_time": "2022-06-13T20:41:27.247Z"
   },
   {
    "duration": 124,
    "start_time": "2022-06-13T20:41:42.614Z"
   },
   {
    "duration": 126,
    "start_time": "2022-06-13T20:42:16.489Z"
   },
   {
    "duration": 4,
    "start_time": "2022-06-13T20:42:41.853Z"
   },
   {
    "duration": 1394,
    "start_time": "2022-06-13T20:50:57.102Z"
   },
   {
    "duration": 760,
    "start_time": "2022-06-13T20:50:58.498Z"
   },
   {
    "duration": 5,
    "start_time": "2022-06-13T20:50:59.259Z"
   },
   {
    "duration": 10,
    "start_time": "2022-06-13T20:50:59.266Z"
   },
   {
    "duration": 20,
    "start_time": "2022-06-13T20:50:59.277Z"
   },
   {
    "duration": 8,
    "start_time": "2022-06-13T20:50:59.298Z"
   },
   {
    "duration": 5,
    "start_time": "2022-06-13T20:50:59.308Z"
   },
   {
    "duration": 5,
    "start_time": "2022-06-13T20:50:59.314Z"
   },
   {
    "duration": 6,
    "start_time": "2022-06-13T20:50:59.320Z"
   },
   {
    "duration": 67,
    "start_time": "2022-06-13T20:50:59.328Z"
   },
   {
    "duration": 58,
    "start_time": "2022-06-13T20:50:59.397Z"
   },
   {
    "duration": 48,
    "start_time": "2022-06-13T20:50:59.457Z"
   },
   {
    "duration": 374,
    "start_time": "2022-06-13T20:50:59.506Z"
   },
   {
    "duration": 367,
    "start_time": "2022-06-13T20:50:59.881Z"
   },
   {
    "duration": 440,
    "start_time": "2022-06-13T20:51:00.250Z"
   },
   {
    "duration": 4,
    "start_time": "2022-06-13T20:51:00.694Z"
   },
   {
    "duration": 7,
    "start_time": "2022-06-13T20:51:00.700Z"
   },
   {
    "duration": 208,
    "start_time": "2022-06-13T20:51:00.709Z"
   },
   {
    "duration": 5,
    "start_time": "2022-06-13T20:51:00.919Z"
   },
   {
    "duration": 16,
    "start_time": "2022-06-13T20:51:00.925Z"
   },
   {
    "duration": 206,
    "start_time": "2022-06-13T20:51:00.942Z"
   },
   {
    "duration": 36,
    "start_time": "2022-06-13T20:51:01.149Z"
   },
   {
    "duration": 199,
    "start_time": "2022-06-13T20:51:01.186Z"
   },
   {
    "duration": 10,
    "start_time": "2022-06-13T20:51:01.386Z"
   },
   {
    "duration": 7,
    "start_time": "2022-06-13T20:51:01.398Z"
   },
   {
    "duration": 43,
    "start_time": "2022-06-13T20:51:01.406Z"
   },
   {
    "duration": 16,
    "start_time": "2022-06-13T20:51:01.450Z"
   },
   {
    "duration": 263,
    "start_time": "2022-06-13T20:51:01.469Z"
   },
   {
    "duration": 271,
    "start_time": "2022-06-13T20:51:01.734Z"
   },
   {
    "duration": 47,
    "start_time": "2022-06-13T20:51:02.006Z"
   },
   {
    "duration": 47,
    "start_time": "2022-06-13T20:51:02.055Z"
   },
   {
    "duration": 271,
    "start_time": "2022-06-13T20:51:02.104Z"
   },
   {
    "duration": 150,
    "start_time": "2022-06-13T20:51:02.376Z"
   },
   {
    "duration": 32,
    "start_time": "2022-06-13T20:51:02.527Z"
   },
   {
    "duration": 3,
    "start_time": "2022-06-13T20:51:02.561Z"
   },
   {
    "duration": 7,
    "start_time": "2022-06-13T20:51:02.565Z"
   },
   {
    "duration": 20,
    "start_time": "2022-06-13T20:51:02.574Z"
   },
   {
    "duration": 11,
    "start_time": "2022-06-13T20:51:02.596Z"
   },
   {
    "duration": 7,
    "start_time": "2022-06-13T20:51:02.609Z"
   },
   {
    "duration": 6,
    "start_time": "2022-06-13T20:51:02.617Z"
   },
   {
    "duration": 3,
    "start_time": "2022-06-13T20:51:02.625Z"
   },
   {
    "duration": 9,
    "start_time": "2022-06-13T20:51:02.630Z"
   },
   {
    "duration": 8,
    "start_time": "2022-06-13T20:51:02.640Z"
   },
   {
    "duration": 5,
    "start_time": "2022-06-13T20:51:02.649Z"
   },
   {
    "duration": 5,
    "start_time": "2022-06-13T20:51:02.655Z"
   },
   {
    "duration": 8,
    "start_time": "2022-06-13T20:51:02.661Z"
   },
   {
    "duration": 14,
    "start_time": "2022-06-13T20:51:02.670Z"
   },
   {
    "duration": 12,
    "start_time": "2022-06-13T20:51:02.686Z"
   },
   {
    "duration": 21,
    "start_time": "2022-06-13T20:51:02.700Z"
   },
   {
    "duration": 16020,
    "start_time": "2022-06-13T20:51:02.722Z"
   },
   {
    "duration": 3,
    "start_time": "2022-06-13T20:51:18.743Z"
   },
   {
    "duration": 18,
    "start_time": "2022-06-13T20:51:18.748Z"
   },
   {
    "duration": 6,
    "start_time": "2022-06-13T20:51:18.768Z"
   },
   {
    "duration": 2221,
    "start_time": "2022-06-13T20:51:18.775Z"
   },
   {
    "duration": 4,
    "start_time": "2022-06-13T20:51:20.998Z"
   },
   {
    "duration": 15694,
    "start_time": "2022-06-13T20:51:21.004Z"
   },
   {
    "duration": 4,
    "start_time": "2022-06-13T20:51:36.700Z"
   },
   {
    "duration": 9,
    "start_time": "2022-06-13T20:51:36.706Z"
   },
   {
    "duration": 6,
    "start_time": "2022-06-13T20:51:36.716Z"
   },
   {
    "duration": 3509,
    "start_time": "2022-06-13T20:51:36.723Z"
   },
   {
    "duration": 3,
    "start_time": "2022-06-13T20:51:40.233Z"
   },
   {
    "duration": 3490,
    "start_time": "2022-06-13T20:51:40.238Z"
   },
   {
    "duration": 3,
    "start_time": "2022-06-13T20:51:43.730Z"
   },
   {
    "duration": 10,
    "start_time": "2022-06-13T20:51:43.735Z"
   },
   {
    "duration": 5,
    "start_time": "2022-06-13T20:51:43.746Z"
   },
   {
    "duration": 42,
    "start_time": "2022-06-13T20:51:43.752Z"
   },
   {
    "duration": 9,
    "start_time": "2022-06-13T20:51:43.796Z"
   },
   {
    "duration": 10,
    "start_time": "2022-06-13T20:51:43.807Z"
   },
   {
    "duration": 13,
    "start_time": "2022-06-13T20:51:43.819Z"
   },
   {
    "duration": 141,
    "start_time": "2022-06-13T20:51:43.833Z"
   },
   {
    "duration": 132,
    "start_time": "2022-06-13T20:51:43.976Z"
   },
   {
    "duration": 4,
    "start_time": "2022-06-13T20:51:44.110Z"
   }
  ],
  "kernelspec": {
   "display_name": "Python 3 (ipykernel)",
   "language": "python",
   "name": "python3"
  },
  "language_info": {
   "codemirror_mode": {
    "name": "ipython",
    "version": 3
   },
   "file_extension": ".py",
   "mimetype": "text/x-python",
   "name": "python",
   "nbconvert_exporter": "python",
   "pygments_lexer": "ipython3",
   "version": "3.9.12"
  },
  "toc": {
   "base_numbering": 1,
   "nav_menu": {},
   "number_sections": true,
   "sideBar": true,
   "skip_h1_title": true,
   "title_cell": "Содержание",
   "title_sidebar": "Contents",
   "toc_cell": true,
   "toc_position": {
    "height": "calc(100% - 180px)",
    "left": "10px",
    "top": "150px",
    "width": "165px"
   },
   "toc_section_display": true,
   "toc_window_display": true
  }
 },
 "nbformat": 4,
 "nbformat_minor": 2
}
