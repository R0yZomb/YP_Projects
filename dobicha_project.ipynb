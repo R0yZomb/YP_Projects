{
 "cells": [
  {
   "cell_type": "markdown",
   "metadata": {},
   "source": [
    "# Выбор локации для скважины"
   ]
  },
  {
   "cell_type": "markdown",
   "metadata": {},
   "source": [
    "Вы работаете в добывающей компании. Нужно решить, где бурить новую скважину.\n",
    "\n",
    "Вам предоставлены пробы нефти в трёх регионах: в каждом 10 000 месторождений, где измерили качество нефти и объём её запасов. Постройте модель машинного обучения, которая поможет определить регион, где добыча принесёт наибольшую прибыль.\n",
    "\n",
    "Шаги для выбора локации:\n",
    "\n",
    "- В избранном регионе ищут месторождения, для каждого определяют значения признаков;\n",
    "- Строят модель и оценивают объём запасов;\n",
    "- Выбирают месторождения с самым высокими оценками значений. Количество месторождений зависит от бюджета компании и стоимости разработки одной скважины;\n",
    "- Прибыль равна суммарной прибыли отобранных месторождений."
   ]
  },
  {
   "cell_type": "markdown",
   "metadata": {},
   "source": [
    "## Загрузка и подготовка данных"
   ]
  },
  {
   "cell_type": "code",
   "execution_count": 1,
   "metadata": {},
   "outputs": [],
   "source": [
    "import pandas as pd\n",
    "import numpy as np\n",
    "from scipy import stats as st\n",
    "from sklearn.model_selection import train_test_split\n",
    "from sklearn.linear_model import LinearRegression\n",
    "from sklearn.metrics import mean_squared_error\n",
    "from sklearn.preprocessing import StandardScaler"
   ]
  },
  {
   "cell_type": "code",
   "execution_count": 2,
   "metadata": {
    "scrolled": false
   },
   "outputs": [
    {
     "name": "stdout",
     "output_type": "stream",
     "text": [
      "<class 'pandas.core.frame.DataFrame'>\n",
      "RangeIndex: 100000 entries, 0 to 99999\n",
      "Data columns (total 5 columns):\n",
      " #   Column   Non-Null Count   Dtype  \n",
      "---  ------   --------------   -----  \n",
      " 0   id       100000 non-null  object \n",
      " 1   f0       100000 non-null  float64\n",
      " 2   f1       100000 non-null  float64\n",
      " 3   f2       100000 non-null  float64\n",
      " 4   product  100000 non-null  float64\n",
      "dtypes: float64(4), object(1)\n",
      "memory usage: 3.8+ MB\n",
      "<class 'pandas.core.frame.DataFrame'>\n",
      "RangeIndex: 100000 entries, 0 to 99999\n",
      "Data columns (total 5 columns):\n",
      " #   Column   Non-Null Count   Dtype  \n",
      "---  ------   --------------   -----  \n",
      " 0   id       100000 non-null  object \n",
      " 1   f0       100000 non-null  float64\n",
      " 2   f1       100000 non-null  float64\n",
      " 3   f2       100000 non-null  float64\n",
      " 4   product  100000 non-null  float64\n",
      "dtypes: float64(4), object(1)\n",
      "memory usage: 3.8+ MB\n",
      "<class 'pandas.core.frame.DataFrame'>\n",
      "RangeIndex: 100000 entries, 0 to 99999\n",
      "Data columns (total 5 columns):\n",
      " #   Column   Non-Null Count   Dtype  \n",
      "---  ------   --------------   -----  \n",
      " 0   id       100000 non-null  object \n",
      " 1   f0       100000 non-null  float64\n",
      " 2   f1       100000 non-null  float64\n",
      " 3   f2       100000 non-null  float64\n",
      " 4   product  100000 non-null  float64\n",
      "dtypes: float64(4), object(1)\n",
      "memory usage: 3.8+ MB\n"
     ]
    },
    {
     "data": {
      "text/html": [
       "<div>\n",
       "<style scoped>\n",
       "    .dataframe tbody tr th:only-of-type {\n",
       "        vertical-align: middle;\n",
       "    }\n",
       "\n",
       "    .dataframe tbody tr th {\n",
       "        vertical-align: top;\n",
       "    }\n",
       "\n",
       "    .dataframe thead th {\n",
       "        text-align: right;\n",
       "    }\n",
       "</style>\n",
       "<table border=\"1\" class=\"dataframe\">\n",
       "  <thead>\n",
       "    <tr style=\"text-align: right;\">\n",
       "      <th></th>\n",
       "      <th>id</th>\n",
       "      <th>f0</th>\n",
       "      <th>f1</th>\n",
       "      <th>f2</th>\n",
       "      <th>product</th>\n",
       "    </tr>\n",
       "  </thead>\n",
       "  <tbody>\n",
       "    <tr>\n",
       "      <th>0</th>\n",
       "      <td>txEyH</td>\n",
       "      <td>0.705745</td>\n",
       "      <td>-0.497823</td>\n",
       "      <td>1.221170</td>\n",
       "      <td>105.280062</td>\n",
       "    </tr>\n",
       "    <tr>\n",
       "      <th>1</th>\n",
       "      <td>2acmU</td>\n",
       "      <td>1.334711</td>\n",
       "      <td>-0.340164</td>\n",
       "      <td>4.365080</td>\n",
       "      <td>73.037750</td>\n",
       "    </tr>\n",
       "    <tr>\n",
       "      <th>2</th>\n",
       "      <td>409Wp</td>\n",
       "      <td>1.022732</td>\n",
       "      <td>0.151990</td>\n",
       "      <td>1.419926</td>\n",
       "      <td>85.265647</td>\n",
       "    </tr>\n",
       "    <tr>\n",
       "      <th>3</th>\n",
       "      <td>iJLyR</td>\n",
       "      <td>-0.032172</td>\n",
       "      <td>0.139033</td>\n",
       "      <td>2.978566</td>\n",
       "      <td>168.620776</td>\n",
       "    </tr>\n",
       "    <tr>\n",
       "      <th>4</th>\n",
       "      <td>Xdl7t</td>\n",
       "      <td>1.988431</td>\n",
       "      <td>0.155413</td>\n",
       "      <td>4.751769</td>\n",
       "      <td>154.036647</td>\n",
       "    </tr>\n",
       "  </tbody>\n",
       "</table>\n",
       "</div>"
      ],
      "text/plain": [
       "      id        f0        f1        f2     product\n",
       "0  txEyH  0.705745 -0.497823  1.221170  105.280062\n",
       "1  2acmU  1.334711 -0.340164  4.365080   73.037750\n",
       "2  409Wp  1.022732  0.151990  1.419926   85.265647\n",
       "3  iJLyR -0.032172  0.139033  2.978566  168.620776\n",
       "4  Xdl7t  1.988431  0.155413  4.751769  154.036647"
      ]
     },
     "metadata": {},
     "output_type": "display_data"
    },
    {
     "data": {
      "text/html": [
       "<div>\n",
       "<style scoped>\n",
       "    .dataframe tbody tr th:only-of-type {\n",
       "        vertical-align: middle;\n",
       "    }\n",
       "\n",
       "    .dataframe tbody tr th {\n",
       "        vertical-align: top;\n",
       "    }\n",
       "\n",
       "    .dataframe thead th {\n",
       "        text-align: right;\n",
       "    }\n",
       "</style>\n",
       "<table border=\"1\" class=\"dataframe\">\n",
       "  <thead>\n",
       "    <tr style=\"text-align: right;\">\n",
       "      <th></th>\n",
       "      <th>id</th>\n",
       "      <th>f0</th>\n",
       "      <th>f1</th>\n",
       "      <th>f2</th>\n",
       "      <th>product</th>\n",
       "    </tr>\n",
       "  </thead>\n",
       "  <tbody>\n",
       "    <tr>\n",
       "      <th>0</th>\n",
       "      <td>kBEdx</td>\n",
       "      <td>-15.001348</td>\n",
       "      <td>-8.276000</td>\n",
       "      <td>-0.005876</td>\n",
       "      <td>3.179103</td>\n",
       "    </tr>\n",
       "    <tr>\n",
       "      <th>1</th>\n",
       "      <td>62mP7</td>\n",
       "      <td>14.272088</td>\n",
       "      <td>-3.475083</td>\n",
       "      <td>0.999183</td>\n",
       "      <td>26.953261</td>\n",
       "    </tr>\n",
       "    <tr>\n",
       "      <th>2</th>\n",
       "      <td>vyE1P</td>\n",
       "      <td>6.263187</td>\n",
       "      <td>-5.948386</td>\n",
       "      <td>5.001160</td>\n",
       "      <td>134.766305</td>\n",
       "    </tr>\n",
       "    <tr>\n",
       "      <th>3</th>\n",
       "      <td>KcrkZ</td>\n",
       "      <td>-13.081196</td>\n",
       "      <td>-11.506057</td>\n",
       "      <td>4.999415</td>\n",
       "      <td>137.945408</td>\n",
       "    </tr>\n",
       "    <tr>\n",
       "      <th>4</th>\n",
       "      <td>AHL4O</td>\n",
       "      <td>12.702195</td>\n",
       "      <td>-8.147433</td>\n",
       "      <td>5.004363</td>\n",
       "      <td>134.766305</td>\n",
       "    </tr>\n",
       "  </tbody>\n",
       "</table>\n",
       "</div>"
      ],
      "text/plain": [
       "      id         f0         f1        f2     product\n",
       "0  kBEdx -15.001348  -8.276000 -0.005876    3.179103\n",
       "1  62mP7  14.272088  -3.475083  0.999183   26.953261\n",
       "2  vyE1P   6.263187  -5.948386  5.001160  134.766305\n",
       "3  KcrkZ -13.081196 -11.506057  4.999415  137.945408\n",
       "4  AHL4O  12.702195  -8.147433  5.004363  134.766305"
      ]
     },
     "metadata": {},
     "output_type": "display_data"
    },
    {
     "data": {
      "text/html": [
       "<div>\n",
       "<style scoped>\n",
       "    .dataframe tbody tr th:only-of-type {\n",
       "        vertical-align: middle;\n",
       "    }\n",
       "\n",
       "    .dataframe tbody tr th {\n",
       "        vertical-align: top;\n",
       "    }\n",
       "\n",
       "    .dataframe thead th {\n",
       "        text-align: right;\n",
       "    }\n",
       "</style>\n",
       "<table border=\"1\" class=\"dataframe\">\n",
       "  <thead>\n",
       "    <tr style=\"text-align: right;\">\n",
       "      <th></th>\n",
       "      <th>id</th>\n",
       "      <th>f0</th>\n",
       "      <th>f1</th>\n",
       "      <th>f2</th>\n",
       "      <th>product</th>\n",
       "    </tr>\n",
       "  </thead>\n",
       "  <tbody>\n",
       "    <tr>\n",
       "      <th>0</th>\n",
       "      <td>fwXo0</td>\n",
       "      <td>-1.146987</td>\n",
       "      <td>0.963328</td>\n",
       "      <td>-0.828965</td>\n",
       "      <td>27.758673</td>\n",
       "    </tr>\n",
       "    <tr>\n",
       "      <th>1</th>\n",
       "      <td>WJtFt</td>\n",
       "      <td>0.262778</td>\n",
       "      <td>0.269839</td>\n",
       "      <td>-2.530187</td>\n",
       "      <td>56.069697</td>\n",
       "    </tr>\n",
       "    <tr>\n",
       "      <th>2</th>\n",
       "      <td>ovLUW</td>\n",
       "      <td>0.194587</td>\n",
       "      <td>0.289035</td>\n",
       "      <td>-5.586433</td>\n",
       "      <td>62.871910</td>\n",
       "    </tr>\n",
       "    <tr>\n",
       "      <th>3</th>\n",
       "      <td>q6cA6</td>\n",
       "      <td>2.236060</td>\n",
       "      <td>-0.553760</td>\n",
       "      <td>0.930038</td>\n",
       "      <td>114.572842</td>\n",
       "    </tr>\n",
       "    <tr>\n",
       "      <th>4</th>\n",
       "      <td>WPMUX</td>\n",
       "      <td>-0.515993</td>\n",
       "      <td>1.716266</td>\n",
       "      <td>5.899011</td>\n",
       "      <td>149.600746</td>\n",
       "    </tr>\n",
       "  </tbody>\n",
       "</table>\n",
       "</div>"
      ],
      "text/plain": [
       "      id        f0        f1        f2     product\n",
       "0  fwXo0 -1.146987  0.963328 -0.828965   27.758673\n",
       "1  WJtFt  0.262778  0.269839 -2.530187   56.069697\n",
       "2  ovLUW  0.194587  0.289035 -5.586433   62.871910\n",
       "3  q6cA6  2.236060 -0.553760  0.930038  114.572842\n",
       "4  WPMUX -0.515993  1.716266  5.899011  149.600746"
      ]
     },
     "metadata": {},
     "output_type": "display_data"
    }
   ],
   "source": [
    "df_0 = pd.read_csv('C:/Users/Денис/Desktop/Проекты/neftedobicha/geo_data_0.csv')\n",
    "df_1 = pd.read_csv('C:/Users/Денис/Desktop/Проекты/neftedobicha/geo_data_1.csv')\n",
    "df_2 = pd.read_csv('C:/Users/Денис/Desktop/Проекты/neftedobicha/geo_data_2.csv')\n",
    "\n",
    "df_0.info()\n",
    "df_1.info()\n",
    "df_2.info()\n",
    "\n",
    "display(df_0.head())\n",
    "display(df_1.head())\n",
    "display(df_2.head())"
   ]
  },
  {
   "cell_type": "code",
   "execution_count": 3,
   "metadata": {},
   "outputs": [
    {
     "data": {
      "text/html": [
       "<div>\n",
       "<style scoped>\n",
       "    .dataframe tbody tr th:only-of-type {\n",
       "        vertical-align: middle;\n",
       "    }\n",
       "\n",
       "    .dataframe tbody tr th {\n",
       "        vertical-align: top;\n",
       "    }\n",
       "\n",
       "    .dataframe thead th {\n",
       "        text-align: right;\n",
       "    }\n",
       "</style>\n",
       "<table border=\"1\" class=\"dataframe\">\n",
       "  <thead>\n",
       "    <tr style=\"text-align: right;\">\n",
       "      <th></th>\n",
       "      <th>f0</th>\n",
       "      <th>f1</th>\n",
       "      <th>f2</th>\n",
       "      <th>product</th>\n",
       "    </tr>\n",
       "  </thead>\n",
       "  <tbody>\n",
       "    <tr>\n",
       "      <th>0</th>\n",
       "      <td>0.705745</td>\n",
       "      <td>-0.497823</td>\n",
       "      <td>1.221170</td>\n",
       "      <td>105.280062</td>\n",
       "    </tr>\n",
       "    <tr>\n",
       "      <th>1</th>\n",
       "      <td>1.334711</td>\n",
       "      <td>-0.340164</td>\n",
       "      <td>4.365080</td>\n",
       "      <td>73.037750</td>\n",
       "    </tr>\n",
       "    <tr>\n",
       "      <th>2</th>\n",
       "      <td>1.022732</td>\n",
       "      <td>0.151990</td>\n",
       "      <td>1.419926</td>\n",
       "      <td>85.265647</td>\n",
       "    </tr>\n",
       "    <tr>\n",
       "      <th>3</th>\n",
       "      <td>-0.032172</td>\n",
       "      <td>0.139033</td>\n",
       "      <td>2.978566</td>\n",
       "      <td>168.620776</td>\n",
       "    </tr>\n",
       "    <tr>\n",
       "      <th>4</th>\n",
       "      <td>1.988431</td>\n",
       "      <td>0.155413</td>\n",
       "      <td>4.751769</td>\n",
       "      <td>154.036647</td>\n",
       "    </tr>\n",
       "  </tbody>\n",
       "</table>\n",
       "</div>"
      ],
      "text/plain": [
       "         f0        f1        f2     product\n",
       "0  0.705745 -0.497823  1.221170  105.280062\n",
       "1  1.334711 -0.340164  4.365080   73.037750\n",
       "2  1.022732  0.151990  1.419926   85.265647\n",
       "3 -0.032172  0.139033  2.978566  168.620776\n",
       "4  1.988431  0.155413  4.751769  154.036647"
      ]
     },
     "metadata": {},
     "output_type": "display_data"
    },
    {
     "data": {
      "text/html": [
       "<div>\n",
       "<style scoped>\n",
       "    .dataframe tbody tr th:only-of-type {\n",
       "        vertical-align: middle;\n",
       "    }\n",
       "\n",
       "    .dataframe tbody tr th {\n",
       "        vertical-align: top;\n",
       "    }\n",
       "\n",
       "    .dataframe thead th {\n",
       "        text-align: right;\n",
       "    }\n",
       "</style>\n",
       "<table border=\"1\" class=\"dataframe\">\n",
       "  <thead>\n",
       "    <tr style=\"text-align: right;\">\n",
       "      <th></th>\n",
       "      <th>f0</th>\n",
       "      <th>f1</th>\n",
       "      <th>f2</th>\n",
       "      <th>product</th>\n",
       "    </tr>\n",
       "  </thead>\n",
       "  <tbody>\n",
       "    <tr>\n",
       "      <th>0</th>\n",
       "      <td>-15.001348</td>\n",
       "      <td>-8.276000</td>\n",
       "      <td>-0.005876</td>\n",
       "      <td>3.179103</td>\n",
       "    </tr>\n",
       "    <tr>\n",
       "      <th>1</th>\n",
       "      <td>14.272088</td>\n",
       "      <td>-3.475083</td>\n",
       "      <td>0.999183</td>\n",
       "      <td>26.953261</td>\n",
       "    </tr>\n",
       "    <tr>\n",
       "      <th>2</th>\n",
       "      <td>6.263187</td>\n",
       "      <td>-5.948386</td>\n",
       "      <td>5.001160</td>\n",
       "      <td>134.766305</td>\n",
       "    </tr>\n",
       "    <tr>\n",
       "      <th>3</th>\n",
       "      <td>-13.081196</td>\n",
       "      <td>-11.506057</td>\n",
       "      <td>4.999415</td>\n",
       "      <td>137.945408</td>\n",
       "    </tr>\n",
       "    <tr>\n",
       "      <th>4</th>\n",
       "      <td>12.702195</td>\n",
       "      <td>-8.147433</td>\n",
       "      <td>5.004363</td>\n",
       "      <td>134.766305</td>\n",
       "    </tr>\n",
       "  </tbody>\n",
       "</table>\n",
       "</div>"
      ],
      "text/plain": [
       "          f0         f1        f2     product\n",
       "0 -15.001348  -8.276000 -0.005876    3.179103\n",
       "1  14.272088  -3.475083  0.999183   26.953261\n",
       "2   6.263187  -5.948386  5.001160  134.766305\n",
       "3 -13.081196 -11.506057  4.999415  137.945408\n",
       "4  12.702195  -8.147433  5.004363  134.766305"
      ]
     },
     "metadata": {},
     "output_type": "display_data"
    },
    {
     "data": {
      "text/html": [
       "<div>\n",
       "<style scoped>\n",
       "    .dataframe tbody tr th:only-of-type {\n",
       "        vertical-align: middle;\n",
       "    }\n",
       "\n",
       "    .dataframe tbody tr th {\n",
       "        vertical-align: top;\n",
       "    }\n",
       "\n",
       "    .dataframe thead th {\n",
       "        text-align: right;\n",
       "    }\n",
       "</style>\n",
       "<table border=\"1\" class=\"dataframe\">\n",
       "  <thead>\n",
       "    <tr style=\"text-align: right;\">\n",
       "      <th></th>\n",
       "      <th>f0</th>\n",
       "      <th>f1</th>\n",
       "      <th>f2</th>\n",
       "      <th>product</th>\n",
       "    </tr>\n",
       "  </thead>\n",
       "  <tbody>\n",
       "    <tr>\n",
       "      <th>0</th>\n",
       "      <td>-1.146987</td>\n",
       "      <td>0.963328</td>\n",
       "      <td>-0.828965</td>\n",
       "      <td>27.758673</td>\n",
       "    </tr>\n",
       "    <tr>\n",
       "      <th>1</th>\n",
       "      <td>0.262778</td>\n",
       "      <td>0.269839</td>\n",
       "      <td>-2.530187</td>\n",
       "      <td>56.069697</td>\n",
       "    </tr>\n",
       "    <tr>\n",
       "      <th>2</th>\n",
       "      <td>0.194587</td>\n",
       "      <td>0.289035</td>\n",
       "      <td>-5.586433</td>\n",
       "      <td>62.871910</td>\n",
       "    </tr>\n",
       "    <tr>\n",
       "      <th>3</th>\n",
       "      <td>2.236060</td>\n",
       "      <td>-0.553760</td>\n",
       "      <td>0.930038</td>\n",
       "      <td>114.572842</td>\n",
       "    </tr>\n",
       "    <tr>\n",
       "      <th>4</th>\n",
       "      <td>-0.515993</td>\n",
       "      <td>1.716266</td>\n",
       "      <td>5.899011</td>\n",
       "      <td>149.600746</td>\n",
       "    </tr>\n",
       "  </tbody>\n",
       "</table>\n",
       "</div>"
      ],
      "text/plain": [
       "         f0        f1        f2     product\n",
       "0 -1.146987  0.963328 -0.828965   27.758673\n",
       "1  0.262778  0.269839 -2.530187   56.069697\n",
       "2  0.194587  0.289035 -5.586433   62.871910\n",
       "3  2.236060 -0.553760  0.930038  114.572842\n",
       "4 -0.515993  1.716266  5.899011  149.600746"
      ]
     },
     "metadata": {},
     "output_type": "display_data"
    }
   ],
   "source": [
    "df_0 = df_0.drop(['id'], axis=1)\n",
    "df_1 = df_1.drop(['id'], axis=1)\n",
    "df_2 = df_2.drop(['id'], axis=1)\n",
    "\n",
    "display(df_0.head())\n",
    "display(df_1.head())\n",
    "display(df_2.head())"
   ]
  },
  {
   "cell_type": "code",
   "execution_count": 4,
   "metadata": {},
   "outputs": [],
   "source": [
    "state = np.random.RandomState(12345)\n",
    "pd.options.mode.chained_assignment = None"
   ]
  },
  {
   "cell_type": "markdown",
   "metadata": {},
   "source": [
    "Загрузили данные, посмотрели на величины в таблицах, в принципе пропусков в значениях нет, что за признаки нам тоже не известно, столбец с id удалил в связи с тем, что в нем только буквенные значения, т.е. индификатор скважины, а значит в дальнейшем он нам ничем не поможет, в том числе и при обучении модели. (P.S. видел что в таблицах присутствуют несколько строк с одинаковым id, но разными остальными значениями, предположу, что это вероятнее всего одно добывающее предприятия на территории которого, либо рядом, расположены две различные скважины, т.к. это все таки различные скважины не стоит суммировать их значения( к тому же мы не знаем, что обозначают признаки), потому просто оставим строки как есть)"
   ]
  },
  {
   "cell_type": "markdown",
   "metadata": {},
   "source": [
    "## Обучение и проверка модели"
   ]
  },
  {
   "cell_type": "code",
   "execution_count": 8,
   "metadata": {},
   "outputs": [],
   "source": [
    "# создание функции\n",
    "\n",
    "def preditor(df):\n",
    "    \n",
    "    df_train, df_valid = train_test_split(df, test_size=0.25, random_state=state)\n",
    "    \n",
    "    features_train = df_train.drop(['product'], axis=1)\n",
    "    target_train = df_train['product']\n",
    "    features_valid = df_valid.drop(['product'], axis=1)\n",
    "    target_valid = df_valid['product']\n",
    "    \n",
    "    numeric=['f0', 'f1', 'f2']\n",
    "    scaler = StandardScaler()\n",
    "    scaler.fit(features_train[numeric]) \n",
    "    features_train[numeric] = scaler.transform(features_train[numeric])\n",
    "    features_valid[numeric] = scaler.transform(features_valid[numeric])\n",
    "\n",
    "    model = LinearRegression()\n",
    "    model.fit(features_train, target_train)\n",
    "    predictions = model.predict(features_valid)\n",
    "    \n",
    "    print('Средний запас сырья реальный:', target_valid.mean())\n",
    "    print('Средний запас сырья предсказанный:', predictions.mean())\n",
    "    print('RMSE:', (mean_squared_error(target_valid, predictions) ** 0.5))\n",
    "\n",
    "    df_valid['predict'] = predictions\n",
    "    df_valid_pred = df_valid.reset_index(drop=True)\n",
    "    \n",
    "    return df_valid_pred"
   ]
  },
  {
   "cell_type": "code",
   "execution_count": 9,
   "metadata": {},
   "outputs": [
    {
     "name": "stdout",
     "output_type": "stream",
     "text": [
      "Средний запас сырья реальный: 92.00127344402844\n",
      "Средний запас сырья предсказанный: 92.40129321593406\n",
      "RMSE: 37.91718878682678\n"
     ]
    },
    {
     "data": {
      "text/html": [
       "<div>\n",
       "<style scoped>\n",
       "    .dataframe tbody tr th:only-of-type {\n",
       "        vertical-align: middle;\n",
       "    }\n",
       "\n",
       "    .dataframe tbody tr th {\n",
       "        vertical-align: top;\n",
       "    }\n",
       "\n",
       "    .dataframe thead th {\n",
       "        text-align: right;\n",
       "    }\n",
       "</style>\n",
       "<table border=\"1\" class=\"dataframe\">\n",
       "  <thead>\n",
       "    <tr style=\"text-align: right;\">\n",
       "      <th></th>\n",
       "      <th>f0</th>\n",
       "      <th>f1</th>\n",
       "      <th>f2</th>\n",
       "      <th>product</th>\n",
       "      <th>predict</th>\n",
       "    </tr>\n",
       "  </thead>\n",
       "  <tbody>\n",
       "    <tr>\n",
       "      <th>0</th>\n",
       "      <td>-0.115431</td>\n",
       "      <td>0.971400</td>\n",
       "      <td>0.951573</td>\n",
       "      <td>58.498891</td>\n",
       "      <td>69.767622</td>\n",
       "    </tr>\n",
       "    <tr>\n",
       "      <th>1</th>\n",
       "      <td>0.472449</td>\n",
       "      <td>-0.207866</td>\n",
       "      <td>-1.015091</td>\n",
       "      <td>36.790923</td>\n",
       "      <td>75.592468</td>\n",
       "    </tr>\n",
       "    <tr>\n",
       "      <th>2</th>\n",
       "      <td>1.768375</td>\n",
       "      <td>-0.017880</td>\n",
       "      <td>3.675964</td>\n",
       "      <td>115.607489</td>\n",
       "      <td>108.927138</td>\n",
       "    </tr>\n",
       "    <tr>\n",
       "      <th>3</th>\n",
       "      <td>0.927104</td>\n",
       "      <td>0.257296</td>\n",
       "      <td>4.011032</td>\n",
       "      <td>87.088342</td>\n",
       "      <td>104.120214</td>\n",
       "    </tr>\n",
       "    <tr>\n",
       "      <th>4</th>\n",
       "      <td>0.265393</td>\n",
       "      <td>-0.163707</td>\n",
       "      <td>2.978482</td>\n",
       "      <td>33.397142</td>\n",
       "      <td>100.753785</td>\n",
       "    </tr>\n",
       "  </tbody>\n",
       "</table>\n",
       "</div>"
      ],
      "text/plain": [
       "         f0        f1        f2     product     predict\n",
       "0 -0.115431  0.971400  0.951573   58.498891   69.767622\n",
       "1  0.472449 -0.207866 -1.015091   36.790923   75.592468\n",
       "2  1.768375 -0.017880  3.675964  115.607489  108.927138\n",
       "3  0.927104  0.257296  4.011032   87.088342  104.120214\n",
       "4  0.265393 -0.163707  2.978482   33.397142  100.753785"
      ]
     },
     "execution_count": 9,
     "metadata": {},
     "output_type": "execute_result"
    }
   ],
   "source": [
    "#для нулевого региона\n",
    "df_valid_pred_0 = preditor(df_0)\n",
    "df_valid_pred_0.head()"
   ]
  },
  {
   "cell_type": "code",
   "execution_count": 10,
   "metadata": {},
   "outputs": [
    {
     "name": "stdout",
     "output_type": "stream",
     "text": [
      "Средний запас сырья реальный: 69.23037704592916\n",
      "Средний запас сырья предсказанный: 69.24215404831706\n",
      "RMSE: 0.8936594805071\n"
     ]
    },
    {
     "data": {
      "text/html": [
       "<div>\n",
       "<style scoped>\n",
       "    .dataframe tbody tr th:only-of-type {\n",
       "        vertical-align: middle;\n",
       "    }\n",
       "\n",
       "    .dataframe tbody tr th {\n",
       "        vertical-align: top;\n",
       "    }\n",
       "\n",
       "    .dataframe thead th {\n",
       "        text-align: right;\n",
       "    }\n",
       "</style>\n",
       "<table border=\"1\" class=\"dataframe\">\n",
       "  <thead>\n",
       "    <tr style=\"text-align: right;\">\n",
       "      <th></th>\n",
       "      <th>f0</th>\n",
       "      <th>f1</th>\n",
       "      <th>f2</th>\n",
       "      <th>product</th>\n",
       "      <th>predict</th>\n",
       "    </tr>\n",
       "  </thead>\n",
       "  <tbody>\n",
       "    <tr>\n",
       "      <th>0</th>\n",
       "      <td>10.590292</td>\n",
       "      <td>-4.430363</td>\n",
       "      <td>0.994404</td>\n",
       "      <td>26.953261</td>\n",
       "      <td>27.022081</td>\n",
       "    </tr>\n",
       "    <tr>\n",
       "      <th>1</th>\n",
       "      <td>16.037336</td>\n",
       "      <td>-10.861428</td>\n",
       "      <td>-0.002844</td>\n",
       "      <td>0.000000</td>\n",
       "      <td>-0.502899</td>\n",
       "    </tr>\n",
       "    <tr>\n",
       "      <th>2</th>\n",
       "      <td>14.110586</td>\n",
       "      <td>-1.563653</td>\n",
       "      <td>4.993929</td>\n",
       "      <td>134.766305</td>\n",
       "      <td>134.240537</td>\n",
       "    </tr>\n",
       "    <tr>\n",
       "      <th>3</th>\n",
       "      <td>-6.776864</td>\n",
       "      <td>-8.852209</td>\n",
       "      <td>0.002228</td>\n",
       "      <td>3.179103</td>\n",
       "      <td>2.892721</td>\n",
       "    </tr>\n",
       "    <tr>\n",
       "      <th>4</th>\n",
       "      <td>-11.096395</td>\n",
       "      <td>-3.620638</td>\n",
       "      <td>0.992688</td>\n",
       "      <td>30.132364</td>\n",
       "      <td>30.097661</td>\n",
       "    </tr>\n",
       "  </tbody>\n",
       "</table>\n",
       "</div>"
      ],
      "text/plain": [
       "          f0         f1        f2     product     predict\n",
       "0  10.590292  -4.430363  0.994404   26.953261   27.022081\n",
       "1  16.037336 -10.861428 -0.002844    0.000000   -0.502899\n",
       "2  14.110586  -1.563653  4.993929  134.766305  134.240537\n",
       "3  -6.776864  -8.852209  0.002228    3.179103    2.892721\n",
       "4 -11.096395  -3.620638  0.992688   30.132364   30.097661"
      ]
     },
     "execution_count": 10,
     "metadata": {},
     "output_type": "execute_result"
    }
   ],
   "source": [
    "#для первого\n",
    "df_valid_pred_1 = preditor(df_1)\n",
    "df_valid_pred_1.head()"
   ]
  },
  {
   "cell_type": "code",
   "execution_count": 11,
   "metadata": {},
   "outputs": [
    {
     "name": "stdout",
     "output_type": "stream",
     "text": [
      "Средний запас сырья реальный: 95.03996726290791\n",
      "Средний запас сырья предсказанный: 94.79275536960412\n",
      "RMSE: 40.206897848340155\n"
     ]
    },
    {
     "data": {
      "text/html": [
       "<div>\n",
       "<style scoped>\n",
       "    .dataframe tbody tr th:only-of-type {\n",
       "        vertical-align: middle;\n",
       "    }\n",
       "\n",
       "    .dataframe tbody tr th {\n",
       "        vertical-align: top;\n",
       "    }\n",
       "\n",
       "    .dataframe thead th {\n",
       "        text-align: right;\n",
       "    }\n",
       "</style>\n",
       "<table border=\"1\" class=\"dataframe\">\n",
       "  <thead>\n",
       "    <tr style=\"text-align: right;\">\n",
       "      <th></th>\n",
       "      <th>f0</th>\n",
       "      <th>f1</th>\n",
       "      <th>f2</th>\n",
       "      <th>product</th>\n",
       "      <th>predict</th>\n",
       "    </tr>\n",
       "  </thead>\n",
       "  <tbody>\n",
       "    <tr>\n",
       "      <th>0</th>\n",
       "      <td>2.116811</td>\n",
       "      <td>2.464209</td>\n",
       "      <td>2.543555</td>\n",
       "      <td>136.847051</td>\n",
       "      <td>95.098687</td>\n",
       "    </tr>\n",
       "    <tr>\n",
       "      <th>1</th>\n",
       "      <td>-1.277833</td>\n",
       "      <td>0.019428</td>\n",
       "      <td>5.025745</td>\n",
       "      <td>124.297699</td>\n",
       "      <td>109.610468</td>\n",
       "    </tr>\n",
       "    <tr>\n",
       "      <th>2</th>\n",
       "      <td>-2.743839</td>\n",
       "      <td>-3.458149</td>\n",
       "      <td>2.605033</td>\n",
       "      <td>90.306873</td>\n",
       "      <td>95.728762</td>\n",
       "    </tr>\n",
       "    <tr>\n",
       "      <th>3</th>\n",
       "      <td>-0.493303</td>\n",
       "      <td>0.113255</td>\n",
       "      <td>-4.558502</td>\n",
       "      <td>54.934203</td>\n",
       "      <td>54.242082</td>\n",
       "    </tr>\n",
       "    <tr>\n",
       "      <th>4</th>\n",
       "      <td>-0.467235</td>\n",
       "      <td>0.497568</td>\n",
       "      <td>-4.283809</td>\n",
       "      <td>112.636028</td>\n",
       "      <td>55.824327</td>\n",
       "    </tr>\n",
       "  </tbody>\n",
       "</table>\n",
       "</div>"
      ],
      "text/plain": [
       "         f0        f1        f2     product     predict\n",
       "0  2.116811  2.464209  2.543555  136.847051   95.098687\n",
       "1 -1.277833  0.019428  5.025745  124.297699  109.610468\n",
       "2 -2.743839 -3.458149  2.605033   90.306873   95.728762\n",
       "3 -0.493303  0.113255 -4.558502   54.934203   54.242082\n",
       "4 -0.467235  0.497568 -4.283809  112.636028   55.824327"
      ]
     },
     "execution_count": 11,
     "metadata": {},
     "output_type": "execute_result"
    }
   ],
   "source": [
    "#и второго\n",
    "df_valid_pred_2 = preditor(df_2)\n",
    "df_valid_pred_2.head()"
   ]
  },
  {
   "cell_type": "markdown",
   "metadata": {},
   "source": [
    "Мы получили довольно интересные результаты:\n",
    "  1. Во-первых, стоит отметить средние предсказанные значения для нулевого и второго регионов, которые значительно выше, чем у первого и прктически совпадают между собой.\n",
    "  2. Во-вторых, несмотря на то, что у первого региона средний запас предсказанного сырья практически на четверть меньше, этот регион более стабильный, практически все скважены будет давать нам одно и то же количество сырья, в отличие от других, в которых будут уже риски."
   ]
  },
  {
   "cell_type": "markdown",
   "metadata": {},
   "source": [
    "## Подготовка к расчёту прибыли"
   ]
  },
  {
   "cell_type": "markdown",
   "metadata": {},
   "source": [
    "По условию:\n",
    "\n",
    " - бюджет разработки скважин = 10 000 000 000\n",
    " - прибыль с 1 ед. продукта = 450 000\n",
    " - количество иследуемых точек = 500\n",
    " - в разроботку попадают 200 лучших\n",
    " \n",
    "Тогда для того, чтобы окупить бюджет мы должны с 200 лучших точек получить 22223 единицы продукта.\n",
    "\n",
    "\n",
    "Проверим по нашим регионам. Для этого отберем 200 лучших точек по предсказаниям модели, а затем сложим фактические результаты и сравним с количеством продукта, требуемым для окупа бюджета."
   ]
  },
  {
   "cell_type": "code",
   "execution_count": 14,
   "metadata": {},
   "outputs": [
    {
     "data": {
      "text/html": [
       "<div>\n",
       "<style scoped>\n",
       "    .dataframe tbody tr th:only-of-type {\n",
       "        vertical-align: middle;\n",
       "    }\n",
       "\n",
       "    .dataframe tbody tr th {\n",
       "        vertical-align: top;\n",
       "    }\n",
       "\n",
       "    .dataframe thead th {\n",
       "        text-align: right;\n",
       "    }\n",
       "</style>\n",
       "<table border=\"1\" class=\"dataframe\">\n",
       "  <thead>\n",
       "    <tr style=\"text-align: right;\">\n",
       "      <th></th>\n",
       "      <th>f0</th>\n",
       "      <th>f1</th>\n",
       "      <th>f2</th>\n",
       "      <th>product</th>\n",
       "      <th>predict</th>\n",
       "    </tr>\n",
       "  </thead>\n",
       "  <tbody>\n",
       "    <tr>\n",
       "      <th>17719</th>\n",
       "      <td>1.888221</td>\n",
       "      <td>0.067384</td>\n",
       "      <td>15.428372</td>\n",
       "      <td>144.009283</td>\n",
       "      <td>186.323583</td>\n",
       "    </tr>\n",
       "    <tr>\n",
       "      <th>6940</th>\n",
       "      <td>1.853784</td>\n",
       "      <td>-0.153503</td>\n",
       "      <td>13.585450</td>\n",
       "      <td>153.639837</td>\n",
       "      <td>177.069557</td>\n",
       "    </tr>\n",
       "    <tr>\n",
       "      <th>5244</th>\n",
       "      <td>1.412823</td>\n",
       "      <td>-0.612153</td>\n",
       "      <td>12.784117</td>\n",
       "      <td>162.153488</td>\n",
       "      <td>176.597070</td>\n",
       "    </tr>\n",
       "    <tr>\n",
       "      <th>458</th>\n",
       "      <td>1.958217</td>\n",
       "      <td>0.239926</td>\n",
       "      <td>14.279737</td>\n",
       "      <td>96.893581</td>\n",
       "      <td>176.500252</td>\n",
       "    </tr>\n",
       "    <tr>\n",
       "      <th>6052</th>\n",
       "      <td>1.549533</td>\n",
       "      <td>-0.202918</td>\n",
       "      <td>13.518043</td>\n",
       "      <td>116.045820</td>\n",
       "      <td>176.187668</td>\n",
       "    </tr>\n",
       "  </tbody>\n",
       "</table>\n",
       "</div>"
      ],
      "text/plain": [
       "             f0        f1         f2     product     predict\n",
       "17719  1.888221  0.067384  15.428372  144.009283  186.323583\n",
       "6940   1.853784 -0.153503  13.585450  153.639837  177.069557\n",
       "5244   1.412823 -0.612153  12.784117  162.153488  176.597070\n",
       "458    1.958217  0.239926  14.279737   96.893581  176.500252\n",
       "6052   1.549533 -0.202918  13.518043  116.045820  176.187668"
      ]
     },
     "execution_count": 14,
     "metadata": {},
     "output_type": "execute_result"
    }
   ],
   "source": [
    "reg_0 = df_valid_pred_0.sort_values(by='predict',ascending=False).head(200)\n",
    "reg_0[:5]"
   ]
  },
  {
   "cell_type": "code",
   "execution_count": 15,
   "metadata": {},
   "outputs": [
    {
     "data": {
      "text/plain": [
       "29481.53070322214"
      ]
     },
     "execution_count": 15,
     "metadata": {},
     "output_type": "execute_result"
    }
   ],
   "source": [
    "reg_0['product'].sum()"
   ]
  },
  {
   "cell_type": "code",
   "execution_count": 16,
   "metadata": {},
   "outputs": [],
   "source": [
    "def scaler(df):\n",
    "    reg = df.sort_values(by='predict',ascending=False).head(200)\n",
    "    result = reg['product'].sum()\n",
    "    return result"
   ]
  },
  {
   "cell_type": "code",
   "execution_count": 17,
   "metadata": {},
   "outputs": [
    {
     "data": {
      "text/plain": [
       "29481.53070322214"
      ]
     },
     "execution_count": 17,
     "metadata": {},
     "output_type": "execute_result"
    }
   ],
   "source": [
    "scaler(df_valid_pred_0)"
   ]
  },
  {
   "cell_type": "code",
   "execution_count": 18,
   "metadata": {},
   "outputs": [
    {
     "data": {
      "text/plain": [
       "27589.081548181137"
      ]
     },
     "execution_count": 18,
     "metadata": {},
     "output_type": "execute_result"
    }
   ],
   "source": [
    "scaler(df_valid_pred_1)"
   ]
  },
  {
   "cell_type": "code",
   "execution_count": 19,
   "metadata": {},
   "outputs": [
    {
     "data": {
      "text/plain": [
       "27400.804009555275"
      ]
     },
     "execution_count": 19,
     "metadata": {},
     "output_type": "execute_result"
    }
   ],
   "source": [
    "scaler(df_valid_pred_2)"
   ]
  },
  {
   "cell_type": "markdown",
   "metadata": {},
   "source": [
    "Все три региона дают явно больше прибыли со своих лучших месторождений"
   ]
  },
  {
   "cell_type": "markdown",
   "metadata": {},
   "source": [
    "## Расчёт прибыли и рисков "
   ]
  },
  {
   "cell_type": "markdown",
   "metadata": {},
   "source": [
    "Воспользуемся техникой бутстреп."
   ]
  },
  {
   "cell_type": "code",
   "execution_count": 22,
   "metadata": {
    "scrolled": true
   },
   "outputs": [
    {
     "name": "stdout",
     "output_type": "stream",
     "text": [
      "Средняя прибыль: 346659076.67169875\n",
      "2.5%-квантиль: -180028724.7309289\n",
      "97.5%-квантиль: 893435930.5634305\n",
      "(25000,)\n"
     ]
    }
   ],
   "source": [
    "target = df_valid_pred_0['product']\n",
    "probabilities = df_valid_pred_0['predict']\n",
    "\n",
    "def revenue(target, probabilities, count):\n",
    "    probs_sorted = probabilities.sort_values(ascending=False)\n",
    "    selected = target[probs_sorted.index][:count]\n",
    "    return 450000 * selected.sum() - 10000000000\n",
    "\n",
    "values = []\n",
    "for i in range(1000):\n",
    "    target_subsample = target.sample(n=500, replace=True, random_state=state)\n",
    "    probs_subsample = probabilities[target_subsample.index]\n",
    " \n",
    "    values.append(revenue(target_subsample, probs_subsample, 200))\n",
    "\n",
    "values = pd.Series(values)\n",
    "lower = values.quantile(0.025)\n",
    "upper = values.quantile(0.975)\n",
    "\n",
    "mean = values.mean()\n",
    "print(\"Средняя прибыль:\", mean)\n",
    "print(\"2.5%-квантиль:\", lower)\n",
    "print(\"97.5%-квантиль:\", upper)\n",
    "print(target.shape)"
   ]
  },
  {
   "cell_type": "code",
   "execution_count": 23,
   "metadata": {},
   "outputs": [
    {
     "data": {
      "text/plain": [
       "9.0"
      ]
     },
     "execution_count": 23,
     "metadata": {},
     "output_type": "execute_result"
    }
   ],
   "source": [
    "# риск рассчитаем как среднее по отрицательным значениям валуе, и умножим на 100, чтобы увидеть данную величину в процентах.\n",
    "(values < 0).mean()*100\n"
   ]
  },
  {
   "cell_type": "markdown",
   "metadata": {},
   "source": [
    "Средняя выручка для нулевого региона 425 063 856. Однако судя по полученным результатам 2,5%-квантиля, шанс того, что мы не только не получим прибыль, но еще и уйдем в минус будет составлять явно больше, чем 2,5%"
   ]
  },
  {
   "cell_type": "markdown",
   "metadata": {},
   "source": [
    "По аналогии рассчитаем прибыль для первого региона."
   ]
  },
  {
   "cell_type": "code",
   "execution_count": 24,
   "metadata": {},
   "outputs": [
    {
     "name": "stdout",
     "output_type": "stream",
     "text": [
      "Средняя прибыль: 549734661.8655714\n",
      "2.5%-квантиль: 145955923.5971037\n",
      "97.5%-квантиль: 998487051.6927644\n"
     ]
    }
   ],
   "source": [
    "target = df_valid_pred_1['product']\n",
    "probabilities = df_valid_pred_1['predict']\n",
    "\n",
    "def revenue(target, probabilities, count):\n",
    "    probs_sorted = probabilities.sort_values(ascending=False)\n",
    "    selected = target[probs_sorted.index][:count]\n",
    "    return 450000 * selected.sum() - 10000000000\n",
    "\n",
    "values = []\n",
    "for i in range(1000):\n",
    "    target_subsample = target.sample(n=500, replace=True, random_state=state)\n",
    "    probs_subsample = probabilities[target_subsample.index]\n",
    " \n",
    "    values.append(revenue(target_subsample, probs_subsample, 200))\n",
    "\n",
    "values = pd.Series(values)\n",
    "lower = values.quantile(0.025)\n",
    "upper = values.quantile(0.975)\n",
    "\n",
    "mean = values.mean()\n",
    "print(\"Средняя прибыль:\", mean)\n",
    "print(\"2.5%-квантиль:\", lower)\n",
    "print(\"97.5%-квантиль:\", upper)"
   ]
  },
  {
   "cell_type": "markdown",
   "metadata": {},
   "source": [
    "Средняя выручка для первого региона 501 691 386. Причем риск того, что мы неокупим бюджет, для данного региона, судя по доверительному интервалу будет составлять менее 2,5%."
   ]
  },
  {
   "cell_type": "code",
   "execution_count": 25,
   "metadata": {},
   "outputs": [
    {
     "data": {
      "text/plain": [
       "0.3"
      ]
     },
     "execution_count": 25,
     "metadata": {},
     "output_type": "execute_result"
    }
   ],
   "source": [
    "# аналогично для первого региона\n",
    "(values < 0).mean()*100"
   ]
  },
  {
   "cell_type": "markdown",
   "metadata": {},
   "source": [
    "И для второго:"
   ]
  },
  {
   "cell_type": "code",
   "execution_count": 26,
   "metadata": {},
   "outputs": [
    {
     "name": "stdout",
     "output_type": "stream",
     "text": [
      "Средняя прибыль: 388140689.1655275\n",
      "2.5%-квантиль: -143870117.94809535\n",
      "97.5%-квантиль: 921161435.2642229\n"
     ]
    }
   ],
   "source": [
    "target = df_valid_pred_2['product']\n",
    "probabilities = df_valid_pred_2['predict']\n",
    "\n",
    "def revenue(target, probabilities, count):\n",
    "    probs_sorted = probabilities.sort_values(ascending=False)\n",
    "    selected = target[probs_sorted.index][:count]\n",
    "    return 450000 * selected.sum() - 10000000000\n",
    "\n",
    "values = []\n",
    "for i in range(1000):\n",
    "    target_subsample = target.sample(n=500, replace=True, random_state=state)\n",
    "    probs_subsample = probabilities[target_subsample.index]\n",
    " \n",
    "    values.append(revenue(target_subsample, probs_subsample, 200))\n",
    "\n",
    "values = pd.Series(values)\n",
    "lower = values.quantile(0.025)\n",
    "upper = values.quantile(0.975)\n",
    "\n",
    "mean = values.mean()\n",
    "print(\"Средняя прибыль:\", mean)\n",
    "print(\"2.5%-квантиль:\", lower)\n",
    "print(\"97.5%-квантиль:\", upper)"
   ]
  },
  {
   "cell_type": "markdown",
   "metadata": {},
   "source": [
    "Средняя выручка для первого региона 363 190 605, тогда с учетом бюджета на разработку, средняя прибыль с региона будет сотавлять 367 048 310. Однако и в этом регионе шанс не окупить бюджет составляет более 2,5%."
   ]
  },
  {
   "cell_type": "code",
   "execution_count": 27,
   "metadata": {},
   "outputs": [
    {
     "data": {
      "text/plain": [
       "8.9"
      ]
     },
     "execution_count": 27,
     "metadata": {},
     "output_type": "execute_result"
    }
   ],
   "source": [
    "# и для второго\n",
    "(values < 0).mean()*100"
   ]
  },
  {
   "cell_type": "markdown",
   "metadata": {},
   "source": [
    "## Вывод"
   ]
  },
  {
   "cell_type": "markdown",
   "metadata": {},
   "source": [
    "В ходе работы были заргужены и подготоленные данные по трем регионам, в которых ведеться добыча нефти. Для каждого региона была обучена и проверена модель, предсказывающая количество единиц продуктва в скважинах. Но основе данной содели было проведено исследование для определения региона, гдедобыча принесет больше прибыли. Техникой бутсртеп проанализированна и полученна возможная прибыль, а также возможные риски. В качестве итогов, для разработки региона с целью получения прибыли стоит порекомендовать первый регион, который с рисками менее 2,5% принесет в среднем прибыль равную 515 704 525."
   ]
  }
 ],
 "metadata": {
  "ExecuteTimeLog": [
   {
    "duration": 444,
    "start_time": "2022-06-02T11:07:05.498Z"
   },
   {
    "duration": 366,
    "start_time": "2022-06-02T11:07:53.438Z"
   },
   {
    "duration": 153,
    "start_time": "2022-06-02T11:08:01.720Z"
   },
   {
    "duration": 550,
    "start_time": "2022-06-02T11:10:26.368Z"
   },
   {
    "duration": 499,
    "start_time": "2022-06-02T11:11:04.193Z"
   },
   {
    "duration": 480,
    "start_time": "2022-06-02T11:11:47.385Z"
   },
   {
    "duration": 732,
    "start_time": "2022-06-02T11:20:38.979Z"
   },
   {
    "duration": 448,
    "start_time": "2022-06-02T11:24:53.275Z"
   },
   {
    "duration": 27,
    "start_time": "2022-06-02T11:26:30.377Z"
   },
   {
    "duration": 19,
    "start_time": "2022-06-02T11:26:49.007Z"
   },
   {
    "duration": 11,
    "start_time": "2022-06-02T11:29:00.264Z"
   },
   {
    "duration": 3,
    "start_time": "2022-06-02T11:35:41.079Z"
   },
   {
    "duration": 98,
    "start_time": "2022-06-02T11:36:44.275Z"
   },
   {
    "duration": 41,
    "start_time": "2022-06-02T11:37:02.300Z"
   },
   {
    "duration": 27,
    "start_time": "2022-06-02T11:39:05.602Z"
   },
   {
    "duration": 31,
    "start_time": "2022-06-02T11:39:37.244Z"
   },
   {
    "duration": 470,
    "start_time": "2022-06-02T11:40:23.930Z"
   },
   {
    "duration": 68,
    "start_time": "2022-06-02T11:40:56.827Z"
   },
   {
    "duration": 396,
    "start_time": "2022-06-02T11:41:37.843Z"
   },
   {
    "duration": 10,
    "start_time": "2022-06-02T11:42:11.816Z"
   },
   {
    "duration": 11,
    "start_time": "2022-06-02T11:42:22.888Z"
   },
   {
    "duration": 194,
    "start_time": "2022-06-02T11:48:18.344Z"
   },
   {
    "duration": 13,
    "start_time": "2022-06-02T11:48:24.844Z"
   },
   {
    "duration": 989,
    "start_time": "2022-06-02T11:54:21.469Z"
   },
   {
    "duration": 530,
    "start_time": "2022-06-02T11:54:22.460Z"
   },
   {
    "duration": 37,
    "start_time": "2022-06-02T11:54:22.991Z"
   },
   {
    "duration": 12,
    "start_time": "2022-06-02T11:54:23.030Z"
   },
   {
    "duration": 37,
    "start_time": "2022-06-02T11:54:23.044Z"
   },
   {
    "duration": 8,
    "start_time": "2022-06-02T11:54:23.083Z"
   },
   {
    "duration": 88,
    "start_time": "2022-06-02T11:54:23.093Z"
   },
   {
    "duration": 5,
    "start_time": "2022-06-02T11:55:14.586Z"
   },
   {
    "duration": 7,
    "start_time": "2022-06-02T11:55:24.029Z"
   },
   {
    "duration": 5,
    "start_time": "2022-06-02T11:59:24.638Z"
   },
   {
    "duration": 106,
    "start_time": "2022-06-02T11:59:46.976Z"
   },
   {
    "duration": 5,
    "start_time": "2022-06-02T12:00:23.165Z"
   },
   {
    "duration": 57,
    "start_time": "2022-06-02T12:00:23.924Z"
   },
   {
    "duration": 113,
    "start_time": "2022-06-02T12:04:25.671Z"
   },
   {
    "duration": 57,
    "start_time": "2022-06-02T12:04:32.424Z"
   },
   {
    "duration": 4,
    "start_time": "2022-06-02T12:04:46.886Z"
   },
   {
    "duration": 82,
    "start_time": "2022-06-02T12:04:48.100Z"
   },
   {
    "duration": 36,
    "start_time": "2022-06-02T12:04:49.274Z"
   },
   {
    "duration": 4,
    "start_time": "2022-06-02T12:05:10.720Z"
   },
   {
    "duration": 35,
    "start_time": "2022-06-02T12:05:11.669Z"
   },
   {
    "duration": 33,
    "start_time": "2022-06-02T12:05:12.796Z"
   },
   {
    "duration": 45,
    "start_time": "2022-06-02T12:05:23.734Z"
   },
   {
    "duration": 37,
    "start_time": "2022-06-02T12:11:20.374Z"
   },
   {
    "duration": 73,
    "start_time": "2022-06-02T12:11:24.509Z"
   },
   {
    "duration": 6,
    "start_time": "2022-06-02T12:59:32.799Z"
   },
   {
    "duration": 10,
    "start_time": "2022-06-02T13:00:00.337Z"
   },
   {
    "duration": 3,
    "start_time": "2022-06-02T13:29:15.200Z"
   },
   {
    "duration": 6,
    "start_time": "2022-06-02T13:30:30.303Z"
   },
   {
    "duration": 324,
    "start_time": "2022-06-02T13:31:13.768Z"
   },
   {
    "duration": 6,
    "start_time": "2022-06-02T13:31:32.612Z"
   },
   {
    "duration": 52,
    "start_time": "2022-06-02T13:31:33.730Z"
   },
   {
    "duration": 6,
    "start_time": "2022-06-02T13:33:02.661Z"
   },
   {
    "duration": 164,
    "start_time": "2022-06-02T13:33:03.518Z"
   },
   {
    "duration": 7,
    "start_time": "2022-06-02T13:33:13.998Z"
   },
   {
    "duration": 252,
    "start_time": "2022-06-02T13:33:15.835Z"
   },
   {
    "duration": 6,
    "start_time": "2022-06-02T13:35:42.929Z"
   },
   {
    "duration": 209,
    "start_time": "2022-06-02T13:35:44.981Z"
   },
   {
    "duration": 6,
    "start_time": "2022-06-02T13:35:58.539Z"
   },
   {
    "duration": 211,
    "start_time": "2022-06-02T13:35:59.375Z"
   },
   {
    "duration": 6,
    "start_time": "2022-06-02T13:40:10.366Z"
   },
   {
    "duration": 191,
    "start_time": "2022-06-02T13:40:10.991Z"
   },
   {
    "duration": 936,
    "start_time": "2022-06-02T13:40:26.025Z"
   },
   {
    "duration": 870,
    "start_time": "2022-06-02T13:40:26.963Z"
   },
   {
    "duration": 50,
    "start_time": "2022-06-02T13:40:27.834Z"
   },
   {
    "duration": 6,
    "start_time": "2022-06-02T13:40:27.886Z"
   },
   {
    "duration": 288,
    "start_time": "2022-06-02T13:40:27.893Z"
   },
   {
    "duration": 0,
    "start_time": "2022-06-02T13:40:28.182Z"
   },
   {
    "duration": 0,
    "start_time": "2022-06-02T13:40:28.184Z"
   },
   {
    "duration": 0,
    "start_time": "2022-06-02T13:40:28.185Z"
   },
   {
    "duration": 5,
    "start_time": "2022-06-02T13:40:52.122Z"
   },
   {
    "duration": 236,
    "start_time": "2022-06-02T13:40:53.644Z"
   },
   {
    "duration": 5,
    "start_time": "2022-06-02T13:41:10.579Z"
   },
   {
    "duration": 205,
    "start_time": "2022-06-02T13:41:11.178Z"
   },
   {
    "duration": 8,
    "start_time": "2022-06-02T13:41:24.729Z"
   },
   {
    "duration": 206,
    "start_time": "2022-06-02T13:41:25.374Z"
   },
   {
    "duration": 50,
    "start_time": "2022-06-02T13:43:40.040Z"
   },
   {
    "duration": 6,
    "start_time": "2022-06-02T13:44:13.782Z"
   },
   {
    "duration": 253,
    "start_time": "2022-06-02T13:44:14.730Z"
   },
   {
    "duration": 17,
    "start_time": "2022-06-02T13:45:27.286Z"
   },
   {
    "duration": 12,
    "start_time": "2022-06-02T13:45:53.954Z"
   },
   {
    "duration": 8,
    "start_time": "2022-06-02T13:46:08.997Z"
   },
   {
    "duration": 14,
    "start_time": "2022-06-02T13:46:09.679Z"
   },
   {
    "duration": 3,
    "start_time": "2022-06-02T13:48:38.595Z"
   },
   {
    "duration": 4,
    "start_time": "2022-06-02T13:49:50.491Z"
   },
   {
    "duration": 6,
    "start_time": "2022-06-02T13:49:53.810Z"
   },
   {
    "duration": 26,
    "start_time": "2022-06-02T13:49:56.793Z"
   },
   {
    "duration": 7,
    "start_time": "2022-06-02T13:50:32.993Z"
   },
   {
    "duration": 183,
    "start_time": "2022-06-02T13:50:34.610Z"
   },
   {
    "duration": 8,
    "start_time": "2022-06-02T13:51:08.094Z"
   },
   {
    "duration": 99,
    "start_time": "2022-06-02T13:51:08.894Z"
   },
   {
    "duration": 6,
    "start_time": "2022-06-02T13:52:39.371Z"
   },
   {
    "duration": 124,
    "start_time": "2022-06-02T13:52:40.669Z"
   },
   {
    "duration": 4,
    "start_time": "2022-06-02T13:52:58.207Z"
   },
   {
    "duration": 6,
    "start_time": "2022-06-02T13:53:00.428Z"
   },
   {
    "duration": 174,
    "start_time": "2022-06-02T13:53:01.507Z"
   },
   {
    "duration": 203,
    "start_time": "2022-06-02T13:53:32.894Z"
   },
   {
    "duration": 164,
    "start_time": "2022-06-02T13:53:34.823Z"
   },
   {
    "duration": 7,
    "start_time": "2022-06-02T13:54:30.064Z"
   },
   {
    "duration": 117,
    "start_time": "2022-06-02T13:54:30.977Z"
   },
   {
    "duration": 10,
    "start_time": "2022-06-02T13:55:04.905Z"
   },
   {
    "duration": 6,
    "start_time": "2022-06-02T13:55:23.918Z"
   },
   {
    "duration": 106,
    "start_time": "2022-06-02T13:55:24.794Z"
   },
   {
    "duration": 9,
    "start_time": "2022-06-02T13:55:28.889Z"
   },
   {
    "duration": 6,
    "start_time": "2022-06-02T13:55:49.347Z"
   },
   {
    "duration": 178,
    "start_time": "2022-06-02T13:55:50.405Z"
   },
   {
    "duration": 5,
    "start_time": "2022-06-02T13:55:52.411Z"
   },
   {
    "duration": 38,
    "start_time": "2022-06-02T14:05:49.432Z"
   },
   {
    "duration": 4,
    "start_time": "2022-06-02T14:05:51.823Z"
   },
   {
    "duration": 40,
    "start_time": "2022-06-02T14:06:04.404Z"
   },
   {
    "duration": 14,
    "start_time": "2022-06-02T14:06:06.223Z"
   },
   {
    "duration": 76,
    "start_time": "2022-06-02T14:07:46.205Z"
   },
   {
    "duration": 78,
    "start_time": "2022-06-02T14:08:09.704Z"
   },
   {
    "duration": 58,
    "start_time": "2022-06-02T14:08:23.331Z"
   },
   {
    "duration": 85,
    "start_time": "2022-06-02T14:08:43.002Z"
   },
   {
    "duration": 17,
    "start_time": "2022-06-02T14:16:15.276Z"
   },
   {
    "duration": 17,
    "start_time": "2022-06-02T14:35:22.218Z"
   },
   {
    "duration": 7,
    "start_time": "2022-06-02T14:35:50.526Z"
   },
   {
    "duration": 16,
    "start_time": "2022-06-02T14:36:01.778Z"
   },
   {
    "duration": 5,
    "start_time": "2022-06-02T14:36:33.112Z"
   },
   {
    "duration": 22,
    "start_time": "2022-06-02T14:38:02.539Z"
   },
   {
    "duration": 4,
    "start_time": "2022-06-02T14:39:05.664Z"
   },
   {
    "duration": 9,
    "start_time": "2022-06-02T14:39:39.795Z"
   },
   {
    "duration": 11,
    "start_time": "2022-06-02T14:39:56.140Z"
   },
   {
    "duration": 11,
    "start_time": "2022-06-02T14:40:19.004Z"
   },
   {
    "duration": 1511,
    "start_time": "2022-06-02T14:53:03.187Z"
   },
   {
    "duration": 1430,
    "start_time": "2022-06-02T14:54:42.798Z"
   },
   {
    "duration": 1512,
    "start_time": "2022-06-02T14:56:32.020Z"
   },
   {
    "duration": 1340,
    "start_time": "2022-06-02T14:57:21.947Z"
   },
   {
    "duration": 1277,
    "start_time": "2022-06-02T14:57:46.920Z"
   },
   {
    "duration": 1289,
    "start_time": "2022-06-02T14:58:28.703Z"
   },
   {
    "duration": 1448,
    "start_time": "2022-06-02T14:58:54.259Z"
   },
   {
    "duration": 1480,
    "start_time": "2022-06-02T15:03:19.859Z"
   },
   {
    "duration": 2090,
    "start_time": "2022-06-02T15:07:10.539Z"
   },
   {
    "duration": 910,
    "start_time": "2022-06-02T15:07:12.631Z"
   },
   {
    "duration": 53,
    "start_time": "2022-06-02T15:07:13.542Z"
   },
   {
    "duration": 4,
    "start_time": "2022-06-02T15:07:13.598Z"
   },
   {
    "duration": 8,
    "start_time": "2022-06-02T15:07:13.604Z"
   },
   {
    "duration": 179,
    "start_time": "2022-06-02T15:07:13.614Z"
   },
   {
    "duration": 196,
    "start_time": "2022-06-02T15:07:13.795Z"
   },
   {
    "duration": 94,
    "start_time": "2022-06-02T15:07:13.997Z"
   },
   {
    "duration": 93,
    "start_time": "2022-06-02T15:07:14.093Z"
   },
   {
    "duration": 14,
    "start_time": "2022-06-02T15:07:14.191Z"
   },
   {
    "duration": 4,
    "start_time": "2022-06-02T15:07:14.207Z"
   },
   {
    "duration": 10,
    "start_time": "2022-06-02T15:07:14.212Z"
   },
   {
    "duration": 8,
    "start_time": "2022-06-02T15:07:14.223Z"
   },
   {
    "duration": 8,
    "start_time": "2022-06-02T15:07:14.232Z"
   },
   {
    "duration": 140,
    "start_time": "2022-06-02T15:07:14.241Z"
   },
   {
    "duration": 0,
    "start_time": "2022-06-02T15:07:14.388Z"
   },
   {
    "duration": 0,
    "start_time": "2022-06-02T15:07:14.389Z"
   },
   {
    "duration": 1292,
    "start_time": "2022-06-02T15:09:22.765Z"
   },
   {
    "duration": 1323,
    "start_time": "2022-06-02T15:09:25.438Z"
   },
   {
    "duration": 1300,
    "start_time": "2022-06-02T15:09:28.430Z"
   },
   {
    "duration": 896,
    "start_time": "2022-06-04T10:55:10.854Z"
   },
   {
    "duration": 1815,
    "start_time": "2022-06-04T10:55:11.752Z"
   },
   {
    "duration": 37,
    "start_time": "2022-06-04T10:55:13.569Z"
   },
   {
    "duration": 10,
    "start_time": "2022-06-04T10:55:13.625Z"
   },
   {
    "duration": 14,
    "start_time": "2022-06-04T10:55:13.637Z"
   },
   {
    "duration": 92,
    "start_time": "2022-06-04T10:55:13.652Z"
   },
   {
    "duration": 281,
    "start_time": "2022-06-04T10:55:13.747Z"
   },
   {
    "duration": 102,
    "start_time": "2022-06-04T10:55:14.030Z"
   },
   {
    "duration": 97,
    "start_time": "2022-06-04T10:55:14.134Z"
   },
   {
    "duration": 11,
    "start_time": "2022-06-04T10:55:14.237Z"
   },
   {
    "duration": 5,
    "start_time": "2022-06-04T10:55:14.250Z"
   },
   {
    "duration": 11,
    "start_time": "2022-06-04T10:55:14.257Z"
   },
   {
    "duration": 8,
    "start_time": "2022-06-04T10:55:14.270Z"
   },
   {
    "duration": 8,
    "start_time": "2022-06-04T10:55:14.280Z"
   },
   {
    "duration": 1592,
    "start_time": "2022-06-04T10:55:14.289Z"
   },
   {
    "duration": 1457,
    "start_time": "2022-06-04T10:55:15.882Z"
   },
   {
    "duration": 1500,
    "start_time": "2022-06-04T10:55:17.344Z"
   },
   {
    "duration": 939,
    "start_time": "2022-06-04T10:55:33.306Z"
   },
   {
    "duration": 534,
    "start_time": "2022-06-04T10:55:34.247Z"
   },
   {
    "duration": 53,
    "start_time": "2022-06-04T10:55:34.783Z"
   },
   {
    "duration": 31,
    "start_time": "2022-06-04T10:55:34.839Z"
   },
   {
    "duration": 27,
    "start_time": "2022-06-04T10:55:34.873Z"
   },
   {
    "duration": 137,
    "start_time": "2022-06-04T10:55:34.902Z"
   },
   {
    "duration": 194,
    "start_time": "2022-06-04T10:55:35.042Z"
   },
   {
    "duration": 209,
    "start_time": "2022-06-04T10:55:35.239Z"
   },
   {
    "duration": 111,
    "start_time": "2022-06-04T10:55:35.454Z"
   },
   {
    "duration": 5,
    "start_time": "2022-06-04T10:55:35.567Z"
   },
   {
    "duration": 19,
    "start_time": "2022-06-04T10:55:35.574Z"
   },
   {
    "duration": 15,
    "start_time": "2022-06-04T10:55:35.595Z"
   },
   {
    "duration": 20,
    "start_time": "2022-06-04T10:55:35.612Z"
   },
   {
    "duration": 17,
    "start_time": "2022-06-04T10:55:35.642Z"
   },
   {
    "duration": 1484,
    "start_time": "2022-06-04T10:55:35.661Z"
   },
   {
    "duration": 1496,
    "start_time": "2022-06-04T10:55:37.147Z"
   },
   {
    "duration": 1459,
    "start_time": "2022-06-04T10:55:38.645Z"
   },
   {
    "duration": 4,
    "start_time": "2022-06-04T11:19:30.707Z"
   },
   {
    "duration": 7,
    "start_time": "2022-06-04T11:22:44.159Z"
   },
   {
    "duration": 16,
    "start_time": "2022-06-04T11:24:07.622Z"
   },
   {
    "duration": 8,
    "start_time": "2022-06-04T11:24:22.303Z"
   },
   {
    "duration": 1662,
    "start_time": "2022-06-04T11:29:56.751Z"
   },
   {
    "duration": 1713,
    "start_time": "2022-06-04T11:32:11.645Z"
   },
   {
    "duration": 1580,
    "start_time": "2022-06-04T11:32:19.448Z"
   },
   {
    "duration": 6,
    "start_time": "2022-06-04T11:35:06.107Z"
   },
   {
    "duration": 8,
    "start_time": "2022-06-04T11:35:12.962Z"
   },
   {
    "duration": 2023,
    "start_time": "2022-06-04T11:44:41.795Z"
   },
   {
    "duration": 1751,
    "start_time": "2022-06-04T11:45:25.894Z"
   },
   {
    "duration": 1493,
    "start_time": "2022-06-04T11:48:30.725Z"
   },
   {
    "duration": 1429,
    "start_time": "2022-06-04T11:48:56.396Z"
   },
   {
    "duration": 1489,
    "start_time": "2022-06-04T11:49:34.031Z"
   },
   {
    "duration": 1452,
    "start_time": "2022-06-04T11:50:07.390Z"
   },
   {
    "duration": 6,
    "start_time": "2022-06-04T11:50:45.107Z"
   },
   {
    "duration": 8,
    "start_time": "2022-06-04T11:50:56.786Z"
   },
   {
    "duration": 1661,
    "start_time": "2022-06-04T11:56:34.001Z"
   },
   {
    "duration": 1482,
    "start_time": "2022-06-04T11:57:45.624Z"
   },
   {
    "duration": 1507,
    "start_time": "2022-06-04T11:57:58.498Z"
   },
   {
    "duration": 7,
    "start_time": "2022-06-04T12:00:21.402Z"
   },
   {
    "duration": 11,
    "start_time": "2022-06-04T12:00:29.727Z"
   },
   {
    "duration": 6,
    "start_time": "2022-06-04T12:00:50.894Z"
   },
   {
    "duration": 8,
    "start_time": "2022-06-04T12:00:57.857Z"
   },
   {
    "duration": 9,
    "start_time": "2022-06-04T12:01:03.254Z"
   },
   {
    "duration": 7,
    "start_time": "2022-06-04T12:01:12.093Z"
   },
   {
    "duration": 7,
    "start_time": "2022-06-04T12:01:19.497Z"
   },
   {
    "duration": 2,
    "start_time": "2022-06-04T12:06:59.734Z"
   },
   {
    "duration": 4,
    "start_time": "2022-06-04T12:07:04.018Z"
   },
   {
    "duration": 1486,
    "start_time": "2022-06-04T12:11:29.602Z"
   },
   {
    "duration": 1467,
    "start_time": "2022-06-04T12:13:16.619Z"
   },
   {
    "duration": 1454,
    "start_time": "2022-06-04T12:15:34.148Z"
   },
   {
    "duration": 36,
    "start_time": "2022-06-04T12:26:33.263Z"
   },
   {
    "duration": 846,
    "start_time": "2022-06-05T19:46:53.240Z"
   },
   {
    "duration": 897,
    "start_time": "2022-06-05T19:46:54.087Z"
   },
   {
    "duration": 43,
    "start_time": "2022-06-05T19:46:54.985Z"
   },
   {
    "duration": 3,
    "start_time": "2022-06-05T19:46:55.030Z"
   },
   {
    "duration": 12,
    "start_time": "2022-06-05T19:46:55.036Z"
   },
   {
    "duration": 179,
    "start_time": "2022-06-05T19:46:55.049Z"
   },
   {
    "duration": 103,
    "start_time": "2022-06-05T19:46:55.231Z"
   },
   {
    "duration": 192,
    "start_time": "2022-06-05T19:46:55.336Z"
   },
   {
    "duration": 101,
    "start_time": "2022-06-05T19:46:55.531Z"
   },
   {
    "duration": 7,
    "start_time": "2022-06-05T19:46:55.633Z"
   },
   {
    "duration": 17,
    "start_time": "2022-06-05T19:46:55.641Z"
   },
   {
    "duration": 12,
    "start_time": "2022-06-05T19:46:55.660Z"
   },
   {
    "duration": 13,
    "start_time": "2022-06-05T19:46:55.673Z"
   },
   {
    "duration": 8,
    "start_time": "2022-06-05T19:46:55.689Z"
   },
   {
    "duration": 1366,
    "start_time": "2022-06-05T19:46:55.698Z"
   },
   {
    "duration": 1247,
    "start_time": "2022-06-05T19:46:57.066Z"
   },
   {
    "duration": 1266,
    "start_time": "2022-06-05T19:46:58.315Z"
   },
   {
    "duration": 1242,
    "start_time": "2022-06-05T19:57:29.154Z"
   },
   {
    "duration": 1204,
    "start_time": "2022-06-05T19:58:37.638Z"
   },
   {
    "duration": 1252,
    "start_time": "2022-06-05T19:58:44.077Z"
   },
   {
    "duration": 1223,
    "start_time": "2022-06-05T19:58:51.938Z"
   },
   {
    "duration": 1188,
    "start_time": "2022-06-05T19:58:59.397Z"
   },
   {
    "duration": 1297,
    "start_time": "2022-06-05T19:59:10.727Z"
   },
   {
    "duration": 826,
    "start_time": "2022-06-05T19:59:20.144Z"
   },
   {
    "duration": 474,
    "start_time": "2022-06-05T19:59:20.972Z"
   },
   {
    "duration": 30,
    "start_time": "2022-06-05T19:59:21.448Z"
   },
   {
    "duration": 4,
    "start_time": "2022-06-05T19:59:21.480Z"
   },
   {
    "duration": 6,
    "start_time": "2022-06-05T19:59:21.485Z"
   },
   {
    "duration": 138,
    "start_time": "2022-06-05T19:59:21.492Z"
   },
   {
    "duration": 197,
    "start_time": "2022-06-05T19:59:21.632Z"
   },
   {
    "duration": 200,
    "start_time": "2022-06-05T19:59:21.832Z"
   },
   {
    "duration": 101,
    "start_time": "2022-06-05T19:59:22.034Z"
   },
   {
    "duration": 5,
    "start_time": "2022-06-05T19:59:22.138Z"
   },
   {
    "duration": 7,
    "start_time": "2022-06-05T19:59:22.144Z"
   },
   {
    "duration": 9,
    "start_time": "2022-06-05T19:59:22.153Z"
   },
   {
    "duration": 7,
    "start_time": "2022-06-05T19:59:22.163Z"
   },
   {
    "duration": 9,
    "start_time": "2022-06-05T19:59:22.171Z"
   },
   {
    "duration": 1265,
    "start_time": "2022-06-05T19:59:22.181Z"
   },
   {
    "duration": 1207,
    "start_time": "2022-06-05T19:59:23.447Z"
   },
   {
    "duration": 1254,
    "start_time": "2022-06-05T19:59:24.655Z"
   },
   {
    "duration": 1331,
    "start_time": "2022-06-05T20:00:25.641Z"
   },
   {
    "duration": 1267,
    "start_time": "2022-06-05T20:00:37.244Z"
   },
   {
    "duration": 1241,
    "start_time": "2022-06-05T20:01:23.461Z"
   },
   {
    "duration": 1300,
    "start_time": "2022-06-05T20:02:05.603Z"
   },
   {
    "duration": 5,
    "start_time": "2022-06-05T20:05:44.091Z"
   },
   {
    "duration": 29,
    "start_time": "2022-06-05T20:05:53.831Z"
   },
   {
    "duration": 115,
    "start_time": "2022-06-05T20:06:07.695Z"
   },
   {
    "duration": 7,
    "start_time": "2022-06-05T20:06:16.950Z"
   },
   {
    "duration": 8,
    "start_time": "2022-06-05T20:06:21.819Z"
   },
   {
    "duration": 9,
    "start_time": "2022-06-05T20:07:10.030Z"
   },
   {
    "duration": 3,
    "start_time": "2022-06-05T20:07:16.365Z"
   },
   {
    "duration": 6,
    "start_time": "2022-06-05T20:07:26.696Z"
   },
   {
    "duration": 5,
    "start_time": "2022-06-05T20:08:20.550Z"
   },
   {
    "duration": 4,
    "start_time": "2022-06-05T20:09:06.788Z"
   },
   {
    "duration": 5,
    "start_time": "2022-06-05T20:10:58.680Z"
   },
   {
    "duration": 4,
    "start_time": "2022-06-05T20:11:09.744Z"
   },
   {
    "duration": 1304,
    "start_time": "2022-06-05T20:11:14.401Z"
   },
   {
    "duration": 4,
    "start_time": "2022-06-05T20:11:16.772Z"
   },
   {
    "duration": 4,
    "start_time": "2022-06-05T20:11:38.415Z"
   },
   {
    "duration": 1211,
    "start_time": "2022-06-05T20:11:40.756Z"
   },
   {
    "duration": 5,
    "start_time": "2022-06-05T20:12:03.157Z"
   },
   {
    "duration": 829,
    "start_time": "2022-06-05T20:12:17.048Z"
   },
   {
    "duration": 451,
    "start_time": "2022-06-05T20:12:17.879Z"
   },
   {
    "duration": 32,
    "start_time": "2022-06-05T20:12:18.332Z"
   },
   {
    "duration": 4,
    "start_time": "2022-06-05T20:12:18.366Z"
   },
   {
    "duration": 6,
    "start_time": "2022-06-05T20:12:18.373Z"
   },
   {
    "duration": 152,
    "start_time": "2022-06-05T20:12:18.381Z"
   },
   {
    "duration": 194,
    "start_time": "2022-06-05T20:12:18.535Z"
   },
   {
    "duration": 198,
    "start_time": "2022-06-05T20:12:18.731Z"
   },
   {
    "duration": 108,
    "start_time": "2022-06-05T20:12:18.931Z"
   },
   {
    "duration": 4,
    "start_time": "2022-06-05T20:12:19.040Z"
   },
   {
    "duration": 5,
    "start_time": "2022-06-05T20:12:19.045Z"
   },
   {
    "duration": 12,
    "start_time": "2022-06-05T20:12:19.051Z"
   },
   {
    "duration": 10,
    "start_time": "2022-06-05T20:12:19.064Z"
   },
   {
    "duration": 6,
    "start_time": "2022-06-05T20:12:19.076Z"
   },
   {
    "duration": 1245,
    "start_time": "2022-06-05T20:12:19.084Z"
   },
   {
    "duration": 5,
    "start_time": "2022-06-05T20:12:20.330Z"
   },
   {
    "duration": 1194,
    "start_time": "2022-06-05T20:12:20.337Z"
   },
   {
    "duration": 4,
    "start_time": "2022-06-05T20:12:21.533Z"
   },
   {
    "duration": 1212,
    "start_time": "2022-06-05T20:12:21.538Z"
   },
   {
    "duration": 5,
    "start_time": "2022-06-05T20:12:22.752Z"
   }
  ],
  "kernelspec": {
   "display_name": "Python 3 (ipykernel)",
   "language": "python",
   "name": "python3"
  },
  "language_info": {
   "codemirror_mode": {
    "name": "ipython",
    "version": 3
   },
   "file_extension": ".py",
   "mimetype": "text/x-python",
   "name": "python",
   "nbconvert_exporter": "python",
   "pygments_lexer": "ipython3",
   "version": "3.9.12"
  },
  "toc": {
   "base_numbering": 1,
   "nav_menu": {},
   "number_sections": true,
   "sideBar": true,
   "skip_h1_title": true,
   "title_cell": "Table of Contents",
   "title_sidebar": "Contents",
   "toc_cell": false,
   "toc_position": {},
   "toc_section_display": true,
   "toc_window_display": false
  }
 },
 "nbformat": 4,
 "nbformat_minor": 2
}
